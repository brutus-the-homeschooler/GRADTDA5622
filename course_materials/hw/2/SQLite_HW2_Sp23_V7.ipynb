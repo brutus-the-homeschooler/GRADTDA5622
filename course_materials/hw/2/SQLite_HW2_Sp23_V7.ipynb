{
 "cells": [
  {
   "cell_type": "markdown",
   "metadata": {},
   "source": [
    "# GRADTDA5622 - Big Data Computing Foundations 2\n",
    "## Homework 2: Manipulating Data with SQL\n",
    "- Semester: Spring 2023\n",
    "- Instructor: Tom Bihari\n",
    "- Section: N/A\n",
    "- Student Name: Able Baker **(fill in)**\n",
    "- Student Email: baker.12345@osu.edu **(fill in)**\n",
    "- Student ID: 123456789 **(fill in)**\n",
    "***"
   ]
  },
  {
   "cell_type": "markdown",
   "metadata": {
    "tags": []
   },
   "source": [
    "***\n",
    "# Section: Overview\n",
    "***"
   ]
  },
  {
   "cell_type": "markdown",
   "metadata": {},
   "source": [
    "**The Objectives of This Assignment are:**\n",
    "1. To gain experience using SQL to manipulate data to solve problems and answer questions.\n",
    "\n",
    "**Instructions:**\n",
    "- **Follow the instructions** in each section.\n",
    "- **Fill in** the **Conclusions** section."
   ]
  },
  {
   "cell_type": "markdown",
   "metadata": {
    "tags": []
   },
   "source": [
    "***\n",
    "# Section: Setup\n",
    "- Add any needed imports, helper functions, etc., here.\n",
    "- **I added all of these helper functions... Tom Bihari**\n",
    "***"
   ]
  },
  {
   "cell_type": "code",
   "execution_count": null,
   "metadata": {
    "tags": []
   },
   "outputs": [],
   "source": [
    "import os\n",
    "import pandas as pd\n",
    "import sqlite3 as sq\n",
    "\n",
    "pd.set_option('display.max_rows', None)\n",
    "pd.set_option('display.max_columns', None)\n",
    "pd.set_option('display.width', None)\n",
    "pd.set_option('display.max_colwidth', None)\n",
    "\n",
    "data_directory = \"../shared_Sp23/\"  # Set this to the appropriate directory for your setup."
   ]
  },
  {
   "cell_type": "code",
   "execution_count": null,
   "metadata": {
    "tags": []
   },
   "outputs": [],
   "source": [
    "# Connect to a SQLite database (will be created if it doesn't exist).\n",
    "def connect_db(file_name):\n",
    "    if not os.path.isfile(file_name):\n",
    "        print('Database file does not exist and will be created.')\n",
    "    try:\n",
    "        conn = sq.connect(file_name)\n",
    "        print(\"Database connection established.\")\n",
    "        return conn\n",
    "    except Error:\n",
    "        print(Error)\n",
    "        return None"
   ]
  },
  {
   "cell_type": "code",
   "execution_count": null,
   "metadata": {
    "tags": []
   },
   "outputs": [],
   "source": [
    "# Create a cursor to use to access the data.\n",
    "def get_cursor(connection):\n",
    "    try:\n",
    "        cur = connection.cursor()\n",
    "        print('Cursor created.')\n",
    "        return cur\n",
    "    except Error:\n",
    "        print(Error)\n",
    "        return None"
   ]
  },
  {
   "cell_type": "code",
   "execution_count": null,
   "metadata": {},
   "outputs": [],
   "source": [
    "# Close the connection to the database.\n",
    "def close_db(connection, cursor):\n",
    "    connection.commit()\n",
    "    cursor.close()\n",
    "    connection.close()"
   ]
  },
  {
   "cell_type": "code",
   "execution_count": null,
   "metadata": {},
   "outputs": [],
   "source": [
    "# Create a SQLite table by reading a CSV file.  Uses Pandas.\n",
    "def create_table_from_csv(connection, file_name, table_name):\n",
    "    pdf = pd.read_csv(file_name)\n",
    "    create_table_from_dataframe(connection, pdf, table_name)"
   ]
  },
  {
   "cell_type": "code",
   "execution_count": null,
   "metadata": {},
   "outputs": [],
   "source": [
    "# Create a SQLite table by reading a worksheet in an excel file.  Uses Pandas.\n",
    "def create_table_from_excel(connection, file_name, sheet_name, table_name):\n",
    "    pdf = pd.read_excel(file_name, sheet_name)\n",
    "    create_table_from_dataframe(connection, pdf, table_name)"
   ]
  },
  {
   "cell_type": "code",
   "execution_count": null,
   "metadata": {},
   "outputs": [],
   "source": [
    "# Create a SQLite table from a Pandas DataFrame.\n",
    "def create_table_from_dataframe(connection, pdf, table_name):\n",
    "    pdf.to_sql(table_name, connection, if_exists='replace', index = False)"
   ]
  },
  {
   "cell_type": "code",
   "execution_count": null,
   "metadata": {},
   "outputs": [],
   "source": [
    "# Create a Pandas DataFrame from a SQLite cursor.\n",
    "def create_dataframe_from_cursor(cursor):\n",
    "    cols = [column[0] for column in cursor.description]\n",
    "    return pd.DataFrame.from_records(data = cursor.fetchall(), columns = cols)"
   ]
  },
  {
   "cell_type": "code",
   "execution_count": null,
   "metadata": {},
   "outputs": [],
   "source": [
    "# Create a Pandas DataFrame from a SQLite table (or view).\n",
    "#   Or could do: df = pd.read_sql_query(\"SELECT * FROM table_name\", cnx)\n",
    "#   See: https://stackoverflow.com/questions/36028759/how-to-open-and-convert-sqlite-database-to-pandas-dataframe\n",
    "def create_dataframe_from_table(connection, table_name):\n",
    "    cursor = run_query(connection,'SELECT * FROM \"' + table_name + '\"')\n",
    "    cols = [column[0] for column in cursor.description]\n",
    "    return pd.DataFrame.from_records(data = cursor.fetchall(), columns = cols)"
   ]
  },
  {
   "cell_type": "code",
   "execution_count": null,
   "metadata": {},
   "outputs": [],
   "source": [
    "# Run a SQLite query and return the result.\n",
    "def run_query(conn_or_cur, query_string):\n",
    "    try:\n",
    "        result = conn_or_cur.execute(query_string)\n",
    "    except:\n",
    "        print(\"Query error\")\n",
    "        result = None\n",
    "    return result"
   ]
  },
  {
   "cell_type": "code",
   "execution_count": null,
   "metadata": {},
   "outputs": [],
   "source": [
    "# Replace text \\n and \\t with actual newline and tab characters.\n",
    "def clean_string(strng):\n",
    "    return str(strng).replace('\\\\n', '\\n').replace('\\\\t', '\\t')"
   ]
  },
  {
   "cell_type": "code",
   "execution_count": null,
   "metadata": {
    "tags": []
   },
   "outputs": [],
   "source": [
    "# Print query results up to a specified max number of records).\n",
    "def print_result(cursor, max_num_records):\n",
    "    print(\"------------------------------------------\")\n",
    "    df = create_dataframe_from_cursor(cursor)\n",
    "    #print(df.head(max_num_records))\n",
    "    display(df.head(max_num_records))\n",
    "    print(\"------------------------------------------\")"
   ]
  },
  {
   "cell_type": "code",
   "execution_count": null,
   "metadata": {},
   "outputs": [],
   "source": [
    "def print_all_table_and_view_names(conn_or_cur):\n",
    "    result = run_query(conn_or_cur,'SELECT name from sqlite_master where type= \"table\"')\n",
    "    print(\"\\nALL TABLE NAMES: \",result.fetchall())\n",
    "    result = run_query(conn_or_cur,'SELECT name from sqlite_master where type= \"view\"')\n",
    "    print(\"ALL VIEW NAMES:  \",result.fetchall())"
   ]
  },
  {
   "cell_type": "code",
   "execution_count": null,
   "metadata": {
    "tags": []
   },
   "outputs": [],
   "source": [
    "def print_schema(conn_or_cur, table_or_view_name):\n",
    "    #https://www.sqlite.com/schematab.html\n",
    "    # Table \"sqlite_schema\" is correct, but \"sqlite_master\" is used for backward compatibility.)\n",
    "    result = run_query(conn_or_cur,'SELECT sql from sqlite_master where name= \"' + table_or_view_name + '\"')\n",
    "    print(\"\\nSCHEMA: \" + table_or_view_name)\n",
    "    print(clean_string(result.fetchall()))"
   ]
  },
  {
   "cell_type": "code",
   "execution_count": null,
   "metadata": {
    "tags": []
   },
   "outputs": [],
   "source": [
    "def print_table_or_view(conn_or_cur, table_name, max_num_records):\n",
    "    print(\"\\nTABLE/VIEW: \" + table_name)\n",
    "    result = run_query(conn_or_cur,'SELECT * FROM \"' + table_name + '\"')\n",
    "    print_result(result, max_num_records)"
   ]
  },
  {
   "cell_type": "markdown",
   "metadata": {
    "tags": []
   },
   "source": [
    "---\n",
    "# Set up a Database\n",
    "- Create a blank database.\n",
    "- Create three tables from the **state-abbrevs.csv**, **state-areas.csv**, and **state-populations.csv** files in the shared data folder.\n",
    "- **I have done these steps for you**, from the SQL Examples notebook.\n",
    "---"
   ]
  },
  {
   "cell_type": "markdown",
   "metadata": {
    "tags": []
   },
   "source": [
    "## Connect to a blank database"
   ]
  },
  {
   "cell_type": "code",
   "execution_count": null,
   "metadata": {
    "tags": []
   },
   "outputs": [],
   "source": [
    "# Connect to the database and get a cursor to access the data.\n",
    "#conn = connect(r'SQLiteUSStatesData.db')  # a file database\n",
    "conn = connect_db(r':memory:')             # an in-memory database\n",
    "cur = get_cursor(conn)  # not needed for these examples, but kept for compatibility"
   ]
  },
  {
   "cell_type": "markdown",
   "metadata": {
    "tags": []
   },
   "source": [
    "## Create some tables by reading data from CSV files"
   ]
  },
  {
   "cell_type": "code",
   "execution_count": null,
   "metadata": {
    "tags": []
   },
   "outputs": [],
   "source": [
    "create_table_from_csv(conn, data_directory + 'state-abbrevs.csv', 'abbrevs_table')\n",
    "print_schema(conn,\"abbrevs_table\")\n",
    "print_table_or_view(conn, \"abbrevs_table\", 3) # Show a few example records"
   ]
  },
  {
   "cell_type": "code",
   "execution_count": null,
   "metadata": {},
   "outputs": [],
   "source": [
    "create_table_from_csv(conn, data_directory + 'state-areas.csv', 'areas_table')\n",
    "#print_schema(conn,\"areas_table\")\n",
    "print_table_or_view(conn, \"areas_table\", 3) # Show a few example records"
   ]
  },
  {
   "cell_type": "code",
   "execution_count": null,
   "metadata": {
    "tags": []
   },
   "outputs": [],
   "source": [
    "create_table_from_csv(conn, data_directory + 'state-populations.csv', 'populations_table')\n",
    "#print_schema(conn,\"populations_table\")\n",
    "print_table_or_view(conn, \"populations_table\", 3) # Show a few example records"
   ]
  },
  {
   "cell_type": "code",
   "execution_count": null,
   "metadata": {
    "tags": []
   },
   "outputs": [],
   "source": [
    "print_all_table_and_view_names(conn)"
   ]
  },
  {
   "cell_type": "markdown",
   "metadata": {
    "tags": []
   },
   "source": [
    "---\n",
    "# Task 1: Create a Table of Summarized State Populations\n",
    "- Get the min, average, and max total and under18 populations for each of the states over all years.\n",
    "- Call the table **summarized_state_populations**.\n",
    "- The table should have the following fields:\n",
    "  - state, ages, min_pop, avg_pop, max_pop\n",
    "  - It should be sorted by **state** (from A to Z), and within each state, by **under18** age range first, then **total** age range. \n",
    "---"
   ]
  },
  {
   "cell_type": "code",
   "execution_count": null,
   "metadata": {
    "tags": []
   },
   "outputs": [],
   "source": [
    "# Fill in the blanks\n",
    "run_query(conn,'DROP TABLE IF EXISTS summarized_state_populations') # Delete the table if it already exists\n",
    "\n",
    "run_query(conn,'''\n",
    "    CREATE TABLE IF NOT EXISTS summarized_state_populations\n",
    "    AS SELECT state, ages, ...\n",
    "    FROM populations_table\n",
    "    GROUP BY ...\n",
    "    ORDER BY ...\n",
    "    ''')\n",
    "\n",
    "print_table_or_view(conn, \"summarized_state_populations\", 3)"
   ]
  },
  {
   "cell_type": "markdown",
   "metadata": {
    "tags": []
   },
   "source": [
    "---\n",
    "# Task 2: Print the Top 3 States with the Largest Normalized Population Swings\n",
    "- Consider the difference between max and min \"total\" populations for each state.\n",
    "- Normalize by dividing by the average population for the state.\n",
    "- You can use the table from the previous query.\n",
    "---"
   ]
  },
  {
   "cell_type": "code",
   "execution_count": null,
   "metadata": {
    "tags": []
   },
   "outputs": [],
   "source": [
    "# Fill in the blanks\n",
    "\n",
    "result = run_query(conn,'''\n",
    "    SELECT state, min_pop, max_pop, ...\n",
    "    FROM summarized_state_populations\n",
    "    WHERE ages = \"total\"\n",
    "    ORDER BY ...\n",
    "    ''')\n",
    "\n",
    "print_result(result, 3)"
   ]
  },
  {
   "cell_type": "markdown",
   "metadata": {
    "tags": []
   },
   "source": [
    "---\n",
    "# Task 3: Create a Table of Population Densities\n",
    "- Follow each of the individual steps below.  There likely are shorter ways to do this task, but this way the steps are explicit.\n",
    "- I have given the shells of some of the queries, so you can \"fill in the blanks\".\n",
    "- I have included the expected outputs, so you can see if yours matches.\n",
    "- Name the table **population_densities_table**\n",
    "- The table should have the following fields:\n",
    "  - state_abbrev\n",
    "  - state_name\n",
    "  - area\n",
    "  - year\n",
    "  - population_total\n",
    "  - population_under_18\n",
    "  - population_18_and_over\n",
    "  - density_total\n",
    "  - density_under_18\n",
    "  - density_18_and_over\n",
    "---"
   ]
  },
  {
   "cell_type": "markdown",
   "metadata": {
    "tags": []
   },
   "source": [
    "## Create a \"pop_and_name_table\"\n",
    "- Join the populations_table and abbrevs_table.\n",
    "- Table should have fields: state_abbrev, state_name, ages, year, population."
   ]
  },
  {
   "cell_type": "code",
   "execution_count": null,
   "metadata": {},
   "outputs": [],
   "source": [
    "run_query(conn,'DROP TABLE IF EXISTS pop_and_name_table') # Delete the table if it already exists\n",
    "\n",
    "result = run_query(conn,'''\n",
    "    CREATE TABLE IF NOT EXISTS pop_and_name_table\n",
    "    AS SELECT populations_table.state AS state_abbrev, abbrevs_table.state AS state_name, ...\n",
    "    FROM (populations_table LEFT OUTER JOIN ...)\n",
    "    ''')\n",
    "\n",
    "print_table_or_view(conn, \"pop_and_name_table\", 3) # Show a few records"
   ]
  },
  {
   "cell_type": "raw",
   "metadata": {},
   "source": [
    "EXPECTED: TABLE/VIEW: pop_and_name_table\n",
    "------------------------------------------\n",
    "  state_abbrev state_name     ages  year  population\n",
    "0           AL    Alabama  under18  2012   1117489.0\n",
    "1           AL    Alabama    total  2012   4817528.0\n",
    "2           AL    Alabama  under18  2010   1130966.0\n",
    "------------------------------------------"
   ]
  },
  {
   "cell_type": "markdown",
   "metadata": {
    "tags": []
   },
   "source": [
    "## Create a \"pop_name_area_density_table\"\n",
    "- Join the pop_and_name_table and areas_table.\n",
    "- Table should have fields: state_abbrev, state_name, ages, year, population, area, density."
   ]
  },
  {
   "cell_type": "code",
   "execution_count": null,
   "metadata": {
    "tags": []
   },
   "outputs": [],
   "source": [
    "run_query(conn,'DROP TABLE IF EXISTS pop_name_area_density_table') # Delete the table if it already exists\n",
    "\n",
    "result = run_query(conn,'''\n",
    "    CREATE TABLE IF NOT EXISTS pop_name_area_density_table\n",
    "    AS SELECT pop_and_name_table.*, areas_table.area, ...\n",
    "    FROM (pop_and_name_table LEFT OUTER JOIN areas_table ...)\n",
    "    ORDER BY year ASC, state_abbrev ASC, ages ASC\n",
    "    ''')\n",
    "\n",
    "print_table_or_view(conn, \"pop_name_area_density_table\", 3) # Show a few records"
   ]
  },
  {
   "cell_type": "raw",
   "metadata": {},
   "source": [
    "EXPECTED: TABLE/VIEW: pop_name_area_density_table\n",
    "------------------------------------------\n",
    "  state_abbrev state_name     ages  year  population      area    density\n",
    "0           AK     Alaska    total  1990    553290.0  656425.0   0.842884\n",
    "1           AK     Alaska  under18  1990    177502.0  656425.0   0.270407\n",
    "2           AL    Alabama    total  1990   4050055.0   52423.0  77.257215\n",
    "------------------------------------------"
   ]
  },
  {
   "cell_type": "markdown",
   "metadata": {
    "tags": []
   },
   "source": [
    "## Create an \"under18_table\"\n",
    "- Select only the \"under18\" ages records from the pop_name_area_density_table.\n",
    "- Table should have fields: state_abbrev, state_name, year, population, area, density."
   ]
  },
  {
   "cell_type": "code",
   "execution_count": null,
   "metadata": {},
   "outputs": [],
   "source": [
    "run_query(conn,'DROP TABLE IF EXISTS under18_table') # Delete the table if it already exists\n",
    "\n",
    "result = run_query(conn,'''\n",
    "    CREATE TABLE IF NOT EXISTS under18_table\n",
    "    AS SELECT state_abbrev, state_name, year, ...\n",
    "    FROM pop_name_area_density_table\n",
    "    WHERE ages = ...\n",
    "    ORDER BY year ASC, state_abbrev ASC\n",
    "    ''')\n",
    "\n",
    "print_table_or_view(conn, \"under18_table\", 3) # Show a few records"
   ]
  },
  {
   "cell_type": "raw",
   "metadata": {},
   "source": [
    "EXPECTED: TABLE/VIEW: under18_table\n",
    "------------------------------------------\n",
    "  state_abbrev state_name  year  population      area    density\n",
    "0           AK     Alaska  1990    177502.0  656425.0   0.270407\n",
    "1           AL    Alabama  1990   1050041.0   52423.0  20.030159\n",
    "2           AR   Arkansas  1990    620933.0   53182.0  11.675623\n",
    "------------------------------------------"
   ]
  },
  {
   "cell_type": "markdown",
   "metadata": {
    "tags": []
   },
   "source": [
    "## Create a \"total_table\"\n",
    "- Select only the \"total\" ages records from the pop_name_area_density_table.\n",
    "- Table should have fields: state_abbrev, state_name, year, population, area, density."
   ]
  },
  {
   "cell_type": "code",
   "execution_count": null,
   "metadata": {},
   "outputs": [],
   "source": [
    "run_query(conn,'DROP TABLE IF EXISTS total_table') # Delete the table if it already exists\n",
    "\n",
    "result = run_query(conn,'''\n",
    "    CREATE TABLE IF NOT EXISTS total_table\n",
    "    AS SELECT state_abbrev, ...\n",
    "    FROM pop_name_area_density_table\n",
    "    WHERE ages = \"total\"\n",
    "    ORDER BY ...\n",
    "    ''')\n",
    "\n",
    "print_table_or_view(conn, \"total_table\", 3) # Show a few records"
   ]
  },
  {
   "cell_type": "raw",
   "metadata": {},
   "source": [
    "EXPECTED: TABLE/VIEW: total_table\n",
    "------------------------------------------\n",
    "  state_abbrev state_name  year  population      area    density\n",
    "0           AK     Alaska  1990    553290.0  656425.0   0.842884\n",
    "1           AL    Alabama  1990   4050055.0   52423.0  77.257215\n",
    "2           AR   Arkansas  1990   2356586.0   53182.0  44.311722\n",
    "------------------------------------------"
   ]
  },
  {
   "cell_type": "markdown",
   "metadata": {
    "tags": []
   },
   "source": [
    "## Create a \"total_and_under18_table\"\n",
    "- Join the under18_table and total_table.\n",
    "- Table should have fields: state_abbrev, state_name, year, area, total_pop, total_density, under18_pop, under18_density."
   ]
  },
  {
   "cell_type": "code",
   "execution_count": null,
   "metadata": {
    "tags": []
   },
   "outputs": [],
   "source": [
    "run_query(conn,'DROP TABLE IF EXISTS total_and_under18_table') # Delete the table if it already exists\n",
    "\n",
    "result = run_query(conn,'''\n",
    "    CREATE TABLE IF NOT EXISTS total_and_under18_table\n",
    "    AS SELECT total_table.state_abbrev, total_table.state_name, total_table.year, total_table.area, \n",
    "        total_table.population as total_pop, total_table.density as total_density, under18_table.population as under18_pop, under18_table.density as ...\n",
    "    FROM (total_table LEFT OUTER JOIN under18_table ON\n",
    "        (total_table.state_abbrev = under18_table.state_abbrev AND total_table.year = ...))\n",
    "    ''')\n",
    "\n",
    "print_table_or_view(conn, \"total_and_under18_table\", 3) # Show a few records"
   ]
  },
  {
   "cell_type": "raw",
   "metadata": {},
   "source": [
    "EXPECTED: TABLE/VIEW: total_and_under18_table\n",
    "------------------------------------------\n",
    "  state_abbrev state_name  year      area  total_pop  total_density  \\\n",
    "0           AK     Alaska  1990  656425.0   553290.0       0.842884   \n",
    "1           AL    Alabama  1990   52423.0  4050055.0      77.257215   \n",
    "2           AR   Arkansas  1990   53182.0  2356586.0      44.311722   \n",
    "\n",
    "   under18_pop  under18_density  \n",
    "0     177502.0         0.270407  \n",
    "1    1050041.0        20.030159  \n",
    "2     620933.0        11.675623  \n",
    "------------------------------------------"
   ]
  },
  {
   "cell_type": "markdown",
   "metadata": {
    "tags": []
   },
   "source": [
    "## Create a \"total_under18_over18_table\"\n",
    "- Start with the total_and_under18_table and calculate columns for the over18_pop, over18_density.\n",
    "- Actually, we mean \"18 and over\", not \"over 18\".\n",
    "- Table should have fields: state_abbrev, state_name, year, area, total_pop, total_density, under18_pop, under18_density, over18_pop, over18_density."
   ]
  },
  {
   "cell_type": "code",
   "execution_count": null,
   "metadata": {},
   "outputs": [],
   "source": [
    "run_query(conn,'DROP TABLE IF EXISTS total_under18_over18_table') # Delete the table if it already exists\n",
    "\n",
    "result = run_query(conn,'''\n",
    "    CREATE TABLE IF NOT EXISTS total_under18_over18_table\n",
    "    AS SELECT *, (total_pop - under18_pop) as over18_pop, (...) as over18_density\n",
    "    FROM total_and_under18_table\n",
    "    ORDER BY year ASC, state_abbrev ASC\n",
    "    ''')\n",
    "\n",
    "print_table_or_view(conn, \"total_under18_over18_table\", 3) # Show a few records"
   ]
  },
  {
   "cell_type": "raw",
   "metadata": {},
   "source": [
    "EXPECTED: TABLE/VIEW: total_under18_over18_table\n",
    "------------------------------------------\n",
    "  state_abbrev state_name  year      area  total_pop  total_density  \\\n",
    "0           AK     Alaska  1990  656425.0   553290.0       0.842884   \n",
    "1           AL    Alabama  1990   52423.0  4050055.0      77.257215   \n",
    "2           AR   Arkansas  1990   53182.0  2356586.0      44.311722   \n",
    "\n",
    "   under18_pop  under18_density  over18_pop  over18_density  \n",
    "0     177502.0         0.270407    375788.0        0.572477  \n",
    "1    1050041.0        20.030159   3000014.0       57.227057  \n",
    "2     620933.0        11.675623   1735653.0       32.636099  \n",
    "------------------------------------------"
   ]
  },
  {
   "cell_type": "markdown",
   "metadata": {
    "tags": []
   },
   "source": [
    "## Create the final population_densities_table\"\n",
    "- Start with the total_under18_over18_table.\n",
    "- Rename and reorder the columns to match the original request.\n",
    "- Sort by year and state abbreviation, ascending.\n",
    "- Table should have fields: state_abbrev, state_name, area, year, \n",
    "  - population_total, population_under_18, population_18_and_over, density_total, density_under_18, density_18_and_over."
   ]
  },
  {
   "cell_type": "code",
   "execution_count": null,
   "metadata": {
    "tags": []
   },
   "outputs": [],
   "source": [
    "run_query(conn,'DROP TABLE IF EXISTS population_densities_table') # Delete the table if it already exists\n",
    "\n",
    "result = run_query(conn,'''\n",
    "    CREATE TABLE IF NOT EXISTS population_densities_table\n",
    "    AS SELECT state_abbrev, state_name, area, year, total_pop AS population_total, ...,\n",
    "        total_density AS density_total, under18_density as density_under_18, over18_density as density_18_and_over\n",
    "    FROM total_under18_over18_table\n",
    "    ORDER BY year ASC, state_abbrev ASC\n",
    "    ''')\n",
    "\n",
    "print_table_or_view(conn, \"population_densities_table\", 10) # Show a few records"
   ]
  },
  {
   "cell_type": "raw",
   "metadata": {
    "tags": []
   },
   "source": [
    "EXPECTED: TABLE/VIEW: population_densities_table\n",
    "------------------------------------------\n",
    "  state_abbrev            state_name      area  year  population_total  \\\n",
    "0           AK                Alaska  656425.0  1990          553290.0   \n",
    "1           AL               Alabama   52423.0  1990         4050055.0   \n",
    "2           AR              Arkansas   53182.0  1990         2356586.0   \n",
    "3           AZ               Arizona  114006.0  1990         3684097.0   \n",
    "4           CA            California  163707.0  1990        29959515.0   \n",
    "5           CO              Colorado  104100.0  1990         3307618.0   \n",
    "6           CT           Connecticut    5544.0  1990         3291967.0   \n",
    "7           DC  District of Columbia      68.0  1990          605321.0   \n",
    "8           DE              Delaware    1954.0  1990          669567.0   \n",
    "9           FL               Florida   65758.0  1990        13033307.0   \n",
    "\n",
    "   population_under_18  population_18_and_over  density_total  \\\n",
    "0             177502.0                375788.0       0.842884   \n",
    "1            1050041.0               3000014.0      77.257215   \n",
    "2             620933.0               1735653.0      44.311722   \n",
    "3            1006040.0               2678057.0      32.314940   \n",
    "4            7980501.0              21979014.0     183.006927   \n",
    "5             881640.0               2425978.0      31.773468   \n",
    "6             752666.0               2539301.0     593.789141   \n",
    "7             112632.0                492689.0    8901.779412   \n",
    "8             165628.0                503939.0     342.664790   \n",
    "9            2988807.0              10044500.0     198.201086   \n",
    "\n",
    "   density_under_18  density_18_and_over  \n",
    "0          0.270407             0.572477  \n",
    "1         20.030159            57.227057  \n",
    "2         11.675623            32.636099  \n",
    "3          8.824448            23.490492  \n",
    "4         48.748685           134.258242  \n",
    "5          8.469164            23.304304  \n",
    "6        135.762266           458.026876  \n",
    "7       1656.352941          7245.426471  \n",
    "8         84.763562           257.901228  \n",
    "9         45.451610           152.749475  \n",
    "------------------------------------------"
   ]
  },
  {
   "cell_type": "markdown",
   "metadata": {},
   "source": [
    "---\n",
    "# Cleanup and Close the Current Database\n",
    "---"
   ]
  },
  {
   "cell_type": "code",
   "execution_count": null,
   "metadata": {
    "tags": []
   },
   "outputs": [],
   "source": [
    "close_db(conn, cur)"
   ]
  },
  {
   "cell_type": "markdown",
   "metadata": {
    "tags": []
   },
   "source": [
    "---\n",
    "# Task 4: Process Datasets with SQL and Answer Questions - From Scratch\n",
    "In this Task, you will load several datasets into a new database.  You then will process the data and answer the following questions.  The code in Tasks 1-3 above can be used as examples.\n",
    "\n",
    "The data is in an Excel file: 'MiscWikipediaCountryData.xls'.  You may open the file in Excel and look at it if you like.  The file contains four worksheets: GovernmentData, InternetData, IncomeEqualityData, and IncomePerCapitaData.\n",
    "\n",
    "**Context and Hints**\n",
    "- We are interested only in UN_Member countries.\n",
    "- We don't care about the Year information.  We will assume that the data is relevant for the current year.\n",
    "- Each dataset contains some of the information needed to answer the questions, so you will have to combine the information.  Consider building a single table \"common_country_table\" with columns:\n",
    "  - **Country, Constitutional_Form, Head_Of_State, Subregion, Region, Population, Rich_Poor_Income_Ratio (use the CIA_RP10 column), Per_Capita_Income (use the IMF_Estimate column)**\n",
    "  - Consider using JOIN operations.\n",
    "- There is an issue with the data (as is usually the case...): Each dataset has a column that contains the country's name.  However, the datasets may contain different subsets of countries, and the country names may be spelled differently.  What should you do?  Here are some options:\n",
    "  1. Treat one of the datasets (e.g., GovernmentData) as the primary dataset, and join the other datasets' data to the primary dataset IF you find a match; otherwise, join null information.\n",
    "      - Pros: Gives a consistent set of countries.  Cons: Some fields will be null.\n",
    "  2. Treat all of the datasets as \"equal\" and join information only if you find matching country names in all datasets.\n",
    "      - Pros: No null fields, unless they were null in the original datasets.  Cons: A row will appear only if the country name appears in ALL datasets, so some countries will be missing!\n",
    "  3. Do a deeper analysis and try to fix as many country name mismatches as possible.  Then join them.\n",
    "      - Pros: May results in cleaner / more complete final product.  Cons: Difficult and probably manual work.\n",
    "  4. Create a combined table of all of the country names across all of the datasets, and join all four datasets to that table.\n",
    "      - Pros: Result will contain all information from all datasets.  Cons: A single real country may appear in multiple rows with different country names.\n",
    "\n",
    "For simplicity, let's go with option 2.  What kind of JOIN accomplishes this?\n",
    "\n",
    "To start things off, the initial setup has been given to you below.  Beneath that, you can fill in your own code.\n",
    "\n",
    "---"
   ]
  },
  {
   "cell_type": "markdown",
   "metadata": {
    "tags": []
   },
   "source": [
    "## Connect to a blank database"
   ]
  },
  {
   "cell_type": "code",
   "execution_count": null,
   "metadata": {
    "tags": []
   },
   "outputs": [],
   "source": [
    "# Connect to the database and get a cursor to access the data.\n",
    "conn = connect_db(r':memory:')             # an in-memory database\n",
    "cur = get_cursor(conn)  # not needed for these examples, but kept for compatibility"
   ]
  },
  {
   "cell_type": "markdown",
   "metadata": {
    "tags": []
   },
   "source": [
    "## Create four tables by reading data from the Excel file\n",
    "- Review the Excel file iself to see the source and metadata for the datasets.\n",
    "- Both .xls and .xlsx versions of the Excel file are provided in the data directory.  Some Python installations may not recognize the .xlsx version, so use what works for you.\n",
    "- Create four tables: **govt_table**, **internet_table**, **income_eq_table**, **income_perc_table**. The govt_table is already done for you."
   ]
  },
  {
   "cell_type": "code",
   "execution_count": null,
   "metadata": {
    "tags": []
   },
   "outputs": [],
   "source": [
    "create_table_from_excel(conn, data_directory + 'MiscWikipediaCountryData.xls', 'GovernmentData', 'govt_table')\n",
    "print_schema(conn,\"govt_table\")\n",
    "print_table_or_view(conn, \"govt_table\", 3) # Show a few example records"
   ]
  },
  {
   "cell_type": "code",
   "execution_count": null,
   "metadata": {
    "tags": []
   },
   "outputs": [],
   "source": [
    "create_table_from_excel(conn, data_directory + 'MiscWikipediaCountryData.xls', 'InternetData', 'internet_table')\n",
    "print_schema(conn,\"internet_table\")\n",
    "print_table_or_view(conn, \"internet_table\", 3) # Show a few example records"
   ]
  },
  {
   "cell_type": "code",
   "execution_count": null,
   "metadata": {
    "tags": []
   },
   "outputs": [],
   "source": [
    "create_table_from_excel(conn, data_directory + 'MiscWikipediaCountryData.xls', 'IncomeEqualityData', 'income_eq_table')\n",
    "print_schema(conn,\"income_eq_table\")\n",
    "print_table_or_view(conn, \"income_eq_table\", 3) # Show a few example records"
   ]
  },
  {
   "cell_type": "code",
   "execution_count": null,
   "metadata": {
    "tags": []
   },
   "outputs": [],
   "source": [
    "create_table_from_excel(conn, data_directory + 'MiscWikipediaCountryData.xls', 'IncomePerCapitaData', 'income_perc_table')\n",
    "print_schema(conn,\"income_perc_table\")\n",
    "print_table_or_view(conn, \"income_perc_table\", 3) # Show a few example records"
   ]
  },
  {
   "cell_type": "markdown",
   "metadata": {
    "tags": []
   },
   "source": [
    "---\n",
    "## Your Code\n",
    "In the area below, write the SQL code to answer the following questions.  You may add / modify / delete cells as you wish.  Make sure you include comments that describe:\n",
    "- What you are trying to do, and why.\n",
    "- How you are doing it (comments in code, if appropriate).\n",
    "- Your results or findings, if any.\n",
    "\n",
    "**Answer These Questions:**\n",
    "1. What is the Population of each Region?\n",
    "2. Which Constitutional_Form has the highest Population, for counties that have reported their Population?\n",
    "3. Which Constitutional_Form has the highest average Per_Capita_Income, for counties that have reported their Per_Capita_Income?\n",
    "4. Which Country has the lowest average Rich_Poor_Income_Ratio, for counties that have reported their Rich_Poor_Income_Ratio?\n",
    "5. What is the [Region, Subregion, Country, Population] of each of the 10 most populous countries in our dataset?  What is unrealistic about this answer?\n",
    "6. What are the top 10 Countries in terms of total income (consider Population * Per_Capita_Income)?\n",
    "---"
   ]
  },
  {
   "cell_type": "code",
   "execution_count": null,
   "metadata": {},
   "outputs": [],
   "source": []
  },
  {
   "cell_type": "code",
   "execution_count": null,
   "metadata": {},
   "outputs": [],
   "source": []
  },
  {
   "cell_type": "code",
   "execution_count": null,
   "metadata": {},
   "outputs": [],
   "source": []
  },
  {
   "cell_type": "markdown",
   "metadata": {},
   "source": [
    "---\n",
    "# Cleanup and Close the Current Database\n",
    "---"
   ]
  },
  {
   "cell_type": "code",
   "execution_count": null,
   "metadata": {
    "tags": []
   },
   "outputs": [],
   "source": [
    "close_db(conn, cur)"
   ]
  },
  {
   "cell_type": "markdown",
   "metadata": {
    "tags": []
   },
   "source": [
    "***\n",
    "# Section: Conclusions\n",
    "- What did you learn from this exercise?\n",
    "***"
   ]
  },
  {
   "cell_type": "code",
   "execution_count": null,
   "metadata": {
    "tags": []
   },
   "outputs": [],
   "source": [
    "# Fill this in."
   ]
  }
 ],
 "metadata": {
  "kernelspec": {
   "display_name": "Python 3 (ipykernel)",
   "language": "python",
   "name": "python3"
  },
  "language_info": {
   "codemirror_mode": {
    "name": "ipython",
    "version": 3
   },
   "file_extension": ".py",
   "mimetype": "text/x-python",
   "name": "python",
   "nbconvert_exporter": "python",
   "pygments_lexer": "ipython3",
   "version": "3.7.10"
  }
 },
 "nbformat": 4,
 "nbformat_minor": 4
}
