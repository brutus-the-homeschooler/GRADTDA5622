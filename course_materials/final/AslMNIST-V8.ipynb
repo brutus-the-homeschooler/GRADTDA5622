{
 "cells": [
  {
   "cell_type": "markdown",
   "metadata": {
    "tags": []
   },
   "source": [
    "# GRADTDA5622 - Big Data Computing Foundations 2\n",
    "## Final Project: Sign Language Translator\n",
    "Replace the example information below with your real information:\n",
    "- Semester: Spring/Autumn 20xx (FILL IN)\n",
    "- Instructor: Mr. X (FILL IN)\n",
    "- Section: 12345 (FILL IN) (if applicable)\n",
    "- Student Name(s): Able Baker (FILL IN)\n",
    "- Student Email(s): baker.12345@osu.edu (FILL IN)\n",
    "- Student ID(s): 123456789  (FILL IN)\n",
    "***"
   ]
  },
  {
   "cell_type": "markdown",
   "metadata": {
    "tags": []
   },
   "source": [
    "***\n",
    "# Section: Overview\n",
    "- Insert a short description of the scope of this exercise, any supporting information, etc.\n",
    "- **(I will fill this in for each assignment - Tom Bihari)**\n",
    "***"
   ]
  },
  {
   "cell_type": "markdown",
   "metadata": {},
   "source": [
    "### Assignment Overview\n",
    "In this assignment, you will build a sign language translator.\n",
    "\n",
    "**The Objectives of This Assignment are:**\n",
    "1. To perform a classification task on image data, using the K-Nearest-Neighbors algorithm from the SciKit-Learn library (https://sklearn.org/).\n",
    "2. To understand domain-independent evaluation measures.\n",
    "3. To understand the impact meta-parameters have in algorithm performance\n",
    "4. To develop a tool that uses the classification model that was developed.\n",
    "5. To get practice discussing / explaining your results, findings, and insights.\n",
    "\n",
    "### Problem Statement\n",
    "Assume that you are the Director of Data Science for American Signing, Inc. (ASI), a company that provides innovative sign-language solutions.  ASI has new technology that can capture American Sign Language images in real time.  ASI would like your team to design a new product that can translate ASL images to text.\n",
    "\n",
    "### Things To Do\n",
    "The follow the instructions for each step in the sections below.\n",
    "\n",
    "### Notes\n",
    "\n",
    "- This dataset has exactly the same format as the \"standard\" MNIST dataset that is widely used.  See the link below for the documentation of the dataset.  You also can search for MNIST in the web.\n",
    "  - This dataset was pulled on 4/13/23 from: https://www.kaggle.com/code/madz2000/cnn-using-keras-100-accuracy\n",
    "  - See also: https://en.wikipedia.org/wiki/MNIST_database\n",
    "  - These are 28x28 gray-scale pixel images, with 256-color (or gray-scale) values.\n",
    "- You will use the KNN classifier that is provided in the SciKit Learn library (similar to the Case Studies you have done).  You do not need to write your own.\n",
    "- You will be adjusting the number of training records for the exercise (so it runs reasonably fast), so you do not need to run the algorithm on \"all\" training records.\n",
    "- Some code is provided (partially filled in) to assist in the development of the final product - this is a starting point.  You may adjust it as you choose.\n",
    "- By the way, this exercise is identical to one where, for example, the images are medical scans, etc., and you are trying to classify cells as diseased or healthy.  (There are lots of MNIST examples on the web.)\n",
    "\n",
    "It is essential that you **communicate** your goals, thought process, actions, results, and conclusions to the **audience** that will consume this work.  It is **not enough** to show just the code.  It is not appropriate to show long sections of **unexplained printout**, etc.  Be kind to your readers and provide value to them!\n",
    "\n",
    "**ALWAYS follow this pattern** when doing **each portion** of the work.  This allows us to give feedback and assign scores, and to give partial credit.  Make it easy for the reader to understand your work.\n",
    "- Say (briefly) **what** you are trying to do, and **why**.\n",
    "- Do it (code).\n",
    "- Show or describe the **result** clearly (and briefly as needed), and explain the significant **conclusions or insights** derived from the results. \n",
    "\n",
    "**HAVE FUN!**"
   ]
  },
  {
   "cell_type": "markdown",
   "metadata": {},
   "source": [
    "***\n",
    "# Setup"
   ]
  },
  {
   "cell_type": "code",
   "execution_count": null,
   "metadata": {},
   "outputs": [],
   "source": [
    "import pandas as pd\n",
    "import numpy as np\n",
    "import matplotlib.pyplot as plt\n",
    "from sklearn.metrics import classification_report, confusion_matrix\n",
    "from sklearn.neighbors import KNeighborsClassifier\n",
    "from sklearn.metrics import accuracy_score\n",
    "import time"
   ]
  },
  {
   "cell_type": "code",
   "execution_count": null,
   "metadata": {},
   "outputs": [],
   "source": [
    "# Convert label numbers 0-25 to characters A-Z\n",
    "def label_to_letter(label_num):\n",
    "    return chr(ord('A') + label_num)\n",
    "\n",
    "# Convert characters A-Z to label numbers 0-25\n",
    "def letter_to_label(letter):\n",
    "    return ord(letter) - ord('A')\n",
    "\n",
    "# Take a numpy array of y labels (true or predicted) and build a string with the decoded letters \n",
    "def y_labels_to_string(y_array):\n",
    "    st = \"\"\n",
    "    for num in np.nditer(y_array):\n",
    "        st += label_to_letter(num)\n",
    "    return st"
   ]
  },
  {
   "cell_type": "markdown",
   "metadata": {},
   "source": [
    "***\n",
    "# Read the Data"
   ]
  },
  {
   "cell_type": "code",
   "execution_count": null,
   "metadata": {},
   "outputs": [],
   "source": [
    "# Read the training data\n",
    "train_pdf = pd.read_csv('../shared/sign_mnist_train.csv')"
   ]
  },
  {
   "cell_type": "code",
   "execution_count": null,
   "metadata": {},
   "outputs": [],
   "source": [
    "# Read the test data\n",
    "test_pdf = pd.read_csv('../shared/sign_mnist_test.csv')\n",
    "test_pdf.describe()"
   ]
  },
  {
   "cell_type": "markdown",
   "metadata": {},
   "source": [
    "***\n",
    "# Pre-process the Data for Use"
   ]
  },
  {
   "cell_type": "code",
   "execution_count": null,
   "metadata": {},
   "outputs": [],
   "source": [
    "# Normally, you might do EDA here to analyze and handle missing or bad values, transform or eliminate columns, scale values, etc.\n",
    "# We don't have to do this with this dataset."
   ]
  },
  {
   "cell_type": "code",
   "execution_count": null,
   "metadata": {},
   "outputs": [],
   "source": [
    "# Split the training and test datasets into X and y parts.\n",
    "# y contains the labels (first column)\n",
    "# X contains the attributes (remaining columns of the dataset)\n",
    "\n",
    "train_row_count = train_pdf.shape[0]  # Gives number of rows\n",
    "train_col_count = train_pdf.shape[1]  # Gives number of columns\n",
    "test_row_count  =  test_pdf.shape[0]  # Gives number of rows\n",
    "test_col_count  =  test_pdf.shape[1]  # Gives number of columns\n",
    "print(train_row_count,train_col_count,test_row_count,test_col_count)\n",
    "\n",
    "num_train = 6000  # Trim the number of training rows to use (you will adjust this later when optimizing)\n",
    "num_test  = 1000  # Trim the number of test rows to use (don't change this)\n",
    "\n",
    "y_train = train_pdf.iloc[:num_train, 0]\n",
    "X_train = train_pdf.iloc[:num_train, 1:-1]\n",
    "\n",
    "y_test = test_pdf.iloc[:num_test, 0]\n",
    "X_test = test_pdf.iloc[:num_test, 1:-1]"
   ]
  },
  {
   "cell_type": "markdown",
   "metadata": {},
   "source": [
    "***\n",
    "# Run the K-Nearest-Neighbors Algorithm"
   ]
  },
  {
   "cell_type": "code",
   "execution_count": null,
   "metadata": {},
   "outputs": [],
   "source": [
    "# Set a value for K (you will adjust this later when optimizing)\n",
    "K = 5"
   ]
  },
  {
   "cell_type": "code",
   "execution_count": null,
   "metadata": {},
   "outputs": [],
   "source": [
    "# Initialize the SciKit-Learn classifer and fit the data (train the classifier)\n",
    "classifier = KNeighborsClassifier(n_neighbors=K, metric='euclidean', weights='distance')\n",
    "classifier.fit(X_train, y_train)"
   ]
  },
  {
   "cell_type": "code",
   "execution_count": null,
   "metadata": {},
   "outputs": [],
   "source": [
    "# Predict the test data\n",
    "y_pred = classifier.predict(X_test)"
   ]
  },
  {
   "cell_type": "code",
   "execution_count": null,
   "metadata": {},
   "outputs": [],
   "source": [
    "# Compute confusion matrix, classification report, and accuracy score\n",
    "conf_matrix = confusion_matrix(y_test,y_pred)\n",
    "classif_report = classification_report(y_test,y_pred)\n",
    "\n",
    "print('Confusion Matrix (Rows=Actual, Cols=Predicted)')\n",
    "print(conf_matrix)\n",
    "print('\\nClassification Report')\n",
    "print(classif_report)\n",
    "print('\\nAccuracy:', accuracy_score(y_test,y_pred))"
   ]
  },
  {
   "cell_type": "markdown",
   "metadata": {},
   "source": [
    "## Evaluate the classification errors\n",
    "- Describe the errors qualitatively.  What do you notice?"
   ]
  },
  {
   "cell_type": "code",
   "execution_count": null,
   "metadata": {},
   "outputs": [],
   "source": [
    "# Add your text here"
   ]
  },
  {
   "cell_type": "code",
   "execution_count": null,
   "metadata": {},
   "outputs": [],
   "source": [
    "# Show an image taken from a row in an image dataframe (e.g., test_df).\n",
    "import matplotlib.pyplot as plt\n",
    "def show_image(caption,pixels):\n",
    "    plt.figure(figsize=(1, 1))\n",
    "    plt.gca().axes.get_xaxis().set_visible(False)\n",
    "    plt.gca().axes.get_yaxis().set_visible(False)\n",
    "    plt.title(caption)\n",
    "    image = np.asarray(pixels).reshape((28,28))  #print(image.shape)\n",
    "#    https://matplotlib.org/stable/tutorials/colors/colormaps.html\n",
    "#    plt.imshow(image, cmap='gray', vmin = 0, vmax = 255, interpolation='none') #with grayscale colormap\n",
    "    plt.imshow(image) #with default colormap (viridis)\n",
    "    plt.show()"
   ]
  },
  {
   "cell_type": "code",
   "execution_count": null,
   "metadata": {},
   "outputs": [],
   "source": [
    "# Show test records that are mis-classified.\n",
    "max_to_show = 5  # Limit the display\n",
    "shown = 0\n",
    "for i in range(min(len(y_test), len(y_pred))):\n",
    "    if(y_pred[i] != y_test[i]):\n",
    "        my_pred_label = y_pred[i]\n",
    "        my_true_label  = y_test[i]\n",
    "        my_pixels = test_pdf.iloc[i,1:]\n",
    "        caption = \"Record=\" + str(i) + \\\n",
    "            \".  True label=\" +      str(my_true_label) + \": \" + label_to_letter(my_true_label) + \\\n",
    "            \".  Predicted label=\" + str(my_pred_label) + \": \" + label_to_letter(my_pred_label) + \".\"\n",
    "        show_image(caption,my_pixels)\n",
    "        shown += 1\n",
    "        if shown >= max_to_show:\n",
    "            print(\"Not all shown.\")\n",
    "            break"
   ]
  },
  {
   "cell_type": "markdown",
   "metadata": {},
   "source": [
    "***\n",
    "# Optimize\n",
    "- Now we want to see how the behavior of the algorithm changes based on the meta-parameters.  The inputs are:\n",
    "  - Different values for **K**\n",
    "  - Different values for **num_train** (number of training records)\n",
    "- The metrics are:\n",
    "  - Accuracy\n",
    "  - Running Time (This is secondary, but helps ensure the processing doesn't take too long.)"
   ]
  },
  {
   "cell_type": "markdown",
   "metadata": {},
   "source": [
    "## Take the code you created above and make it into a single function with this shape:\n",
    "- my_accuracy, my_running_time = **run_knn**( K, num_train )"
   ]
  },
  {
   "cell_type": "code",
   "execution_count": null,
   "metadata": {},
   "outputs": [],
   "source": [
    "def run_knn(K,num_train):\n",
    "    # Fill in\n",
    "    return acc, run_time"
   ]
  },
  {
   "cell_type": "markdown",
   "metadata": {},
   "source": [
    "## Try various values for **K** and graph the results\n",
    "- Try K = 1-20 or so.\n",
    "- Use 6000 for num_train\n",
    "- Choose a \"best\" value for K"
   ]
  },
  {
   "cell_type": "code",
   "execution_count": null,
   "metadata": {},
   "outputs": [],
   "source": [
    "# Fill in"
   ]
  },
  {
   "cell_type": "code",
   "execution_count": null,
   "metadata": {},
   "outputs": [],
   "source": [
    "# Graph Accuracy:\n",
    "plt.figure(figsize=(12, 6))\n",
    "plt.plot(Ks, accus, color='red', linestyle='dashed', marker='o', markerfacecolor='blue', markersize=10)\n",
    "plt.title('Accuracy per K Value')\n",
    "plt.xlabel('K Value')\n",
    "plt.ylabel('Accuracy')"
   ]
  },
  {
   "cell_type": "code",
   "execution_count": null,
   "metadata": {},
   "outputs": [],
   "source": [
    "# Explain, in your words, what you observe in the results."
   ]
  },
  {
   "cell_type": "markdown",
   "metadata": {},
   "source": [
    "## Try various values for **num_train** and graph the results\n",
    "- Try num_train for several values in multiples of 1000.\n",
    "- Use a value for K that worked well above.\n",
    "- Choose a \"best\" value for num_train."
   ]
  },
  {
   "cell_type": "code",
   "execution_count": null,
   "metadata": {},
   "outputs": [],
   "source": [
    "# Fill in"
   ]
  },
  {
   "cell_type": "code",
   "execution_count": null,
   "metadata": {
    "tags": []
   },
   "outputs": [],
   "source": [
    "# Graph Accuracy\n",
    "# Fill in"
   ]
  },
  {
   "cell_type": "code",
   "execution_count": null,
   "metadata": {},
   "outputs": [],
   "source": [
    "# Explain, in your words, what you observe in the results."
   ]
  },
  {
   "cell_type": "markdown",
   "metadata": {},
   "source": [
    "***\n",
    "# Create a Sign Language to Text Translator\n",
    "- Now we want to build a translator that takes as input a CSV file of sign language images and prints out the corresponding text.\n",
    "- The translator will work as follows:\n",
    "  - Based on the experiments you ran above, choose a \"best\" K value and \"num_train\" value.\n",
    "  - Create a new classifier using these parameters and train it on the training data (as you did above).\n",
    "  - Create a function \"translate_signs_to_text\" that processes a CSV file of images."
   ]
  },
  {
   "cell_type": "markdown",
   "metadata": {},
   "source": [
    "## Based on the code you created above and make it into a single function with this shape:\n"
   ]
  },
  {
   "cell_type": "code",
   "execution_count": null,
   "metadata": {},
   "outputs": [],
   "source": [
    "# Initialize a SciKit-Learn classifer and fit the data (train the classifier)\n",
    "#   with the \"best\" configuration parameters you \"chose\" above.\n",
    "\n",
    "chosen_K = ...          # Fill this in\n",
    "chosen_num_train = ...  # Fill this in\n",
    "\n",
    "y_train = ...\n",
    "X_train = ...\n",
    "\n",
    "chosen_classifier = ...\n",
    "chosen_classifier.fit(X_train, y_train)"
   ]
  },
  {
   "cell_type": "code",
   "execution_count": null,
   "metadata": {},
   "outputs": [],
   "source": [
    "# Fill in this function\n",
    "def translate_signs_to_text(input_sign_csv_filename):\n",
    "    # read the CSV file\n",
    "    input_pdf = ...\n",
    "\n",
    "    # create X and y tables from the dataframe\n",
    "    y_true = ...\n",
    "    X      = ...\n",
    "\n",
    "    # predict the y values\n",
    "    y_pred = ...\n",
    "    \n",
    "    # return the true text, predicted text, and the accuracy\n",
    "    accuracy = ...\n",
    "    true_text = y_labels_to_string(y_true)\n",
    "    pred_text = ...\n",
    "    return true_text, pred_text, accuracy"
   ]
  },
  {
   "cell_type": "code",
   "execution_count": null,
   "metadata": {
    "tags": []
   },
   "outputs": [],
   "source": [
    "# Translate Message1\n",
    "true_text, pred_text, acc = translate_signs_to_text('../shared/sign_mnist_message1.csv')\n",
    "print(\"PRED:\",pred_text)\n",
    "# Guess the actual message."
   ]
  },
  {
   "cell_type": "code",
   "execution_count": null,
   "metadata": {
    "tags": []
   },
   "outputs": [],
   "source": [
    "# Now print the true message and the accuracy.  Were you right?\n",
    "print(\"TRUE:\",true_text)\n",
    "print(\"ACC: \",acc)"
   ]
  },
  {
   "cell_type": "code",
   "execution_count": null,
   "metadata": {},
   "outputs": [],
   "source": [
    "# Translate Message2\n",
    "true_text, pred_text, acc = translate_signs_to_text('../shared/sign_mnist_message2.csv')\n",
    "print(\"PRED:\",pred_text)\n",
    "# Guess the actual message."
   ]
  },
  {
   "cell_type": "code",
   "execution_count": null,
   "metadata": {
    "tags": []
   },
   "outputs": [],
   "source": [
    "# Now print the true message and the accuracy.  Were you right?\n",
    "print(\"TRUE:\",true_text)\n",
    "print(\"ACC: \",acc)"
   ]
  },
  {
   "cell_type": "code",
   "execution_count": null,
   "metadata": {},
   "outputs": [],
   "source": [
    "# Translate Message3\n",
    "true_text, pred_text, acc = translate_signs_to_text('../shared/sign_mnist_message3.csv')\n",
    "print(\"PRED:\",pred_text)\n",
    "# Guess the actual message."
   ]
  },
  {
   "cell_type": "code",
   "execution_count": null,
   "metadata": {
    "tags": []
   },
   "outputs": [],
   "source": [
    "# Now print the true message and the accuracy.  Were you right?  (What is the source of this quote?)\n",
    "print(\"TRUE:\",true_text)\n",
    "print(\"ACC: \",acc)"
   ]
  },
  {
   "cell_type": "markdown",
   "metadata": {
    "tags": []
   },
   "source": [
    "***\n",
    "# Optional Extra Credit: Create a Text to Sign Language Translator\n",
    "- Now we want to build a translator function that takes as input a text string and outputs a CSV file of sign language images.\n",
    "  - Create a function \"translate_text_to_signs\" as below.\n",
    "  - Try the translator on several text strings (and use the translate_signs_to_text function above to check the results). "
   ]
  },
  {
   "cell_type": "code",
   "execution_count": null,
   "metadata": {},
   "outputs": [],
   "source": [
    "def translate_text_to_signs(input_string, output_sign_csv_filename):\n",
    "    # Hints:\n",
    "    # Create a blank dataframe of the same shape as the dataframes above.\n",
    "    # For each character in the input string:\n",
    "    #   Find a row in an existing dataframe that matches that character.\n",
    "    #   Copy that row to the new dataframe.\n",
    "    # Write the final dataframe to the CSV file.\n",
    "    return"
   ]
  },
  {
   "cell_type": "code",
   "execution_count": null,
   "metadata": {},
   "outputs": [],
   "source": []
  },
  {
   "cell_type": "markdown",
   "metadata": {},
   "source": [
    "***\n",
    "# Write a summary of what you have learned in this exercise."
   ]
  },
  {
   "cell_type": "code",
   "execution_count": null,
   "metadata": {},
   "outputs": [],
   "source": [
    "# Add your text here"
   ]
  }
 ],
 "metadata": {
  "kernelspec": {
   "display_name": "Python 3 (ipykernel)",
   "language": "python",
   "name": "python3"
  },
  "language_info": {
   "codemirror_mode": {
    "name": "ipython",
    "version": 3
   },
   "file_extension": ".py",
   "mimetype": "text/x-python",
   "name": "python",
   "nbconvert_exporter": "python",
   "pygments_lexer": "ipython3",
   "version": "3.7.10"
  }
 },
 "nbformat": 4,
 "nbformat_minor": 4
}
