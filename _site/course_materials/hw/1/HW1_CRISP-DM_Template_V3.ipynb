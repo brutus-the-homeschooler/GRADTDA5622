{
 "cells": [
  {
   "cell_type": "markdown",
   "metadata": {},
   "source": [
    "# GRADTDA5622 - Big Data Computing Foundations 2\n",
    "## Homework 1: CRISP-DM Business Understanding\n",
    "- Semester: Spring 2022\n",
    "- Instructor: Tom Bihari\n",
    "- Section: N/A\n",
    "- Student Name: Able Baker **(fill in)**\n",
    "- Student Email: baker.12345@osu.edu **(fill in)**\n",
    "- Student ID: 123456789 **(fill in)**\n",
    "\n",
    "Based on CRISP-DM Template Version V1.\n",
    "***"
   ]
  },
  {
   "cell_type": "markdown",
   "metadata": {
    "tags": []
   },
   "source": [
    "***\n",
    "# Section: Overview\n",
    "- Insert a short description of the scope of this exercise, any supporting information, etc.\n",
    "- **(I will fill this in for each assignment - Tom Bihari)**\n",
    "***"
   ]
  },
  {
   "attachments": {
    "1df06f88-5505-434c-9198-542cce8db5bf.JPG": {
     "image/jpeg": "[encoded data removed]"
    }
   },
   "cell_type": "markdown",
   "metadata": {},
   "source": [
    "**The Objectives of This Assignment are:**\n",
    "1. To gain experience in performing the Business Understanding step of the CRISP-DM methodology.\n",
    "\n",
    "**Instructions:**\n",
    "- **Read** the Business Problem.\n",
    "- **Fill in** the **Business Understanding** section.\n",
    "- **Fill in** the **Conclusions** section.\n",
    "- **Ignore the other sections**.  We will address them later.  (I filled some of these sections with code you can **play with if you like**.)\n",
    "\n",
    "**Business Problem:**\n",
    "\n",
    "You are the Director of Data Science for Top Dog Athletics, Inc.  TDAI is an online clothing store that sells the following products:\n",
    "\n",
    "0. T-shirt/top\n",
    "1. Trouser\n",
    "2. Pullover\n",
    "3. Dress\n",
    "4. Coat\n",
    "5. Sandal\n",
    "6. Shirt\n",
    "7. Sneaker\n",
    "8. Bag\n",
    "9. Ankle boot\n",
    "\n",
    "The Vice President of Production has asked your team to develop an image recognition system that can be put into production.  The system will classify an image of a product traveling down a conveyor belt in the shipping facility, and ensure it is the correct type for the customer's order.  TDAI ships an average of **1000 products per day**.  The cost of correctly or incorrectly classifying a product, based on its image, is as follows:\n",
    "\n",
    "- **Correct classifications** produce a **$5 profit**.\n",
    "\n",
    "- **Mis-classifications** produce a **$10 loss** (due to customer returns).\n",
    "\n",
    "**Example Image:**\n",
    "\n",
    "![ExampleImage.JPG](attachment:1df06f88-5505-434c-9198-542cce8db5bf.JPG)"
   ]
  },
  {
   "cell_type": "markdown",
   "metadata": {},
   "source": [
    "***\n",
    "# Section: Setup\n",
    "- Add any needed imports, helper functions, etc., here.\n",
    "***"
   ]
  },
  {
   "cell_type": "code",
   "execution_count": 13,
   "metadata": {},
   "outputs": [],
   "source": [
    "import pandas as pd\n",
    "import numpy as np\n",
    "import matplotlib.pyplot as plt\n",
    "from sklearn.metrics import classification_report, confusion_matrix\n",
    "from sklearn.neighbors import KNeighborsClassifier\n",
    "from sklearn.metrics import accuracy_score\n",
    "import time"
   ]
  },
  {
   "cell_type": "code",
   "execution_count": 14,
   "metadata": {},
   "outputs": [],
   "source": [
    "# Create a dictinary of label names, for future use.\n",
    "label_names = {0:\"T-shirt/top\",1:\"Trouser\",2:\"Pullover\",3:\"Dress\",4:\"Coat\",5:\"Sandal\",6:\"Shirt\",7:\"Sneaker\",8:\"Bag\",9:\"Ankle boot\"}"
   ]
  },
  {
   "cell_type": "code",
   "execution_count": 15,
   "metadata": {},
   "outputs": [],
   "source": [
    "# Show an image taken from a record in the data.\n",
    "import matplotlib.pyplot as plt\n",
    "def show_image(caption,pixels):\n",
    "    print(caption)\n",
    "    image = np.asarray(pixels).reshape((28,28))\n",
    "    # See, for other colormaps: https://matplotlib.org/stable/tutorials/colors/colormaps.html\n",
    "    # plt.imshow(image, cmap='gray', vmin = 0, vmax = 255, interpolation='none') #with grayscale colormap\n",
    "    plt.imshow(image) #with default colormap (viridis)\n",
    "    plt.show()"
   ]
  },
  {
   "cell_type": "markdown",
   "metadata": {},
   "source": [
    "***\n",
    "# Section: 1 - Business Understanding\n",
    "- Consider the following questions and discuss the possible answers to them in the spaces below.\n",
    "- It is OK to say that you do not know.  How might you get answers to the questions?\n",
    "- You may consider some of the questions to be \"not applicable\".  If so, why?\n",
    "- You may choose to use markdown instead of raw text in the answer cells, to make them \"pretty\" and easy to read.\n",
    "***"
   ]
  },
  {
   "cell_type": "markdown",
   "metadata": {},
   "source": [
    "**Context**\n",
    "- What is the overview, history, big picture?"
   ]
  },
  {
   "cell_type": "raw",
   "metadata": {},
   "source": [
    "You can keep this short for this simple example...  OR, if you like, you can use your own experience to add \"interesting\" aspects to the story, based on your own experience.  What interesting or \"dysfunctional\" aspects might there be?  What might happen if you do not address these interesting aspects?"
   ]
  },
  {
   "cell_type": "markdown",
   "metadata": {},
   "source": [
    "**Business Objectives**\n",
    "- What is the problem or opportunity to be addressed / solved?\n",
    "- What is its business value?"
   ]
  },
  {
   "cell_type": "code",
   "execution_count": null,
   "metadata": {},
   "outputs": [],
   "source": []
  },
  {
   "cell_type": "markdown",
   "metadata": {},
   "source": [
    "**Stakeholders**\n",
    "- Who are they?\n",
    "- What are their needs?"
   ]
  },
  {
   "cell_type": "code",
   "execution_count": null,
   "metadata": {},
   "outputs": [],
   "source": []
  },
  {
   "cell_type": "markdown",
   "metadata": {
    "tags": []
   },
   "source": [
    "**General Goals**\n",
    "- Understand the past/current state (descriptive)?\n",
    "- Predict the future (predictive)?\n",
    "- Mine for unknown patterns / insights?\n",
    "- Answer questions?  What are they?\n",
    "- Support decisions?  What are they?"
   ]
  },
  {
   "cell_type": "code",
   "execution_count": null,
   "metadata": {
    "tags": []
   },
   "outputs": [],
   "source": []
  },
  {
   "cell_type": "markdown",
   "metadata": {
    "tags": []
   },
   "source": [
    "**Scope**\n",
    "- What is the specific scope of the project?\n",
    "- What, specifically, is NOT in scope?  (What are you not doing that someone might think you are doing?)\n",
    "Is the scope flexible?  In what way?"
   ]
  },
  {
   "cell_type": "code",
   "execution_count": null,
   "metadata": {},
   "outputs": [],
   "source": []
  },
  {
   "cell_type": "markdown",
   "metadata": {},
   "source": [
    "**Deliverables**\n",
    "- Report?\n",
    "- Reusable code?\n",
    "- Presentation?"
   ]
  },
  {
   "cell_type": "code",
   "execution_count": null,
   "metadata": {},
   "outputs": [],
   "source": []
  },
  {
   "cell_type": "markdown",
   "metadata": {},
   "source": [
    "**Success Criteria**\n",
    "- What, specifically, must be accomplished for this project to be a success?"
   ]
  },
  {
   "cell_type": "code",
   "execution_count": null,
   "metadata": {},
   "outputs": [],
   "source": []
  },
  {
   "cell_type": "markdown",
   "metadata": {},
   "source": [
    "**Solution Approach**\n",
    "- Is this a “one time” (throw away) solution?\n",
    "- Or will the solution become part of repeated process that is used and enhanced over time?"
   ]
  },
  {
   "cell_type": "code",
   "execution_count": null,
   "metadata": {},
   "outputs": [],
   "source": []
  },
  {
   "cell_type": "markdown",
   "metadata": {},
   "source": [
    "**Quality**\n",
    "- What level of Correctness or Confidence is needed?\n",
    "- Is this life-critical or are we looking for ‘directionally correct’ results?"
   ]
  },
  {
   "cell_type": "code",
   "execution_count": null,
   "metadata": {},
   "outputs": [],
   "source": []
  },
  {
   "cell_type": "markdown",
   "metadata": {},
   "source": [
    "**Constraints**\n",
    "- Are there legal / regulatory implications (privacy, security, liability, HIPAA, FERPA)?\n",
    "- Are there architectural constraints?"
   ]
  },
  {
   "cell_type": "code",
   "execution_count": null,
   "metadata": {},
   "outputs": [],
   "source": []
  },
  {
   "cell_type": "markdown",
   "metadata": {
    "tags": []
   },
   "source": [
    "**Time / Cost**\n",
    "- What is the deadline or budget?"
   ]
  },
  {
   "cell_type": "code",
   "execution_count": null,
   "metadata": {},
   "outputs": [],
   "source": []
  },
  {
   "cell_type": "markdown",
   "metadata": {
    "tags": []
   },
   "source": [
    "**Dependencies**\n",
    "- Is this project dependent on any other project or activity?\n",
    "- Is any other project or activity dependent on this project?"
   ]
  },
  {
   "cell_type": "code",
   "execution_count": null,
   "metadata": {},
   "outputs": [],
   "source": []
  },
  {
   "cell_type": "markdown",
   "metadata": {},
   "source": [
    "**Resources Needed**\n",
    "- Do you potentially need access to specific people, data, etc?"
   ]
  },
  {
   "cell_type": "code",
   "execution_count": null,
   "metadata": {},
   "outputs": [],
   "source": []
  },
  {
   "cell_type": "markdown",
   "metadata": {},
   "source": [
    "**Other Considerations**\n",
    "- What other considerations, not covered above, might be relevant?"
   ]
  },
  {
   "cell_type": "code",
   "execution_count": null,
   "metadata": {},
   "outputs": [],
   "source": []
  },
  {
   "cell_type": "markdown",
   "metadata": {
    "tags": []
   },
   "source": [
    "***\n",
    "# Section: 2 - Data Understanding\n",
    "***"
   ]
  },
  {
   "cell_type": "code",
   "execution_count": 16,
   "metadata": {},
   "outputs": [],
   "source": [
    "# The documentation of the dataset is here: https://www.kaggle.com/zalando-research/fashionmnist\n",
    "# Normally, we might do Exploratory Data Analysis here.\n",
    "# For now, assume the data is well understood and perfect."
   ]
  },
  {
   "cell_type": "code",
   "execution_count": 17,
   "metadata": {
    "tags": []
   },
   "outputs": [
    {
     "name": "stdout",
     "output_type": "stream",
     "text": [
      "10000\n"
     ]
    }
   ],
   "source": [
    "# Read the data\n",
    "all_pdf = pd.read_csv('../shared_Sp22/fashion-mnist-small.csv')\n",
    "all_row_count = all_pdf.shape[0]\n",
    "print(all_row_count)"
   ]
  },
  {
   "cell_type": "markdown",
   "metadata": {},
   "source": [
    "***\n",
    "# Section: 3 - Data Preparation\n",
    "***"
   ]
  },
  {
   "cell_type": "code",
   "execution_count": 18,
   "metadata": {
    "tags": []
   },
   "outputs": [],
   "source": [
    "# Normally, we might manipulate the dataset here to handle missing or bad values, transform or eliminate columns, scale values, etc.\n",
    "# We don't have to do this with this dataset."
   ]
  },
  {
   "cell_type": "markdown",
   "metadata": {},
   "source": [
    "***\n",
    "# Section: 4 - Modeling\n",
    "***"
   ]
  },
  {
   "cell_type": "code",
   "execution_count": 19,
   "metadata": {
    "tags": []
   },
   "outputs": [
    {
     "name": "stdout",
     "output_type": "stream",
     "text": [
      "6666 785 3334 785\n"
     ]
    }
   ],
   "source": [
    "# Split the data into train (2/3 of the records) and test (1/3 of the records) datasets\n",
    "split_point = (all_row_count // 3) * 2\n",
    "train_pdf = all_pdf.iloc[0:split_point,:]\n",
    "test_pdf  = all_pdf.iloc[split_point:,:]\n",
    "\n",
    "# Split the training and test datasets into X and y parts.\n",
    "# y contains the labels (first column)\n",
    "# X contains the attributes (remaining columns of the dataset)\n",
    "train_row_count = train_pdf.shape[0]  # Gives number of rows\n",
    "train_col_count = train_pdf.shape[1]  # Gives number of columns\n",
    "test_row_count  =  test_pdf.shape[0]  # Gives number of rows\n",
    "test_col_count  =  test_pdf.shape[1]  # Gives number of columns\n",
    "print(train_row_count,train_col_count,test_row_count,test_col_count)\n",
    "\n",
    "num_train = train_row_count\n",
    "num_test  = test_row_count\n",
    "\n",
    "y_train = train_pdf.iloc[:num_train, 0]\n",
    "X_train = train_pdf.iloc[:num_train, 1:-1]\n",
    "\n",
    "y_test = test_pdf.iloc[:num_test, 0]\n",
    "X_test = test_pdf.iloc[:num_test, 1:-1]"
   ]
  },
  {
   "cell_type": "code",
   "execution_count": 20,
   "metadata": {},
   "outputs": [],
   "source": [
    "# Initialize the SciKit-Learn classifer and fit the data\n",
    "# You could play with the n_neighbors argument (e.g., yry 2,3,4,5,6,7,8) and see how the accuracy changes below.\n",
    "classifier = KNeighborsClassifier(n_neighbors=5, metric='euclidean', weights='distance')\n",
    "classifier.fit(X_train, y_train)\n",
    "y_pred = classifier.predict(X_test)"
   ]
  },
  {
   "cell_type": "markdown",
   "metadata": {},
   "source": [
    "***\n",
    "# Section: 5 - Evaluation\n",
    "***"
   ]
  },
  {
   "cell_type": "code",
   "execution_count": 21,
   "metadata": {
    "tags": []
   },
   "outputs": [
    {
     "name": "stdout",
     "output_type": "stream",
     "text": [
      "Confusion Matrix (Rows=Actual, Cols=Predicted)\n",
      "[[291   0  12   8   1   0  37   1   4   0]\n",
      " [  3 327   2   7   1   0   1   0   0   0]\n",
      " [  7   0 252   2  44   0  34   0   2   0]\n",
      " [ 14   2   2 252  17   0  22   0   0   0]\n",
      " [  3   1  44   6 237   0  39   0   1   0]\n",
      " [  1   0   0   0   0 253   0  54   5  32]\n",
      " [ 62   0  37   3  29   0 174   0   3   0]\n",
      " [  0   0   0   0   0   2   0 321   0  32]\n",
      " [  3   0   7   2   3   0   7   4 297   0]\n",
      " [  0   0   0   0   0   1   0  16   1 309]]\n",
      "\n",
      "Classification Report\n",
      "              precision    recall  f1-score   support\n",
      "\n",
      "           0       0.76      0.82      0.79       354\n",
      "           1       0.99      0.96      0.97       341\n",
      "           2       0.71      0.74      0.72       341\n",
      "           3       0.90      0.82      0.86       309\n",
      "           4       0.71      0.72      0.71       331\n",
      "           5       0.99      0.73      0.84       345\n",
      "           6       0.55      0.56      0.56       308\n",
      "           7       0.81      0.90      0.85       355\n",
      "           8       0.95      0.92      0.93       323\n",
      "           9       0.83      0.94      0.88       327\n",
      "\n",
      "    accuracy                           0.81      3334\n",
      "   macro avg       0.82      0.81      0.81      3334\n",
      "weighted avg       0.82      0.81      0.81      3334\n",
      "\n",
      "\n",
      "Accuracy: 0.8137372525494901\n"
     ]
    }
   ],
   "source": [
    "# Compute confusion matrix and classification report\n",
    "conf_matrix = confusion_matrix(y_test,y_pred)\n",
    "classif_report = classification_report(y_test,y_pred)\n",
    "\n",
    "# Print the results\n",
    "print('Confusion Matrix (Rows=Actual, Cols=Predicted)')\n",
    "print(conf_matrix)\n",
    "print('')\n",
    "print('Classification Report')\n",
    "print(classif_report)\n",
    "print('')\n",
    "accuracy = accuracy_score(y_test,y_pred)\n",
    "print('Accuracy:', accuracy)"
   ]
  },
  {
   "cell_type": "code",
   "execution_count": 22,
   "metadata": {},
   "outputs": [
    {
     "name": "stdout",
     "output_type": "stream",
     "text": [
      "Daily Net Profit: $2,206.06\n"
     ]
    }
   ],
   "source": [
    "# Calculate the daily net profit (assuming 1000 shipments per day)\n",
    "daily_net_profit = ((accuracy * 5.00) - ((1-accuracy) * 10.00)) * 1000\n",
    "print('Daily Net Profit:', \"${:,.2f}\".format(daily_net_profit))"
   ]
  },
  {
   "cell_type": "code",
   "execution_count": 23,
   "metadata": {},
   "outputs": [
    {
     "name": "stdout",
     "output_type": "stream",
     "text": [
      "Record=0.  True label=7: Sneaker.  Predicted label=9: Ankle boot.\n"
     ]
    },
    {
     "data": {
      "image/png": "[encoded data removed]",
      "text/plain": [
       "<Figure size 432x288 with 1 Axes>"
      ]
     },
     "metadata": {
      "needs_background": "light"
     },
     "output_type": "display_data"
    },
    {
     "name": "stdout",
     "output_type": "stream",
     "text": [
      "Record=5.  True label=5: Sandal.  Predicted label=8: Bag.\n"
     ]
    },
    {
     "data": {
      "image/png": "[encoded data removed]",
      "text/plain": [
       "<Figure size 432x288 with 1 Axes>"
      ]
     },
     "metadata": {
      "needs_background": "light"
     },
     "output_type": "display_data"
    },
    {
     "name": "stdout",
     "output_type": "stream",
     "text": [
      "Record=7.  True label=4: Coat.  Predicted label=2: Pullover.\n"
     ]
    },
    {
     "data": {
      "image/png": "[encoded data removed]",
      "text/plain": [
       "<Figure size 432x288 with 1 Axes>"
      ]
     },
     "metadata": {
      "needs_background": "light"
     },
     "output_type": "display_data"
    },
    {
     "name": "stdout",
     "output_type": "stream",
     "text": [
      "Record=10.  True label=4: Coat.  Predicted label=6: Shirt.\n"
     ]
    },
    {
     "data": {
      "image/png": "[encoded data removed]",
      "text/plain": [
       "<Figure size 432x288 with 1 Axes>"
      ]
     },
     "metadata": {
      "needs_background": "light"
     },
     "output_type": "display_data"
    },
    {
     "name": "stdout",
     "output_type": "stream",
     "text": [
      "Record=20.  True label=4: Coat.  Predicted label=2: Pullover.\n"
     ]
    },
    {
     "data": {
      "image/png": "[encoded data removed]",
      "text/plain": [
       "<Figure size 432x288 with 1 Axes>"
      ]
     },
     "metadata": {
      "needs_background": "light"
     },
     "output_type": "display_data"
    },
    {
     "name": "stdout",
     "output_type": "stream",
     "text": [
      "Record=21.  True label=5: Sandal.  Predicted label=7: Sneaker.\n"
     ]
    },
    {
     "data": {
      "image/png": "[encoded data removed]",
      "text/plain": [
       "<Figure size 432x288 with 1 Axes>"
      ]
     },
     "metadata": {
      "needs_background": "light"
     },
     "output_type": "display_data"
    },
    {
     "name": "stdout",
     "output_type": "stream",
     "text": [
      "Record=33.  True label=8: Bag.  Predicted label=2: Pullover.\n"
     ]
    },
    {
     "data": {
      "image/png": "[encoded data removed]",
      "text/plain": [
       "<Figure size 432x288 with 1 Axes>"
      ]
     },
     "metadata": {
      "needs_background": "light"
     },
     "output_type": "display_data"
    },
    {
     "name": "stdout",
     "output_type": "stream",
     "text": [
      "Record=34.  True label=7: Sneaker.  Predicted label=9: Ankle boot.\n"
     ]
    },
    {
     "data": {
      "image/png": "[encoded data removed]",
      "text/plain": [
       "<Figure size 432x288 with 1 Axes>"
      ]
     },
     "metadata": {
      "needs_background": "light"
     },
     "output_type": "display_data"
    },
    {
     "name": "stdout",
     "output_type": "stream",
     "text": [
      "Record=37.  True label=5: Sandal.  Predicted label=7: Sneaker.\n"
     ]
    },
    {
     "data": {
      "image/png": "[encoded data removed]",
      "text/plain": [
       "<Figure size 432x288 with 1 Axes>"
      ]
     },
     "metadata": {
      "needs_background": "light"
     },
     "output_type": "display_data"
    },
    {
     "name": "stdout",
     "output_type": "stream",
     "text": [
      "Record=38.  True label=3: Dress.  Predicted label=6: Shirt.\n"
     ]
    },
    {
     "data": {
      "image/png": "[encoded data removed]",
      "text/plain": [
       "<Figure size 432x288 with 1 Axes>"
      ]
     },
     "metadata": {
      "needs_background": "light"
     },
     "output_type": "display_data"
    },
    {
     "name": "stdout",
     "output_type": "stream",
     "text": [
      "Record=41.  True label=6: Shirt.  Predicted label=0: T-shirt/top.\n"
     ]
    },
    {
     "data": {
      "image/png": "[encoded data removed]",
      "text/plain": [
       "<Figure size 432x288 with 1 Axes>"
      ]
     },
     "metadata": {
      "needs_background": "light"
     },
     "output_type": "display_data"
    }
   ],
   "source": [
    "# Show some of the test records that are mis-classified.\n",
    "num_shown = 0\n",
    "for i in range(num_test):\n",
    "    if(y_pred[i] != y_test.iloc[i]):\n",
    "        my_pred_label = y_pred[i]\n",
    "        my_true_label  = y_test.iloc[i]\n",
    "        my_pixels = test_pdf.iloc[i,1:]\n",
    "        caption = \"Record=\" + str(i) + \\\n",
    "            \".  True label=\" +      str(my_true_label) + \": \" + label_names[my_true_label] + \\\n",
    "            \".  Predicted label=\" + str(my_pred_label) + \": \" + label_names[my_pred_label] + \\\n",
    "            \".\"\n",
    "        show_image(caption,my_pixels)\n",
    "        \n",
    "        num_shown = num_shown + 1\n",
    "        if num_shown > 10:  # Show only the first 10 mis-classified\n",
    "            break"
   ]
  },
  {
   "cell_type": "markdown",
   "metadata": {},
   "source": [
    "***\n",
    "# Section: 6 - Deployment\n",
    "- Deployment can mean many things, from producing a report to deploying the solution to a production environment.\n",
    "***"
   ]
  },
  {
   "cell_type": "code",
   "execution_count": 13,
   "metadata": {},
   "outputs": [],
   "source": [
    "# Skip for now."
   ]
  },
  {
   "cell_type": "markdown",
   "metadata": {},
   "source": [
    "***\n",
    "# Section: Conclusions\n",
    "- What did you learn from this exercise?\n",
    "***"
   ]
  },
  {
   "cell_type": "code",
   "execution_count": 14,
   "metadata": {},
   "outputs": [],
   "source": [
    "# Fill this in."
   ]
  }
 ],
 "metadata": {
  "kernelspec": {
   "display_name": "Python 3",
   "language": "python",
   "name": "python3"
  },
  "language_info": {
   "codemirror_mode": {
    "name": "ipython",
    "version": 3
   },
   "file_extension": ".py",
   "mimetype": "text/x-python",
   "name": "python",
   "nbconvert_exporter": "python",
   "pygments_lexer": "ipython3",
   "version": "3.8.8"
  },
  "latex_envs": {
   "LaTeX_envs_menu_present": true,
   "autoclose": false,
   "autocomplete": true,
   "bibliofile": "biblio.bib",
   "cite_by": "apalike",
   "current_citInitial": 1,
   "eqLabelWithNumbers": true,
   "eqNumInitial": 1,
   "hotkeys": {
    "equation": "Ctrl-E",
    "itemize": "Ctrl-I"
   },
   "labels_anchors": false,
   "latex_user_defs": false,
   "report_style_numbering": false,
   "user_envs_cfg": false
  }
 },
 "nbformat": 4,
 "nbformat_minor": 4
}
