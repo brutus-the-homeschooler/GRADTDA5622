{
 "cells": [
  {
   "attachments": {},
   "cell_type": "markdown",
   "metadata": {},
   "source": [
    "# GRADTDA5622 - Big Data Computing Foundations 2\n",
    "## Homework 5: PySpark Practice\n",
    "- Semester: Spring 2023\n",
    "- Instructor: Tom Bihari\n",
    "- Section: N/A\n",
    "- Student Name: Able Baker **(fill in)**\n",
    "- Student Email: baker.12345@osu.edu **(fill in)**\n",
    "- Student ID: 123456789 **(fill in)**\n",
    "***"
   ]
  },
  {
   "cell_type": "markdown",
   "metadata": {
    "tags": []
   },
   "source": [
    "***\n",
    "# Section: Overview\n",
    "***"
   ]
  },
  {
   "cell_type": "markdown",
   "metadata": {},
   "source": [
    "**The Objectives of This Assignment are:**\n",
    "1. To practice using common Spark operations.\n",
    "2. To practice using Spark to solve problems and answer questions.\n",
    "\n",
    "**Overview:**\n",
    "- I have provided a step by step approach you can follow.  Fill in the ... in each cell.\n",
    "- I have filled in some cells for you, as examples.\n",
    "- Refer to the **PySpark_DeepDive1** notebook covered in the **Deep Dive: Spark** module for examples of code that can be used in this assignment.\n",
    "\n",
    "**Some Good Resources:**\n",
    "- https://spark.apache.org/docs/latest/api/python/index.html\n",
    "- https://spark.apache.org/docs/latest/api/python/reference/pyspark.pandas/frame.html\n",
    "- https://sparkbyexamples.com/pyspark-tutorial/\n",
    "\n",
    "**Instructions:**\n",
    "- **Follow the instructions** in each section.\n",
    "- **Fill in** the **Conclusions** section."
   ]
  },
  {
   "cell_type": "markdown",
   "metadata": {},
   "source": [
    "***\n",
    "# Section: Setup\n",
    "- Add any needed imports, helper functions, etc., here.\n",
    "***"
   ]
  },
  {
   "cell_type": "code",
   "execution_count": 1,
   "metadata": {},
   "outputs": [],
   "source": [
    "try:\n",
    "    import pyspark\n",
    "except:\n",
    "    print('Installing pyspark')\n",
    "    !pip install pyspark\n",
    "    import pyspark\n",
    "    \n",
    "# try:\n",
    "#     import pyspark_config\n",
    "# except:\n",
    "#     print('Installing pyspark_config')\n",
    "#     !pip install pyspark_config\n",
    "#     import pyspark_config"
   ]
  },
  {
   "cell_type": "code",
   "execution_count": 2,
   "metadata": {},
   "outputs": [
    {
     "data": {
      "text/plain": [
       "'3.0.1'"
      ]
     },
     "execution_count": 2,
     "metadata": {},
     "output_type": "execute_result"
    }
   ],
   "source": [
    "# NOTE: If any of these libraries are not already loaded on OSC Jupyter+Spark (e.g., seaborn), \n",
    "#  go the the Launcher (New Launcher in the JupyterLab Files menu), open a Terminal, and type\n",
    "#  \"pip install seaborn\" (or the needed library). \n",
    "import numpy as np\n",
    "import pandas as pd\n",
    "import matplotlib.pyplot as plt\n",
    "import seaborn as sb\n",
    "from time import time\n",
    "from pyspark import SparkContext\n",
    "from pyspark.sql import SparkSession\n",
    "import pyspark.sql.functions as SqlF\n",
    "\n",
    "pd.set_option('display.max_columns', 50) #include to avoid ... in middle of display\n",
    "pyspark.__version__"
   ]
  },
  {
   "cell_type": "code",
   "execution_count": 3,
   "metadata": {
    "tags": []
   },
   "outputs": [],
   "source": [
    "spark = SparkSession.builder.master(\"local[*]\") \\\n",
    "                    .appName('MyApp') \\\n",
    "                    .getOrCreate()\n",
    "sc = spark.sparkContext  # Get the context, so we have a short name for it if we need it.\n",
    "#print(sc.appName)"
   ]
  },
  {
   "cell_type": "code",
   "execution_count": 4,
   "metadata": {},
   "outputs": [],
   "source": [
    "# Identify the location of the shared data folder\n",
    "shared_data_directory = \"../shared_Sp23/\""
   ]
  },
  {
   "cell_type": "markdown",
   "metadata": {},
   "source": [
    "***\n",
    "# Section: 1 - Problem Overview / Business Understanding\n",
    "***"
   ]
  },
  {
   "cell_type": "markdown",
   "metadata": {},
   "source": [
    "The three provided datasets contain records of users' recommendations for movies (items).  The datasets are **data.csv**, **item.csv**, and **user.csv**.  See: https://grouplens.org/datasets/movielens/100k/ for descriptions of the datasets.\n",
    "\n",
    "The **goal** of the exercise is to **estimate a rating** for the movie **\"Mission: Impossible (1996)\"** by **User15**.\n",
    "\n",
    "- We will use a trivial approach (barely sensible, but easy):\n",
    "  - Find all \"other users\" who have rated the Mission Impossible movie already.\n",
    "  - If the average age of those \"other reviewers\" is within +- 20 years of User15's age:\n",
    "    - Average the ratings those \"other users\" gave to Mission Impossible to estimate a rating for User15 for Mission Impossible.\n",
    "    - Otherwise, just use the average rating User15 gave to other movies to estimate a rating for User15 for Mission Impossible.  "
   ]
  },
  {
   "cell_type": "markdown",
   "metadata": {},
   "source": [
    "***\n",
    "# Section: 2 - Data Understanding\n",
    "***"
   ]
  },
  {
   "cell_type": "markdown",
   "metadata": {},
   "source": [
    "***\n",
    "## Section: 2.1 - Describe the meaning and type of data for each attribute.\n",
    "- This can be pulled from the original metadata documentation, if available, fom other sources, or postulated based on values within the data.  Be explicit regarding the source, assumptions, etc., in particular if you are making educated guesses.\n",
    "***"
   ]
  },
  {
   "cell_type": "code",
   "execution_count": 5,
   "metadata": {},
   "outputs": [],
   "source": [
    "# Insert code and/or commentary here...  EXAMPLE CODE BELOW..."
   ]
  },
  {
   "cell_type": "markdown",
   "metadata": {},
   "source": [
    "### Read the three datasets."
   ]
  },
  {
   "cell_type": "code",
   "execution_count": 6,
   "metadata": {
    "id": "qiQOdzVcWQfb"
   },
   "outputs": [
    {
     "name": "stdout",
     "output_type": "stream",
     "text": [
      "100000\n",
      "root\n",
      " |-- user_id: integer (nullable = true)\n",
      " |-- item_id: integer (nullable = true)\n",
      " |-- rating: integer (nullable = true)\n",
      " |-- timestamp: integer (nullable = true)\n",
      "\n",
      "+-------+-------+------+---------+\n",
      "|user_id|item_id|rating|timestamp|\n",
      "+-------+-------+------+---------+\n",
      "|1      |1      |5     |874965758|\n",
      "|1      |2      |3     |876893171|\n",
      "+-------+-------+------+---------+\n",
      "only showing top 2 rows\n",
      "\n"
     ]
    }
   ],
   "source": [
    "data_df = spark.read.csv(shared_data_directory + 'data.csv', header=True, inferSchema=True).orderBy('user_id','item_id')\n",
    "print(data_df.count())\n",
    "data_df.printSchema()\n",
    "data_df.show(2,truncate=False)"
   ]
  },
  {
   "cell_type": "code",
   "execution_count": 7,
   "metadata": {},
   "outputs": [],
   "source": [
    "item_df = ..."
   ]
  },
  {
   "cell_type": "code",
   "execution_count": 8,
   "metadata": {},
   "outputs": [],
   "source": [
    "user_df = ..."
   ]
  },
  {
   "cell_type": "markdown",
   "metadata": {},
   "source": [
    "***\n",
    "## Section: 2.2 - Provide basic statistics for the attributes.\n",
    "- For example: counts, percentiles, mean, median, standard deviation. The statistics should be relevant for the type of attribute.\n",
    "***"
   ]
  },
  {
   "cell_type": "code",
   "execution_count": 9,
   "metadata": {},
   "outputs": [
    {
     "data": {
      "text/html": [
       "<div>\n",
       "<style scoped>\n",
       "    .dataframe tbody tr th:only-of-type {\n",
       "        vertical-align: middle;\n",
       "    }\n",
       "\n",
       "    .dataframe tbody tr th {\n",
       "        vertical-align: top;\n",
       "    }\n",
       "\n",
       "    .dataframe thead th {\n",
       "        text-align: right;\n",
       "    }\n",
       "</style>\n",
       "<table border=\"1\" class=\"dataframe\">\n",
       "  <thead>\n",
       "    <tr style=\"text-align: right;\">\n",
       "      <th></th>\n",
       "      <th>summary</th>\n",
       "      <th>user_id</th>\n",
       "      <th>item_id</th>\n",
       "      <th>rating</th>\n",
       "      <th>timestamp</th>\n",
       "    </tr>\n",
       "  </thead>\n",
       "  <tbody>\n",
       "    <tr>\n",
       "      <th>0</th>\n",
       "      <td>count</td>\n",
       "      <td>100000</td>\n",
       "      <td>100000</td>\n",
       "      <td>100000</td>\n",
       "      <td>100000</td>\n",
       "    </tr>\n",
       "    <tr>\n",
       "      <th>1</th>\n",
       "      <td>mean</td>\n",
       "      <td>462.48475</td>\n",
       "      <td>425.53013</td>\n",
       "      <td>3.52986</td>\n",
       "      <td>8.8352885148862E8</td>\n",
       "    </tr>\n",
       "    <tr>\n",
       "      <th>2</th>\n",
       "      <td>stddev</td>\n",
       "      <td>266.61442012750877</td>\n",
       "      <td>330.7983563255847</td>\n",
       "      <td>1.1256735991443154</td>\n",
       "      <td>5343856.189502826</td>\n",
       "    </tr>\n",
       "    <tr>\n",
       "      <th>3</th>\n",
       "      <td>min</td>\n",
       "      <td>1</td>\n",
       "      <td>1</td>\n",
       "      <td>1</td>\n",
       "      <td>874724710</td>\n",
       "    </tr>\n",
       "    <tr>\n",
       "      <th>4</th>\n",
       "      <td>max</td>\n",
       "      <td>943</td>\n",
       "      <td>1682</td>\n",
       "      <td>5</td>\n",
       "      <td>893286638</td>\n",
       "    </tr>\n",
       "  </tbody>\n",
       "</table>\n",
       "</div>"
      ],
      "text/plain": [
       "  summary             user_id            item_id              rating  \\\n",
       "0   count              100000             100000              100000   \n",
       "1    mean           462.48475          425.53013             3.52986   \n",
       "2  stddev  266.61442012750877  330.7983563255847  1.1256735991443154   \n",
       "3     min                   1                  1                   1   \n",
       "4     max                 943               1682                   5   \n",
       "\n",
       "           timestamp  \n",
       "0             100000  \n",
       "1  8.8352885148862E8  \n",
       "2  5343856.189502826  \n",
       "3          874724710  \n",
       "4          893286638  "
      ]
     },
     "execution_count": 9,
     "metadata": {},
     "output_type": "execute_result"
    }
   ],
   "source": [
    "data_df.describe().toPandas()"
   ]
  },
  {
   "cell_type": "code",
   "execution_count": 10,
   "metadata": {},
   "outputs": [
    {
     "ename": "SyntaxError",
     "evalue": "invalid syntax (<ipython-input-10-ed0f305a2f02>, line 1)",
     "output_type": "error",
     "traceback": [
      "\u001b[0;36m  File \u001b[0;32m\"<ipython-input-10-ed0f305a2f02>\"\u001b[0;36m, line \u001b[0;32m1\u001b[0m\n\u001b[0;31m    item_df...\u001b[0m\n\u001b[0m             ^\u001b[0m\n\u001b[0;31mSyntaxError\u001b[0m\u001b[0;31m:\u001b[0m invalid syntax\n"
     ]
    }
   ],
   "source": [
    "item_df..."
   ]
  },
  {
   "cell_type": "code",
   "execution_count": null,
   "metadata": {},
   "outputs": [],
   "source": [
    "user_df..."
   ]
  },
  {
   "cell_type": "markdown",
   "metadata": {},
   "source": [
    "***\n",
    "# Section: 3 - Data Pre-Processing\n",
    "***"
   ]
  },
  {
   "cell_type": "code",
   "execution_count": null,
   "metadata": {},
   "outputs": [],
   "source": [
    "# Trim the data_df and item_df datasets down to only the necessary information.\n",
    "# Consider using \"select\" to keep only the 'user_id','item_id','rating' columns for data_df, \n",
    "#   and the 'movie_id' and 'movie_title' columns for item_df.\n",
    "\n",
    "data_df = ...\n",
    "item_df = ...\n",
    "#user_df = no changes needed"
   ]
  },
  {
   "cell_type": "code",
   "execution_count": null,
   "metadata": {},
   "outputs": [],
   "source": [
    "# Calculate the user statistics (count, min, average, max ratings).\n",
    "# Consider using \"groupBy\", \"agg\", \"orderBy\", etc.\n",
    "# Create a Dataframe containing: |user_id|count_rating|min_rating|avg_rating|max_rating|\n",
    "\n",
    "user_rating_df = ...\n",
    "\n",
    "print(user_rating_df.count())\n",
    "user_rating_df.show(5,truncate=False)"
   ]
  },
  {
   "cell_type": "code",
   "execution_count": null,
   "metadata": {},
   "outputs": [],
   "source": [
    "# Calculate the movie statistics (count, min, average, max ratings).\n",
    "# Consider using \"groupBy\", \"agg\", \"orderBy\", etc.\n",
    "# Create a Dataframe containing: |item_id|count_rating|min_rating|avg_rating|max_rating|\n",
    "\n",
    "item_rating_df = ...\n",
    "\n",
    "print(item_rating_df.count())\n",
    "item_rating_df.show(5,truncate=False)"
   ]
  },
  {
   "cell_type": "markdown",
   "metadata": {},
   "source": [
    "***\n",
    "# Section: 4 - Recommendation System\n",
    "- For each of the steps below, I have provided an outline of the computation to perform and the expected output structure.\n",
    "- Please fill in the computations.\n",
    "- You may choose to deviate from this structure, but if you do so, decribe the steps you chose.\n",
    "***"
   ]
  },
  {
   "cell_type": "code",
   "execution_count": null,
   "metadata": {},
   "outputs": [],
   "source": [
    "# Specify the user and movie of interest.\n",
    "\n",
    "user_x_id = 15\n",
    "movie_y_title = \"Mission: Impossible (1996)\""
   ]
  },
  {
   "cell_type": "code",
   "execution_count": null,
   "metadata": {},
   "outputs": [],
   "source": [
    "# Get the demographics of this user, and save the age and gender.\n",
    "# Consider using the user_df from above, and the \"filter\" and \"collect\" operations.\n",
    "\n",
    "user_x_demographics = ...\n",
    "user_x_demographics.show()\n",
    "\n",
    "user_x_age = user_x_demographics.collect()[0]['age']\n",
    "print(\"user_x_age:\",user_x_age)\n",
    "\n",
    "user_x_gender = ...\n",
    "print(\"user_x_gender:\",user_x_gender)"
   ]
  },
  {
   "cell_type": "code",
   "execution_count": null,
   "metadata": {},
   "outputs": [],
   "source": [
    "# Get user X's average rating for all movies they actually have rated.\n",
    "# Consider using the user_rating_df from above, and the \"filter\" and \"collect\" operations.\n",
    "\n",
    "user_x_avg_rating = ...\n",
    "\n",
    "print(\"user_x_avg_rating:\",user_x_avg_rating)"
   ]
  },
  {
   "cell_type": "code",
   "execution_count": null,
   "metadata": {},
   "outputs": [],
   "source": [
    "# Get the movie id for this movie title.\n",
    "# Consider using the \"filter\" and \"collect\" operations.\n",
    "\n",
    "movie_y_id = ...\n",
    "\n",
    "print(\"movie_y_id:\",movie_y_id)"
   ]
  },
  {
   "cell_type": "code",
   "execution_count": null,
   "metadata": {},
   "outputs": [],
   "source": [
    "# Get all of the other users who have rated movie Y.\n",
    "# Consider using \"filter\", \"select\", \"orderBy\", \"withColumnRenamed\".\n",
    "# Create a Dataframe containing: |other_user_id|movie_y_rating|\n",
    "\n",
    "other_reviewers_df = ...\n",
    "\n",
    "print(\"other_reviewers_df.count:\",other_reviewers_df.count())\n",
    "other_reviewers_df.show(5,truncate=False)"
   ]
  },
  {
   "cell_type": "code",
   "execution_count": null,
   "metadata": {},
   "outputs": [],
   "source": [
    "# For each of the other reviewers of movie_y, get the demographics.\n",
    "# Consider using the other_reviewers_df and user_df from above, and the \"join\" operation.\n",
    "# Create a Dataframe containing: |other_user_id|movie_y_rating|age|gender|occupation|zip_code|\n",
    "\n",
    "other_reviewer_demo_df = ...\n",
    "\n",
    "print(\"other_reviewer_demo_df.count:\",other_reviewer_demo_df.count())\n",
    "other_reviewer_demo_df.show(5,truncate=False)"
   ]
  },
  {
   "cell_type": "code",
   "execution_count": null,
   "metadata": {},
   "outputs": [],
   "source": [
    "# For the other reviewers, get the average movie_y_rating and average age.\n",
    "# Consider using the other_reviewer_demo_df and the \"agg\", \"SqlF.avg\" and \"collect\" operations.\n",
    "# Create a Dataframe containing: |item_id|other_user_id|other_user_rating|user_x_rating|\n",
    "\n",
    "avg_other_reviewer_movie_y_rating = ...\n",
    "print(\"avg_other_reviewer_movie_y_rating:\",avg_other_reviewer_movie_y_rating)\n",
    "\n",
    "avg_other_reviewer_age = ...\n",
    "print(\"avg_other_reviewer_age:\",avg_other_reviewer_age)"
   ]
  },
  {
   "cell_type": "code",
   "execution_count": null,
   "metadata": {},
   "outputs": [],
   "source": [
    "# This is a trivial way to make a recommendation.  Normally we would do something much \n",
    "# more sophisticated.  But we will keep it simple here.\n",
    "\n",
    "# If the average age of the other reviewers is within +- 20 years of user_x age,\n",
    "#  then assume user_x's rating of movie_y will be the average rating given by the other reviewers.\n",
    "#  Otherwise, assume user_x's rating for movie_y will be the average rating user_x has given \n",
    "#  to other movies they have rated.\n",
    "# Print this rating, with the explanation.\n",
    "\n",
    "age_diff = ...\n",
    "print(\"age_diff:\",age_diff)\n",
    "\n",
    "if age_diff <= 20:\n",
    "    print('''The average age of reviewers of movie_y is within 20 years \n",
    "    of the age of user_x.  So we will use their average rating for movie_y:''',avg_other_reviewer_movie_y_rating)\n",
    "else:\n",
    "    print('''The average age of reviewers of movie_y is NOT within 20 years\n",
    "    of the age of user_x.  So we will use the average rating of user_x for other movies :''',user_x_avg_rating)"
   ]
  },
  {
   "cell_type": "markdown",
   "metadata": {},
   "source": [
    "***\n",
    "# Section: 6 - Conclusions\n",
    "- What are your overall conclusions about the assignment?\n",
    "- What did you learn?\n",
    "***"
   ]
  },
  {
   "cell_type": "code",
   "execution_count": null,
   "metadata": {},
   "outputs": [],
   "source": [
    "# Insert commentary here."
   ]
  }
 ],
 "metadata": {
  "kernelspec": {
   "display_name": "Python 3",
   "language": "python",
   "name": "python3"
  },
  "language_info": {
   "codemirror_mode": {
    "name": "ipython",
    "version": 3
   },
   "file_extension": ".py",
   "mimetype": "text/x-python",
   "name": "python",
   "nbconvert_exporter": "python",
   "pygments_lexer": "ipython3",
   "version": "3.6.8"
  },
  "latex_envs": {
   "LaTeX_envs_menu_present": true,
   "autoclose": false,
   "autocomplete": true,
   "bibliofile": "biblio.bib",
   "cite_by": "apalike",
   "current_citInitial": 1,
   "eqLabelWithNumbers": true,
   "eqNumInitial": 1,
   "hotkeys": {
    "equation": "Ctrl-E",
    "itemize": "Ctrl-I"
   },
   "labels_anchors": false,
   "latex_user_defs": false,
   "report_style_numbering": false,
   "user_envs_cfg": false
  }
 },
 "nbformat": 4,
 "nbformat_minor": 4
}
