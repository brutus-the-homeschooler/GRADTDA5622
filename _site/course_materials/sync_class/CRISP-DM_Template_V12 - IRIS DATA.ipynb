{
 "cells": [
  {
   "cell_type": "markdown",
   "metadata": {},
   "source": [
    "# GRADTDA5622 - Big Data Computing Foundations 2\n",
    "## CRISP_DM EXAMPLE - USING ENHANCED IRIS DATASET\n",
    "- 1 BUSINESS UNDERSTANDING Step - **Partially** Filled In\n",
    "- 2 DATA UNDERSTANDING Step / Exploratory Data Analysis (EDA) - Filled In\n",
    "- 3 DATA PREPARATION Step - Filled In\n",
    "- 4 MODELING Step - Filled In\n",
    "- 5 EVALUATION Step - Filled In\n",
    "- 6 DEPLOYMENT Step - Not filled In\n",
    "\n",
    "These examples are drawn from a number of sources.  See citations.\n",
    "\n",
    "Based on CRISP-DM Template Version V12.\n",
    "***"
   ]
  },
  {
   "cell_type": "markdown",
   "metadata": {
    "jp-MarkdownHeadingCollapsed": true,
    "tags": []
   },
   "source": [
    "***\n",
    "# Section: Overview\n",
    "- Insert a short description of the scope of this exercise, any supporting information, etc.\n",
    "- **(I will fill this in for each assignment - Tom Bihari)**\n",
    "***"
   ]
  },
  {
   "cell_type": "markdown",
   "metadata": {},
   "source": [
    "**The Objectives of This Assignment are:**\n",
    "1. ...\n",
    "\n",
    "**Instructions:**\n",
    "- ...\n",
    "\n",
    "**Business Problem:**\n",
    "- ..."
   ]
  },
  {
   "cell_type": "markdown",
   "metadata": {},
   "source": [
    "***\n",
    "# Section: Setup\n",
    "- Add any needed imports, helper functions, etc., here.\n",
    "***"
   ]
  },
  {
   "cell_type": "code",
   "execution_count": 1,
   "metadata": {},
   "outputs": [],
   "source": [
    "import numpy as np\n",
    "import pandas as pd\n",
    "\n",
    "#!pip install matplotlib\n",
    "import matplotlib\n",
    "import matplotlib.pyplot as plt\n",
    "%matplotlib inline\n",
    "#matplotlib.use('Qt5Agg')\n",
    "\n",
    "import seaborn as sns\n",
    "\n",
    "pd.set_option('display.max_columns', 50) #include to avoid ... in middle of display"
   ]
  },
  {
   "cell_type": "markdown",
   "metadata": {
    "tags": []
   },
   "source": [
    "***\n",
    "# Section: 1 - Business Understanding\n",
    "- This step is essential (and occasionally ignored…).  It focuses on understanding the business needs and objectives, and defining a data analysis problem that is relevant and useful to the business, so the right solution is built.\n",
    "\n",
    "- Consider the following questions and discuss the possible answers to them in the spaces below.\n",
    "  - It is OK to say that you do not know.  How might you get answers to the questions?\n",
    "  - You may consider some of the questions to be \"not applicable\".  If so, why?\n",
    "  - You may choose to use markdown instead of raw text in the answer cells, to make them \"pretty\" and easy to read.\n",
    "***"
   ]
  },
  {
   "cell_type": "markdown",
   "metadata": {},
   "source": [
    "**Context**\n",
    "- What is the overview, history, big picture?"
   ]
  },
  {
   "cell_type": "markdown",
   "metadata": {},
   "source": [
    "**We would like to develop a Classification algorithm that can take an image of an Iris flower, plus information about where the image was taken, and ***classify*** the flower as one of three Iris ***species***.  We already have the technology to process the image and measure certain characteristics of the flower.**  Much more to be said here..."
   ]
  },
  {
   "cell_type": "markdown",
   "metadata": {},
   "source": [
    "**Business Objectives**\n",
    "- What is the problem or opportunity to be addressed / solved?\n",
    "- What is its business value?"
   ]
  },
  {
   "cell_type": "markdown",
   "metadata": {},
   "source": []
  },
  {
   "cell_type": "markdown",
   "metadata": {},
   "source": [
    "**Stakeholders**\n",
    "- Who are they?\n",
    "- What are their needs?"
   ]
  },
  {
   "cell_type": "code",
   "execution_count": null,
   "metadata": {},
   "outputs": [],
   "source": []
  },
  {
   "cell_type": "markdown",
   "metadata": {
    "tags": []
   },
   "source": [
    "**General Goals**\n",
    "- Understand the past/current state (descriptive)?\n",
    "- Predict the future (predictive)?\n",
    "- Mine for unknown patterns / insights?\n",
    "- Answer questions?  What are they?\n",
    "- Support decisions?  What are they?"
   ]
  },
  {
   "cell_type": "code",
   "execution_count": null,
   "metadata": {
    "tags": []
   },
   "outputs": [],
   "source": []
  },
  {
   "cell_type": "markdown",
   "metadata": {
    "tags": []
   },
   "source": [
    "**Scope**\n",
    "- What is the specific scope of the project?\n",
    "- What, specifically, is NOT in scope?  (What are you not doing that someone might think you are doing?)\n",
    "Is the scope flexible?  In what way?"
   ]
  },
  {
   "cell_type": "code",
   "execution_count": null,
   "metadata": {},
   "outputs": [],
   "source": []
  },
  {
   "cell_type": "markdown",
   "metadata": {},
   "source": [
    "**Deliverables**\n",
    "- Report?\n",
    "- Reusable code?\n",
    "- Presentation?"
   ]
  },
  {
   "cell_type": "code",
   "execution_count": null,
   "metadata": {},
   "outputs": [],
   "source": []
  },
  {
   "cell_type": "markdown",
   "metadata": {},
   "source": [
    "**Success Criteria**\n",
    "- What, specifically, must be accomplished for this project to be a success?"
   ]
  },
  {
   "cell_type": "code",
   "execution_count": null,
   "metadata": {},
   "outputs": [],
   "source": []
  },
  {
   "cell_type": "markdown",
   "metadata": {},
   "source": [
    "**Solution Approach**\n",
    "- Is this a “one time” (throw away) solution?\n",
    "- Or will the solution become part of repeated process that is used and enhanced over time?"
   ]
  },
  {
   "cell_type": "code",
   "execution_count": null,
   "metadata": {},
   "outputs": [],
   "source": []
  },
  {
   "cell_type": "markdown",
   "metadata": {},
   "source": [
    "**Quality**\n",
    "- What level of Correctness or Confidence is needed?\n",
    "- Is this life-critical or are we looking for ‘directionally correct’ results?"
   ]
  },
  {
   "cell_type": "code",
   "execution_count": null,
   "metadata": {},
   "outputs": [],
   "source": []
  },
  {
   "cell_type": "markdown",
   "metadata": {},
   "source": [
    "**Constraints**\n",
    "- Are there legal / regulatory implications (privacy, security, liability, HIPAA, FERPA)?\n",
    "- Are there architectural constraints?"
   ]
  },
  {
   "cell_type": "code",
   "execution_count": null,
   "metadata": {},
   "outputs": [],
   "source": []
  },
  {
   "cell_type": "markdown",
   "metadata": {
    "tags": []
   },
   "source": [
    "**Time / Cost**\n",
    "- What is the deadline or budget?"
   ]
  },
  {
   "cell_type": "code",
   "execution_count": null,
   "metadata": {},
   "outputs": [],
   "source": []
  },
  {
   "cell_type": "markdown",
   "metadata": {
    "tags": []
   },
   "source": [
    "**Dependencies**\n",
    "- Is this project dependent on any other project or activity?\n",
    "- Is any other project or activity dependent on this project?"
   ]
  },
  {
   "cell_type": "code",
   "execution_count": null,
   "metadata": {},
   "outputs": [],
   "source": []
  },
  {
   "cell_type": "markdown",
   "metadata": {},
   "source": [
    "**Resources Needed**\n",
    "- Do you potentially need access to specific people, data, etc?"
   ]
  },
  {
   "cell_type": "code",
   "execution_count": null,
   "metadata": {},
   "outputs": [],
   "source": []
  },
  {
   "cell_type": "markdown",
   "metadata": {},
   "source": [
    "**Other Considerations**\n",
    "- What other considerations, not covered above, might be relevant?"
   ]
  },
  {
   "cell_type": "code",
   "execution_count": null,
   "metadata": {
    "tags": []
   },
   "outputs": [],
   "source": []
  },
  {
   "cell_type": "markdown",
   "metadata": {
    "tags": []
   },
   "source": [
    "***\n",
    "# Section: 2 - Data Understanding\n",
    "- Perform exploratory data analysis of the dataset by looking at individual attributes and/or combinations of attributes. You should focus on identifying and describing interesting observations and insights that you might uncover from the data.\n",
    "- You should not simply provide the basic EDA information for all attributes in the data. Instead, you should focus on those that are more interesting or important, and provide some discussion of what you observe. Pay particular attention to potentially interesting bivariate (two-variable) relationships, as well as the relationship between each attribute and the class attribute (if this is a classification problem).\n",
    "- This step includes:\n",
    "  - Understanding what data might be available and relevant.\n",
    "  - Acquiring the data.\n",
    "  - Understanding the characteristics of the data (e.g., quality, completeness, currency, consistency,…).\n",
    "  - Understanding how other datasets might enhance or supplement the data (and acquiring that data as well).\n",
    "  - Possibly performing some initial analysis to build confidence that the overall direction is likely to be helpful to the business problem to be solved.\n",
    "\n",
    "**NOTE:** Frequently, a first pass is made through the data to fix or remove \"obvious\" data quality issues (missing values, duplicate records, outliers (some), etc.).  The deeper Data Understanding analysis then is done on the \"cleaned\" data.  This mitigates the issue of bad data skewing the data analysis results.  **For this example, we will not do this separate first pass.**\n",
    "***"
   ]
  },
  {
   "cell_type": "markdown",
   "metadata": {},
   "source": [
    "***\n",
    "## Section: 2.1 - Describe the meaning and type of data for each attribute.\n",
    "\n",
    "Identify the type of data for each attribute.\n",
    "  - Categorical: Nominal, Ordinal\n",
    "  - Numerical: Interval, Ratio\n",
    "  - Other: Complex or unstructured data (e.g., text strings, images,...)\n",
    "  \n",
    "NOTES:\n",
    "  - This determines what operations are \"meaningful\" for each attribute.  For example, you can't add two Ordinal attributes.\n",
    "  - You can't always tell the attribute types from the data itself.  For example, an Integer attribute could be Ordinal or Interval.\n",
    "\n",
    "Identify interesting characteristics of the data (e.g., quality, completeness, currency, consistency,…).\n",
    "  - Is this dataset relevant and appropriate for the goals of this project?\n",
    "    - If not, what could you do? (find other data to replace or supplement this dataset, etc.)\n",
    "***"
   ]
  },
  {
   "cell_type": "markdown",
   "metadata": {},
   "source": [
    "### **Examine the meta-data (e.g., from data dictionary) available for the dataset.**"
   ]
  },
  {
   "cell_type": "markdown",
   "metadata": {},
   "source": [
    "This is a copy of the traditional Iris dataset, with additional attributes added to provide more opportunities for analyzing the data.  The original Iris attributes are italicized below.  Some of the variations of this dataset (see the Excel file referenced below) have been modified to add errors.  In particular, the **enhanced1_copy_with_errors** version of the data has intentional errors (missing values, duplicate records, outliers, etc.).  The **enhanced1_copy_clean** version of the data does not include these errors.  The attributes are as follows:\n",
    "- **Attribute,  Type,  DataType,  Meaning**\n",
    "- row_id,  ordinal,  integer,  Record number 0,1,2,3,…\n",
    "- *sepal_length*,  ratio,  float,  Length in CM\n",
    "- *sepal_width*,  ratio,  float,  Width in CM\n",
    "- *petal_length*,  ratio,  float,  Length in CM\n",
    "- *petal_width*,  ratio,  float,  Width in CM\n",
    "- *species*,  nominal,  string,  (setosa, versicolor, virginica)\n",
    "- sepal_area,  ratio,  float,  Area in CM^2\n",
    "- sepal_shape_val,  ratio,  float,  sepal_length / sepal_width\n",
    "- sepal_shape,  nominal,  string,  If (sepal_shape_val<2) \"square\"; else \"oblong\"\n",
    "- petal_area,  ratio,  float,  Area in CM^2\n",
    "- petal_shape_val,  ratio,  float,  petal_length / petal_width\n",
    "- petal_shape,  nominal,  string,  If (petal_shape_val<3) \"square\"; else if(petal_shape_val<6),\"oblong\"; else \"very_long\"\n",
    "- color,  nominal,  string,  Flower color: (white, purple, pink, violet, lavender, blue)\n",
    "- zone,  ordinal,  integer,  USDA Plant Hardiness Zone (number only).  See: https://planthardiness.ars.usda.gov/"
   ]
  },
  {
   "cell_type": "markdown",
   "metadata": {},
   "source": [
    "**Discussion:**\n",
    "\n",
    "Fill in..."
   ]
  },
  {
   "cell_type": "markdown",
   "metadata": {},
   "source": [
    "### **Load the Dataset.**"
   ]
  },
  {
   "cell_type": "code",
   "execution_count": 2,
   "metadata": {
    "tags": []
   },
   "outputs": [
    {
     "name": "stdout",
     "output_type": "stream",
     "text": [
      "<class 'pandas.core.frame.DataFrame'>\n",
      "RangeIndex: 152 entries, 0 to 151\n",
      "Data columns (total 14 columns):\n",
      " #   Column           Non-Null Count  Dtype  \n",
      "---  ------           --------------  -----  \n",
      " 0   row_id           152 non-null    int64  \n",
      " 1   sepal_length     152 non-null    float64\n",
      " 2   sepal_width      152 non-null    float64\n",
      " 3   petal_length     152 non-null    float64\n",
      " 4   petal_width      152 non-null    float64\n",
      " 5   species          151 non-null    object \n",
      " 6   sepal_area       151 non-null    float64\n",
      " 7   sepal_shape_val  152 non-null    float64\n",
      " 8   sepal_shape      151 non-null    object \n",
      " 9   petal_area       152 non-null    float64\n",
      " 10  petal_shape_val  152 non-null    float64\n",
      " 11  petal_shape      152 non-null    object \n",
      " 12  color            152 non-null    object \n",
      " 13  zone             152 non-null    int64  \n",
      "dtypes: float64(8), int64(2), object(4)\n",
      "memory usage: 16.8+ KB\n"
     ]
    }
   ],
   "source": [
    "# NOTES:\n",
    "# Depending on your setup, you may need to change the path to the data file.\n",
    "# Some environments may support .XLS Excel files, but not .XLSX files, in which case, you may need to use Excel to convert the data file to the supported format.\n",
    "# You may play with this example using the \"with_errors\" version of the data, and/or the \"clean\" version of the data, by commenting in/out the appropriate line below.\n",
    "#  The \"data quality\" discussions in this notebook are based on the \"with_errors\" version.\n",
    "\n",
    "data_df = pd.read_excel(\"teb_enhanced_iris_dataset_v2.xlsx\", sheet_name=\"enhanced1_copy_with_errors\")\n",
    "#data_df = pd.read_excel(\"teb_enhanced_iris_dataset_v2.xlsx\", sheet_name=\"enhanced1_copy_clean\")\n",
    "\n",
    "# Print the schema, based on the data in the file.\n",
    "data_df.info()"
   ]
  },
  {
   "cell_type": "markdown",
   "metadata": {},
   "source": [
    "**Discussion:**\n",
    "\n",
    "Fill in..."
   ]
  },
  {
   "cell_type": "code",
   "execution_count": 3,
   "metadata": {},
   "outputs": [
    {
     "name": "stdout",
     "output_type": "stream",
     "text": [
      "['row_id', 'sepal_length', 'sepal_width', 'petal_length', 'petal_width', 'species', 'sepal_area', 'sepal_shape_val', 'sepal_shape', 'petal_area', 'petal_shape_val', 'petal_shape', 'color', 'zone']\n"
     ]
    }
   ],
   "source": [
    "# Create some simple lists for future use\n",
    "all_attribute_names = list(data_df)\n",
    "print(all_attribute_names)\n",
    "class_attribute_name = 'species'\n",
    "nominal_attribute_names = ['species', 'sepal_shape', 'petal_shape', 'color']\n",
    "ordinal_attribute_names = ['zone'] #['row_id', 'zone']  # row_id may not be needed\n",
    "categorical_attribute_names = nominal_attribute_names + ordinal_attribute_names\n",
    "interval_attribute_names = []\n",
    "ratio_attribute_names = ['sepal_length', 'sepal_width', 'petal_length', 'petal_width', 'sepal_area', 'sepal_shape_val', 'petal_area', 'petal_shape_val']\n",
    "numerical_attribute_names = interval_attribute_names + ratio_attribute_names"
   ]
  },
  {
   "cell_type": "markdown",
   "metadata": {},
   "source": [
    "**Discussion:**\n",
    "\n",
    "Fill in..."
   ]
  },
  {
   "cell_type": "markdown",
   "metadata": {
    "tags": []
   },
   "source": [
    "***\n",
    "## Section: 2.2 - Provide basic statistics for the attributes.\n",
    "- For example: counts, percentiles, mean, median, standard deviation. The statistics should be relevant for the type of attribute.\n",
    "***"
   ]
  },
  {
   "cell_type": "code",
   "execution_count": 4,
   "metadata": {},
   "outputs": [],
   "source": [
    "# # This is an optional step.  Pandas Profiling is a library that provides a sophisticated profiling report\n",
    "# #  that can be saved in the form of an interactive HTML file.  See: https://pypi.org/project/pandas-profiling/\n",
    "# #  It may run very slowly on large datasets.  It is best to limit the number of records to profile, based on\n",
    "# #  experimentation with your computer.  You can do so by profiling small samples from large datasets.\n",
    "# #  You also can specify the \"minimal=True\" argument in newer versions of the library.\n",
    "# # To install, uncomment and run the following line (one time).\n",
    "# #!pip install pandas_profiling\n",
    "\n",
    "# import pandas_profiling\n",
    "# if data_df.shape[0] > 500:\n",
    "#     profile = pandas_profiling.ProfileReport(data_df.sample(n=500))  # Limit to a small set of records.\n",
    "#     #profile = pandas_profiling.ProfileReport(data_df, minimal=True)  # Limit to the simpler profiling.\n",
    "# else:\n",
    "#     profile = pandas_profiling.ProfileReport(data_df)       \n",
    "# profile.to_file(\"./profilereport.html\")\n",
    "\n",
    "# # Set plotting back to interactive mode (pandas_profiling sets it to non-interactive)\n",
    "# %matplotlib inline"
   ]
  },
  {
   "cell_type": "markdown",
   "metadata": {
    "tags": []
   },
   "source": [
    "**Discussion:**\n",
    "\n",
    "Fill in..."
   ]
  },
  {
   "cell_type": "code",
   "execution_count": 5,
   "metadata": {
    "tags": []
   },
   "outputs": [
    {
     "data": {
      "text/html": [
       "<div>\n",
       "<style scoped>\n",
       "    .dataframe tbody tr th:only-of-type {\n",
       "        vertical-align: middle;\n",
       "    }\n",
       "\n",
       "    .dataframe tbody tr th {\n",
       "        vertical-align: top;\n",
       "    }\n",
       "\n",
       "    .dataframe thead th {\n",
       "        text-align: right;\n",
       "    }\n",
       "</style>\n",
       "<table border=\"1\" class=\"dataframe\">\n",
       "  <thead>\n",
       "    <tr style=\"text-align: right;\">\n",
       "      <th></th>\n",
       "      <th>row_id</th>\n",
       "      <th>sepal_length</th>\n",
       "      <th>sepal_width</th>\n",
       "      <th>petal_length</th>\n",
       "      <th>petal_width</th>\n",
       "      <th>sepal_area</th>\n",
       "      <th>sepal_shape_val</th>\n",
       "      <th>petal_area</th>\n",
       "      <th>petal_shape_val</th>\n",
       "      <th>zone</th>\n",
       "    </tr>\n",
       "  </thead>\n",
       "  <tbody>\n",
       "    <tr>\n",
       "      <th>count</th>\n",
       "      <td>152.000000</td>\n",
       "      <td>152.000000</td>\n",
       "      <td>152.000000</td>\n",
       "      <td>152.000000</td>\n",
       "      <td>152.000000</td>\n",
       "      <td>151.000000</td>\n",
       "      <td>152.000000</td>\n",
       "      <td>152.000000</td>\n",
       "      <td>152.000000</td>\n",
       "      <td>152.000000</td>\n",
       "    </tr>\n",
       "    <tr>\n",
       "      <th>mean</th>\n",
       "      <td>75.230263</td>\n",
       "      <td>5.840789</td>\n",
       "      <td>3.051316</td>\n",
       "      <td>3.777632</td>\n",
       "      <td>1.207237</td>\n",
       "      <td>18.439735</td>\n",
       "      <td>1.939376</td>\n",
       "      <td>5.843553</td>\n",
       "      <td>4.346696</td>\n",
       "      <td>6.526316</td>\n",
       "    </tr>\n",
       "    <tr>\n",
       "      <th>std</th>\n",
       "      <td>43.675424</td>\n",
       "      <td>0.827376</td>\n",
       "      <td>0.431690</td>\n",
       "      <td>1.760463</td>\n",
       "      <td>0.761760</td>\n",
       "      <td>8.880396</td>\n",
       "      <td>0.480484</td>\n",
       "      <td>4.702909</td>\n",
       "      <td>2.639890</td>\n",
       "      <td>7.745922</td>\n",
       "    </tr>\n",
       "    <tr>\n",
       "      <th>min</th>\n",
       "      <td>0.000000</td>\n",
       "      <td>4.300000</td>\n",
       "      <td>2.000000</td>\n",
       "      <td>1.000000</td>\n",
       "      <td>0.100000</td>\n",
       "      <td>10.000000</td>\n",
       "      <td>-1.411765</td>\n",
       "      <td>0.110000</td>\n",
       "      <td>2.125000</td>\n",
       "      <td>3.000000</td>\n",
       "    </tr>\n",
       "    <tr>\n",
       "      <th>25%</th>\n",
       "      <td>37.750000</td>\n",
       "      <td>5.100000</td>\n",
       "      <td>2.800000</td>\n",
       "      <td>1.600000</td>\n",
       "      <td>0.300000</td>\n",
       "      <td>15.650000</td>\n",
       "      <td>1.558972</td>\n",
       "      <td>0.420000</td>\n",
       "      <td>2.797368</td>\n",
       "      <td>5.000000</td>\n",
       "    </tr>\n",
       "    <tr>\n",
       "      <th>50%</th>\n",
       "      <td>75.500000</td>\n",
       "      <td>5.800000</td>\n",
       "      <td>3.000000</td>\n",
       "      <td>4.400000</td>\n",
       "      <td>1.300000</td>\n",
       "      <td>17.640000</td>\n",
       "      <td>2.032292</td>\n",
       "      <td>5.680000</td>\n",
       "      <td>3.292857</td>\n",
       "      <td>6.000000</td>\n",
       "    </tr>\n",
       "    <tr>\n",
       "      <th>75%</th>\n",
       "      <td>112.250000</td>\n",
       "      <td>6.400000</td>\n",
       "      <td>3.300000</td>\n",
       "      <td>5.100000</td>\n",
       "      <td>1.800000</td>\n",
       "      <td>20.250000</td>\n",
       "      <td>2.225806</td>\n",
       "      <td>9.717500</td>\n",
       "      <td>4.666667</td>\n",
       "      <td>7.000000</td>\n",
       "    </tr>\n",
       "    <tr>\n",
       "      <th>max</th>\n",
       "      <td>149.000000</td>\n",
       "      <td>7.900000</td>\n",
       "      <td>4.400000</td>\n",
       "      <td>6.900000</td>\n",
       "      <td>2.500000</td>\n",
       "      <td>118.870000</td>\n",
       "      <td>2.961538</td>\n",
       "      <td>15.870000</td>\n",
       "      <td>15.000000</td>\n",
       "      <td>99.000000</td>\n",
       "    </tr>\n",
       "  </tbody>\n",
       "</table>\n",
       "</div>"
      ],
      "text/plain": [
       "           row_id  sepal_length  sepal_width  petal_length  petal_width  \\\n",
       "count  152.000000    152.000000   152.000000    152.000000   152.000000   \n",
       "mean    75.230263      5.840789     3.051316      3.777632     1.207237   \n",
       "std     43.675424      0.827376     0.431690      1.760463     0.761760   \n",
       "min      0.000000      4.300000     2.000000      1.000000     0.100000   \n",
       "25%     37.750000      5.100000     2.800000      1.600000     0.300000   \n",
       "50%     75.500000      5.800000     3.000000      4.400000     1.300000   \n",
       "75%    112.250000      6.400000     3.300000      5.100000     1.800000   \n",
       "max    149.000000      7.900000     4.400000      6.900000     2.500000   \n",
       "\n",
       "       sepal_area  sepal_shape_val  petal_area  petal_shape_val        zone  \n",
       "count  151.000000       152.000000  152.000000       152.000000  152.000000  \n",
       "mean    18.439735         1.939376    5.843553         4.346696    6.526316  \n",
       "std      8.880396         0.480484    4.702909         2.639890    7.745922  \n",
       "min     10.000000        -1.411765    0.110000         2.125000    3.000000  \n",
       "25%     15.650000         1.558972    0.420000         2.797368    5.000000  \n",
       "50%     17.640000         2.032292    5.680000         3.292857    6.000000  \n",
       "75%     20.250000         2.225806    9.717500         4.666667    7.000000  \n",
       "max    118.870000         2.961538   15.870000        15.000000   99.000000  "
      ]
     },
     "execution_count": 5,
     "metadata": {},
     "output_type": "execute_result"
    }
   ],
   "source": [
    "data_df.describe() #calculates statistics for all numerical columns"
   ]
  },
  {
   "cell_type": "markdown",
   "metadata": {
    "tags": []
   },
   "source": [
    "**Discussion:**\n",
    "Note that there are some suspicious values above.  These may be data quality issues.  Suggestions:\n",
    "- The extremely large **sepal_area** is clearly wrong and can be filled in by the formula in the metadata.\n",
    "- The negative **sepal_shape_val** is clearly wrong and can be filled in by the formula in the metadata.\n",
    "- The **sepal_area** count is different from the other counts. It will be handled below.\n",
    "- The **zone** of \"99\" will be handled below."
   ]
  },
  {
   "cell_type": "markdown",
   "metadata": {},
   "source": [
    "***\n",
    "## Section: 2.3 - Visualize / analyze the most important or interesting attributes using appropriate techniques.\n",
    "- For each visualization, provide an interpretation explaining why it is appropriate or interesting. What does each visualization tell us?\n",
    "***"
   ]
  },
  {
   "cell_type": "code",
   "execution_count": 6,
   "metadata": {
    "tags": []
   },
   "outputs": [
    {
     "name": "stdout",
     "output_type": "stream",
     "text": [
      "Total Records: 152 - Value Counts per Categorical Attribute:\n",
      "\n",
      "virginica     51\n",
      "versicolor    50\n",
      "setosa        49\n",
      "setos          1\n",
      "NaN            1\n",
      "Name: species, dtype: int64\n",
      "\n",
      "\n",
      "oblong    84\n",
      "square    67\n",
      "NaN        1\n",
      "Name: sepal_shape, dtype: int64\n",
      "\n",
      "\n",
      "oblong       73\n",
      "square       45\n",
      "very_long    33\n",
      "olong         1\n",
      "Name: petal_shape, dtype: int64\n",
      "\n",
      "\n",
      "violet       43\n",
      "white        33\n",
      "pink         27\n",
      "purple       21\n",
      "blue         17\n",
      "lavender     11\n",
      "Name: color, dtype: int64\n",
      "\n",
      "\n",
      "6     31\n",
      "5     29\n",
      "4     26\n",
      "8     21\n",
      "7     20\n",
      "9     13\n",
      "3     11\n",
      "99     1\n",
      "Name: zone, dtype: int64\n",
      "\n",
      "\n"
     ]
    }
   ],
   "source": [
    "# Count the unique values for the categorical attributes.\n",
    "print(\"Total Records:\", data_df.shape[0], \"- Value Counts per Categorical Attribute:\\n\")\n",
    "for att in categorical_attribute_names:\n",
    "    print(data_df[att].value_counts(normalize = False, sort = True, ascending = False, bins = None, dropna = False))\n",
    "    print(\"\\n\")"
   ]
  },
  {
   "cell_type": "markdown",
   "metadata": {},
   "source": [
    "**Discussion:**\n",
    "Note that there are some suspicious values above.  These may be data quality issues.  Suggestions:\n",
    "- The NaN values are discussed in the sections below.\n",
    "- For the **species** attribute, the \"setos\" value is clearly a typo and could be corrected to \"setosa\".\n",
    "- For the **petal_shape** attribute, the \"olong\" value is clearly a typo and could be corrected to \"oblong\".\n",
    "- For the **zone** attribute, there is no such \"99\" zone.  Most likely, this is a typo, and should be \"9\".  But it might also be a special \"flag\" value entered by the creator of the dataset.  Further research is needed, but for now, let's assume we should change \"99\" to \"9\"."
   ]
  },
  {
   "cell_type": "markdown",
   "metadata": {},
   "source": [
    "***\n",
    "## Section: 2.4 - Verify data quality: explain any missing values, duplicate data, or outliers.\n",
    "- What, if anything, do you need to do about these? Be specific.\n",
    "***"
   ]
  },
  {
   "cell_type": "markdown",
   "metadata": {
    "tags": []
   },
   "source": [
    "### **Missing Attribute Values**"
   ]
  },
  {
   "cell_type": "code",
   "execution_count": 7,
   "metadata": {
    "tags": []
   },
   "outputs": [
    {
     "name": "stdout",
     "output_type": "stream",
     "text": [
      "Total Records: 152 - Number of Records with NA: 3 - Number of NA Values: 3\n",
      "NA Values per Attribute:\n",
      "species 1\n",
      "sepal_area 1\n",
      "sepal_shape 1\n"
     ]
    }
   ],
   "source": [
    "# Count the missing values for the entire dataframe.\n",
    "na_df = data_df[data_df.isna().any(axis=1)]\n",
    "num_records_with_na = na_df.shape[0]\n",
    "num_na_values = na_df.isna().sum().sum()\n",
    "\n",
    "print(\"Total Records:\", data_df.shape[0], \"- Number of Records with NA:\", num_records_with_na, \"- Number of NA Values:\", num_na_values)\n",
    "na_df.head(10)\n",
    "\n",
    "# Show the missing values for each attribute.\n",
    "print(\"NA Values per Attribute:\")\n",
    "for att in all_attribute_names:\n",
    "    num_na = na_df[att].isna().sum()\n",
    "    if num_na > 0:\n",
    "        print(att,na_df[att].isna().sum())"
   ]
  },
  {
   "cell_type": "markdown",
   "metadata": {},
   "source": [
    "**Discussion:**\n",
    "Suggested actions:\n",
    "- The missing **sepal_area** can be filled in by **sepal_width * sepal_length** (see metadata).\n",
    "- The missing **sepal_shape** can be filled in by the formula in the metadata.\n",
    "- The missing **species** is problematic.  The resolution depends on the expected use of this data.  If the species is the \"class\" attribute and we want to use this dataset for training a classifier model, then we could / should remove this record."
   ]
  },
  {
   "cell_type": "markdown",
   "metadata": {
    "tags": []
   },
   "source": [
    "### **Duplicate Records**"
   ]
  },
  {
   "cell_type": "code",
   "execution_count": 8,
   "metadata": {
    "tags": []
   },
   "outputs": [
    {
     "name": "stdout",
     "output_type": "stream",
     "text": [
      "Number of duplicate records across all attributes: 1\n"
     ]
    },
    {
     "data": {
      "text/html": [
       "<div>\n",
       "<style scoped>\n",
       "    .dataframe tbody tr th:only-of-type {\n",
       "        vertical-align: middle;\n",
       "    }\n",
       "\n",
       "    .dataframe tbody tr th {\n",
       "        vertical-align: top;\n",
       "    }\n",
       "\n",
       "    .dataframe thead th {\n",
       "        text-align: right;\n",
       "    }\n",
       "</style>\n",
       "<table border=\"1\" class=\"dataframe\">\n",
       "  <thead>\n",
       "    <tr style=\"text-align: right;\">\n",
       "      <th></th>\n",
       "      <th>row_id</th>\n",
       "      <th>sepal_length</th>\n",
       "      <th>sepal_width</th>\n",
       "      <th>petal_length</th>\n",
       "      <th>petal_width</th>\n",
       "      <th>species</th>\n",
       "      <th>sepal_area</th>\n",
       "      <th>sepal_shape_val</th>\n",
       "      <th>sepal_shape</th>\n",
       "      <th>petal_area</th>\n",
       "      <th>petal_shape_val</th>\n",
       "      <th>petal_shape</th>\n",
       "      <th>color</th>\n",
       "      <th>zone</th>\n",
       "    </tr>\n",
       "  </thead>\n",
       "  <tbody>\n",
       "    <tr>\n",
       "      <th>112</th>\n",
       "      <td>111</td>\n",
       "      <td>6.4</td>\n",
       "      <td>2.7</td>\n",
       "      <td>5.3</td>\n",
       "      <td>1.9</td>\n",
       "      <td>virginica</td>\n",
       "      <td>17.28</td>\n",
       "      <td>2.37037</td>\n",
       "      <td>oblong</td>\n",
       "      <td>10.07</td>\n",
       "      <td>2.789474</td>\n",
       "      <td>square</td>\n",
       "      <td>violet</td>\n",
       "      <td>5</td>\n",
       "    </tr>\n",
       "  </tbody>\n",
       "</table>\n",
       "</div>"
      ],
      "text/plain": [
       "     row_id  sepal_length  sepal_width  petal_length  petal_width    species  \\\n",
       "112     111           6.4          2.7           5.3          1.9  virginica   \n",
       "\n",
       "     sepal_area  sepal_shape_val sepal_shape  petal_area  petal_shape_val  \\\n",
       "112       17.28          2.37037      oblong       10.07         2.789474   \n",
       "\n",
       "    petal_shape   color  zone  \n",
       "112      square  violet     5  "
      ]
     },
     "execution_count": 8,
     "metadata": {},
     "output_type": "execute_result"
    }
   ],
   "source": [
    "# Find duplicate records across all attributes.\n",
    "dup_df = data_df[data_df.duplicated()]\n",
    "num_dup_records = dup_df.shape[0]\n",
    "\n",
    "print(\"Number of duplicate records across all attributes:\", num_dup_records)\n",
    "dup_df.head(10)"
   ]
  },
  {
   "cell_type": "markdown",
   "metadata": {},
   "source": [
    "**Discussion:**\n",
    "The **row_id** \"111\" records are completely identical.  Suggested action:\n",
    "- Remove all but one of the \"111\" duplicate rows."
   ]
  },
  {
   "cell_type": "code",
   "execution_count": 9,
   "metadata": {
    "tags": []
   },
   "outputs": [
    {
     "name": "stdout",
     "output_type": "stream",
     "text": [
      "Number of duplicate record (multiples) for the *row_id* attribute: 2\n"
     ]
    },
    {
     "data": {
      "text/html": [
       "<div>\n",
       "<style scoped>\n",
       "    .dataframe tbody tr th:only-of-type {\n",
       "        vertical-align: middle;\n",
       "    }\n",
       "\n",
       "    .dataframe tbody tr th {\n",
       "        vertical-align: top;\n",
       "    }\n",
       "\n",
       "    .dataframe thead th {\n",
       "        text-align: right;\n",
       "    }\n",
       "</style>\n",
       "<table border=\"1\" class=\"dataframe\">\n",
       "  <thead>\n",
       "    <tr style=\"text-align: right;\">\n",
       "      <th></th>\n",
       "      <th>row_id</th>\n",
       "      <th>sepal_length</th>\n",
       "      <th>sepal_width</th>\n",
       "      <th>petal_length</th>\n",
       "      <th>petal_width</th>\n",
       "      <th>species</th>\n",
       "      <th>sepal_area</th>\n",
       "      <th>sepal_shape_val</th>\n",
       "      <th>sepal_shape</th>\n",
       "      <th>petal_area</th>\n",
       "      <th>petal_shape_val</th>\n",
       "      <th>petal_shape</th>\n",
       "      <th>color</th>\n",
       "      <th>zone</th>\n",
       "    </tr>\n",
       "  </thead>\n",
       "  <tbody>\n",
       "    <tr>\n",
       "      <th>111</th>\n",
       "      <td>111</td>\n",
       "      <td>6.4</td>\n",
       "      <td>2.7</td>\n",
       "      <td>5.3</td>\n",
       "      <td>1.9</td>\n",
       "      <td>virginica</td>\n",
       "      <td>17.28</td>\n",
       "      <td>2.370370</td>\n",
       "      <td>oblong</td>\n",
       "      <td>10.07</td>\n",
       "      <td>2.789474</td>\n",
       "      <td>square</td>\n",
       "      <td>violet</td>\n",
       "      <td>5</td>\n",
       "    </tr>\n",
       "    <tr>\n",
       "      <th>112</th>\n",
       "      <td>111</td>\n",
       "      <td>6.4</td>\n",
       "      <td>2.7</td>\n",
       "      <td>5.3</td>\n",
       "      <td>1.9</td>\n",
       "      <td>virginica</td>\n",
       "      <td>17.28</td>\n",
       "      <td>2.370370</td>\n",
       "      <td>oblong</td>\n",
       "      <td>10.07</td>\n",
       "      <td>2.789474</td>\n",
       "      <td>square</td>\n",
       "      <td>violet</td>\n",
       "      <td>5</td>\n",
       "    </tr>\n",
       "    <tr>\n",
       "      <th>150</th>\n",
       "      <td>149</td>\n",
       "      <td>4.9</td>\n",
       "      <td>3.0</td>\n",
       "      <td>5.1</td>\n",
       "      <td>1.8</td>\n",
       "      <td>virginica</td>\n",
       "      <td>17.70</td>\n",
       "      <td>1.966667</td>\n",
       "      <td>square</td>\n",
       "      <td>9.18</td>\n",
       "      <td>2.833333</td>\n",
       "      <td>square</td>\n",
       "      <td>pink</td>\n",
       "      <td>9</td>\n",
       "    </tr>\n",
       "    <tr>\n",
       "      <th>151</th>\n",
       "      <td>149</td>\n",
       "      <td>5.9</td>\n",
       "      <td>3.0</td>\n",
       "      <td>5.1</td>\n",
       "      <td>1.8</td>\n",
       "      <td>virginica</td>\n",
       "      <td>17.70</td>\n",
       "      <td>1.966667</td>\n",
       "      <td>square</td>\n",
       "      <td>9.18</td>\n",
       "      <td>2.833333</td>\n",
       "      <td>square</td>\n",
       "      <td>pink</td>\n",
       "      <td>9</td>\n",
       "    </tr>\n",
       "  </tbody>\n",
       "</table>\n",
       "</div>"
      ],
      "text/plain": [
       "     row_id  sepal_length  sepal_width  petal_length  petal_width    species  \\\n",
       "111     111           6.4          2.7           5.3          1.9  virginica   \n",
       "112     111           6.4          2.7           5.3          1.9  virginica   \n",
       "150     149           4.9          3.0           5.1          1.8  virginica   \n",
       "151     149           5.9          3.0           5.1          1.8  virginica   \n",
       "\n",
       "     sepal_area  sepal_shape_val sepal_shape  petal_area  petal_shape_val  \\\n",
       "111       17.28         2.370370      oblong       10.07         2.789474   \n",
       "112       17.28         2.370370      oblong       10.07         2.789474   \n",
       "150       17.70         1.966667      square        9.18         2.833333   \n",
       "151       17.70         1.966667      square        9.18         2.833333   \n",
       "\n",
       "    petal_shape   color  zone  \n",
       "111      square  violet     5  \n",
       "112      square  violet     5  \n",
       "150      square   pink      9  \n",
       "151      square   pink      9  "
      ]
     },
     "execution_count": 9,
     "metadata": {},
     "output_type": "execute_result"
    }
   ],
   "source": [
    "# Find duplicate records across one or more specific attributes.\n",
    "# This is useful for finding duplicate records that have the same \"unique identifier\", which should never happen.\n",
    "dup_df = data_df[data_df.duplicated(['row_id',])]\n",
    "num_dup_records = dup_df.shape[0]\n",
    "\n",
    "list_of_duplicates = dup_df['row_id'].unique()\n",
    "list_of_duplicates.sort()\n",
    "#print(list_of_duplicates)\n",
    "complete_dup_df = data_df.loc[data_df['row_id'].isin(list_of_duplicates)]\n",
    "\n",
    "print(\"Number of duplicate record (multiples) for the *row_id* attribute:\", num_dup_records)\n",
    "complete_dup_df.head(10)"
   ]
  },
  {
   "cell_type": "markdown",
   "metadata": {},
   "source": [
    "**Discussion:**\n",
    "The **row_id** \"149\" records have the same row_id, but differ in the **sepal_length** field.  Suggested actions:\n",
    "- Remove one of the duplicate rows, OR set the row_id of one of them to a new, unused number."
   ]
  },
  {
   "cell_type": "markdown",
   "metadata": {
    "tags": []
   },
   "source": [
    "### **Outliers**\n",
    "- There are many ways to discover and handle outliers, and many resources online.  Here is a nice discussion:\n",
    "- https://stackoverflow.com/questions/23199796/detect-and-exclude-outliers-in-a-pandas-dataframe"
   ]
  },
  {
   "cell_type": "code",
   "execution_count": 16,
   "metadata": {},
   "outputs": [],
   "source": [
    "# This is a simple filter that uses 1.5 x the Inter-Quantile Range.\n",
    "# See: https://stackoverflow.com/questions/69248118/detect-outliers-across-all-columns-of-pandas-dataframe\n",
    "def find_outliers(df_in, att_name):\n",
    "    quantile_low  = 0.25  # These are typical values, but you can set them as apropriate - see literature\n",
    "    quantile_high = 0.75\n",
    "    multiplier = 1.5\n",
    "    \n",
    "    Q1 = df_in[att_name].quantile(quantile_low)\n",
    "    Q3 = df_in[att_name].quantile(quantile_high)\n",
    "    IQR = Q3-Q1\n",
    "    good_range_low  = Q1 - multiplier * IQR\n",
    "    good_range_high = Q3 + multiplier * IQR\n",
    "    \n",
    "    outlier_list=((df_in[att_name] <= good_range_low) | (df_in[att_name] >= good_range_high)).tolist()\n",
    "    outlier_indices=[i for i, x in enumerate(outlier_list) if x]\n",
    "\n",
    "    print(\"\\nAttribute: [\", att_name, \"]   Good Range: [\",good_range_low, \",\", good_range_high, \"]   Number of Outliers: [\", len(outlier_indices),\"]\")\n",
    "\n",
    "    plt.figure(figsize=(10,1))\n",
    "    sns.boxplot(x=att_name, data=df_in)\n",
    "    plt.show()\n",
    "\n",
    "    if len(outlier_indices) > 0:\n",
    "        outlier_value_list = []\n",
    "        for i in outlier_indices:\n",
    "            outlier_value_list.append( [i, df_in.iloc[i][att_name]] )\n",
    "            \n",
    "        from operator import itemgetter\n",
    "        outlier_value_list = sorted(outlier_value_list, key=itemgetter(1), reverse=True)\n",
    "        \n",
    "        print(\"Index           Value\")\n",
    "        for i in outlier_value_list:\n",
    "            print(\"%5d      %10.3f\" % (i[0], i[1]))\n",
    "    \n",
    "    return outlier_indices"
   ]
  },
  {
   "cell_type": "code",
   "execution_count": 17,
   "metadata": {},
   "outputs": [
    {
     "name": "stdout",
     "output_type": "stream",
     "text": [
      "\n",
      "Attribute: [ sepal_length ]   Good Range: [ 3.1499999999999986 , 8.350000000000001 ]   Number of Outliers: [ 0 ]\n"
     ]
    },
    {
     "data": {
      "image/png": "[encoded data removed]",
      "text/plain": [
       "<Figure size 720x72 with 1 Axes>"
      ]
     },
     "metadata": {
      "needs_background": "light"
     },
     "output_type": "display_data"
    },
    {
     "name": "stdout",
     "output_type": "stream",
     "text": [
      "\n",
      "Attribute: [ sepal_width ]   Good Range: [ 2.05 , 4.05 ]   Number of Outliers: [ 4 ]\n"
     ]
    },
    {
     "data": {
      "image/png": "[encoded data removed]",
      "text/plain": [
       "<Figure size 720x72 with 1 Axes>"
      ]
     },
     "metadata": {
      "needs_background": "light"
     },
     "output_type": "display_data"
    },
    {
     "name": "stdout",
     "output_type": "stream",
     "text": [
      "Index           Value\n",
      "   15           4.400\n",
      "   33           4.200\n",
      "   32           4.100\n",
      "   60           2.000\n",
      "\n",
      "Attribute: [ petal_length ]   Good Range: [ -3.649999999999999 , 10.349999999999998 ]   Number of Outliers: [ 0 ]\n"
     ]
    },
    {
     "data": {
      "image/png": "[encoded data removed]",
      "text/plain": [
       "<Figure size 720x72 with 1 Axes>"
      ]
     },
     "metadata": {
      "needs_background": "light"
     },
     "output_type": "display_data"
    },
    {
     "name": "stdout",
     "output_type": "stream",
     "text": [
      "\n",
      "Attribute: [ petal_width ]   Good Range: [ -1.95 , 4.05 ]   Number of Outliers: [ 0 ]\n"
     ]
    },
    {
     "data": {
      "image/png": "[encoded data removed]",
      "text/plain": [
       "<Figure size 720x72 with 1 Axes>"
      ]
     },
     "metadata": {
      "needs_background": "light"
     },
     "output_type": "display_data"
    },
    {
     "name": "stdout",
     "output_type": "stream",
     "text": [
      "\n",
      "Attribute: [ sepal_area ]   Good Range: [ 8.749999999999996 , 27.150000000000002 ]   Number of Outliers: [ 3 ]\n"
     ]
    },
    {
     "data": {
      "image/png": "[encoded data removed]",
      "text/plain": [
       "<Figure size 720x72 with 1 Axes>"
      ]
     },
     "metadata": {
      "needs_background": "light"
     },
     "output_type": "display_data"
    },
    {
     "name": "stdout",
     "output_type": "stream",
     "text": [
      "Index           Value\n",
      "   21         118.870\n",
      "  132          30.020\n",
      "  118          29.260\n",
      "\n",
      "Attribute: [ sepal_shape_val ]   Good Range: [ 0.558719758064516 , 3.226058467741936 ]   Number of Outliers: [ 1 ]\n"
     ]
    },
    {
     "data": {
      "image/png": "[encoded data removed]",
      "text/plain": [
       "<Figure size 720x72 with 1 Axes>"
      ]
     },
     "metadata": {
      "needs_background": "light"
     },
     "output_type": "display_data"
    },
    {
     "name": "stdout",
     "output_type": "stream",
     "text": [
      "Index           Value\n",
      "   24          -1.412\n",
      "\n",
      "Attribute: [ petal_area ]   Good Range: [ -13.52625 , 23.66375 ]   Number of Outliers: [ 0 ]\n"
     ]
    },
    {
     "data": {
      "image/png": "[encoded data removed]",
      "text/plain": [
       "<Figure size 720x72 with 1 Axes>"
      ]
     },
     "metadata": {
      "needs_background": "light"
     },
     "output_type": "display_data"
    },
    {
     "name": "stdout",
     "output_type": "stream",
     "text": [
      "\n",
      "Attribute: [ petal_shape_val ]   Good Range: [ -0.0065789473684207955 , 7.47061403508772 ]   Number of Outliers: [ 19 ]\n"
     ]
    },
    {
     "data": {
      "image/png": "[encoded data removed]",
      "text/plain": [
       "<Figure size 720x72 with 1 Axes>"
      ]
     },
     "metadata": {
      "needs_background": "light"
     },
     "output_type": "display_data"
    },
    {
     "name": "stdout",
     "output_type": "stream",
     "text": [
      "Index           Value\n",
      "    9          15.000\n",
      "   32          15.000\n",
      "   34          15.000\n",
      "   37          15.000\n",
      "   12          14.000\n",
      "   13          11.000\n",
      "   24           9.500\n",
      "   20           8.500\n",
      "   11           8.000\n",
      "   25           8.000\n",
      "   29           8.000\n",
      "   30           8.000\n",
      "   46           8.000\n",
      "    3           7.500\n",
      "    7           7.500\n",
      "   10           7.500\n",
      "   27           7.500\n",
      "   39           7.500\n",
      "   48           7.500\n"
     ]
    }
   ],
   "source": [
    "outlier_indices = []\n",
    "for att in numerical_attribute_names:\n",
    "    outlier_indices = find_outliers(data_df, att)\n",
    "    outlier_indices.extend(outlier_indices)\n",
    "#print(f\"All Outlier Indices: {outlier_indices}\")"
   ]
  },
  {
   "cell_type": "markdown",
   "metadata": {},
   "source": [
    "**Discussion:**\n",
    "Suggested actions:\n",
    "- The **sepal_width** looks OK.  The outliers are not much out of the normal range.\n",
    "- The **sepal_area** has one clearly wrong value.  The other outliers are not much out of the normal range.  The clearly wrong value can be filled in by **sepal_width * sepal_length** (see metadata).\n",
    "- The negative **sepal_shape_val** is clearly wrong and can be filled in by the formula in the metadata.\n",
    "- The **petal_shape_val** looks OK.  The outliers are not much out of the normal range."
   ]
  },
  {
   "cell_type": "markdown",
   "metadata": {},
   "source": [
    "***\n",
    "## Section: 2.5 - Explore the relationships among the attributes.\n",
    "- You may include or exclude the class attribute as appropriate.\n",
    "- Use scatter plots, correlation matrices, cross-tabulations, group-wise averages, or other appropriate techniques. Explain and interpret any interesting relationships.\n",
    "- There are three general cases for 2-attribute relationships:\n",
    "  - Categorical vs Categorical\n",
    "  - Categorical vs Numerical\n",
    "  - Numerical vs Numerical\n",
    "***"
   ]
  },
  {
   "cell_type": "markdown",
   "metadata": {},
   "source": [
    "### **Categorical Attribute vs Categorical Attribute**"
   ]
  },
  {
   "cell_type": "code",
   "execution_count": null,
   "metadata": {
    "tags": []
   },
   "outputs": [],
   "source": [
    "# EXAMPLE: Visualize the relationship between two specific categorical variables.\n",
    "from statsmodels.graphics.mosaicplot import mosaic\n",
    "\n",
    "plt.rcParams['font.size'] = 10.0\n",
    "plt.rcParams[\"figure.figsize\"]=(9,9)\n",
    "mosaic(data_df.sort_values(by='zone', ascending=True), ['color', 'zone'], title='')\n",
    "plt.show()"
   ]
  },
  {
   "cell_type": "code",
   "execution_count": null,
   "metadata": {},
   "outputs": [],
   "source": [
    "def chi2_test(data_frame, categorical_variable1, categorical_variable2, alpha):\n",
    "    import pandas as pd\n",
    "    from scipy import stats\n",
    "    \n",
    "    if categorical_variable1==categorical_variable2:\n",
    "        return 0.00, False    # Comparing variable with self.  p_value = 0, reject_h0 = False\n",
    "    \n",
    "    # Convert to crosstab contigency table\n",
    "    mycrosstab=pd.crosstab(data_frame[categorical_variable1],data_frame[categorical_variable2])\n",
    "    #print(mycrosstab)\n",
    "    # Get p_value and other information\n",
    "    stat,p_value,dof,expected = stats.chi2_contingency(mycrosstab)\n",
    "    #print(\"Details:\",categorical_variable1,categorical_variable2,stat,p_value,dof)\n",
    "    # Round very small p_value to zero\n",
    "    p_value = round(p_value,10)\n",
    "    # Expected frequencies should be at least 5 for the majority (80%) of the cells.\n",
    "    # Check expected frequency of each group\n",
    "    cntexpected = expected[expected<5].size\n",
    "    # Get percentage \n",
    "    perexpected = ((expected.size-cntexpected)/expected.size)*100\n",
    "    if perexpected<20:\n",
    "        p_value = 2.00        # Assign 2 as a flag that result is inconclusive\n",
    "    # Reject H0?\n",
    "    reject_h0 = (p_value < alpha)\n",
    "    return p_value, reject_h0"
   ]
  },
  {
   "cell_type": "code",
   "execution_count": null,
   "metadata": {},
   "outputs": [],
   "source": [
    "# Use Chi-Squared test to check for a relationship between all pairs of categorical variables.\n",
    "# See, for example: https://medium.com/analytics-vidhya/constructing-heat-map-for-chi-square-test-of-independence-6d78aa2b140f\n",
    "def create_chi2_matrix(df):\n",
    "    column_names = df.columns # Assign column names to row indexs \n",
    "    chisqmatrix = pd.DataFrame(df,columns=column_names,index=column_names)\n",
    "\n",
    "    outercnt = 0\n",
    "    innercnt = 0\n",
    "    for icol in column_names: # outer loop\n",
    "        for jcol in column_names: # inner loop\n",
    "            p_value, reject_h0 = chi2_test(df, icol, jcol, 0.05)\n",
    "            chisqmatrix.iloc[outercnt,innercnt] = p_value\n",
    "            innercnt = innercnt+1\n",
    "        outercnt = outercnt+1\n",
    "        innercnt = 0\n",
    "    return chisqmatrix"
   ]
  },
  {
   "cell_type": "code",
   "execution_count": null,
   "metadata": {},
   "outputs": [],
   "source": [
    "# Use Chi-Squared test to check for relationships between all pairs of categorical variables.\n",
    "# If a p-value in the table below is less than a chosen alpha (say 0.05), then the H0 hypothesis that\n",
    "#   there is NO relationship between the two variables is REJECTED.\n",
    "chi2matrix = create_chi2_matrix(data_df[categorical_attribute_names])\n",
    "display(chi2matrix)"
   ]
  },
  {
   "cell_type": "markdown",
   "metadata": {
    "tags": []
   },
   "source": [
    "**Discussion:**\n",
    "- Based on the ChiSquared test, with Alpha chosen to be 0.05, there is a relationship between all pairs of variables, EXCEPT **color** and **zone**.\n",
    "- So if we were given the task of predicting the species based on the other attributes, we would not want to remove any of the categorical attributes (at this point at least)."
   ]
  },
  {
   "cell_type": "markdown",
   "metadata": {},
   "source": [
    "### **Categorical Attribute vs Numerical Attribute**"
   ]
  },
  {
   "cell_type": "code",
   "execution_count": null,
   "metadata": {
    "tags": []
   },
   "outputs": [],
   "source": [
    "# # EXAMPLE: Visualize the relationship between a specific categorical variable and a specific numerical variable.\n",
    "# #   (Violin plots work nicely too.)\n",
    "# plt.rcParams[\"figure.figsize\"]=(5,5)\n",
    "# ax = data_df.boxplot('petal_length', by='species')\n",
    "# ax.get_figure().suptitle(t=\"\")\n",
    "# plt.title(\"Box Plot petal_length by species\")\n",
    "# plt.show()"
   ]
  },
  {
   "cell_type": "code",
   "execution_count": null,
   "metadata": {},
   "outputs": [],
   "source": [
    "# Visualize the relationship between a specific categorical variable (the class variable in this case)\n",
    "#   and all numerical variables.  (Violin plots work nicely too.)\n",
    "for f in numerical_attribute_names:\n",
    "    plt.figure(figsize=(5,5))\n",
    "    sns.boxplot(x=\"species\", y=f, data=data_df)"
   ]
  },
  {
   "cell_type": "code",
   "execution_count": null,
   "metadata": {},
   "outputs": [],
   "source": [
    "# Compute ANOVA for a specific categorical and numerical variable pair.\n",
    "# Note: You also can use the t-test if there are only two values for the categorical variable.\n",
    "def anova_test(data_frame, categorical_variable, numerical_variable, alpha):\n",
    "    # See: https://towardsdatascience.com/statistics-in-python-using-anova-for-feature-selection-b4dc876ef4f0\n",
    "    # Calculate the f-value using the statsmodel module. \n",
    "    # You first build the model using the ols() function, and then call the fit() function on the instance of the model.\n",
    "    # Finally, you call the anova_lm() function on the fitted model and specify the type of ANOVA test to perform on it:\n",
    "    #   There are 3 types of ANOVA tests to perform, but their discussion is beyond the scope of this discussion.\n",
    "    # Note: Hypothesis H0 = There is NO significant influence of the categorical variable on the numerical variable.\n",
    "    import statsmodels.api as sm\n",
    "    from statsmodels.formula.api import ols\n",
    "\n",
    "    param_string = numerical_variable + \" ~ \" + categorical_variable\n",
    "    model = ols(param_string, data=data_frame).fit()\n",
    "    result = sm.stats.anova_lm(model, typ=2)\n",
    "    #print(result)\n",
    "\n",
    "    p_value = result.iat[0, 3]\n",
    "    reject_h0 = (p_value < alpha)\n",
    "    return p_value, reject_h0"
   ]
  },
  {
   "cell_type": "code",
   "execution_count": null,
   "metadata": {},
   "outputs": [],
   "source": [
    "# Compute ANOVA for the categorical attribute \"species\" and each numerical attribute.\n",
    "# Note: Hypothesis H0 = There is NO significant influence of the categorical attribute on the numerical attribute.\n",
    "alpha = 0.05  # Chosen by the data analyst, based on the business problem.\n",
    "cat_att = \"species\"\n",
    "\n",
    "print(\"   P_Value             Reject_H0        Cat_Attribute        Num_Attribute\")\n",
    "for num_att in numerical_attribute_names:\n",
    "    p_value, reject_h0 = anova_test(data_df, cat_att, num_att, alpha)\n",
    "    print(\"%10.6f  %20s %20s %20s\" % (p_value, reject_h0, cat_att, num_att))"
   ]
  },
  {
   "cell_type": "markdown",
   "metadata": {},
   "source": [
    "**Discussion:**\n",
    "- Based on the Anova test, with Alpha chosen to be 0.05, there is a relationship between **species** and each of the numerical attributes.\n",
    "- So if we were given the task of predicting the species based on the other attributes, we would not want to remove any of the numerical attributes (at this point at least)."
   ]
  },
  {
   "cell_type": "markdown",
   "metadata": {},
   "source": [
    "### **Numerical Attribute vs Numerical Attribute**"
   ]
  },
  {
   "cell_type": "code",
   "execution_count": null,
   "metadata": {
    "tags": []
   },
   "outputs": [],
   "source": [
    "# # EXAMPLE: Visualize the relationship between one specific pair of numerical variables, to look for potential relationship.\n",
    "# groups = data_df.groupby('species')\n",
    "# for name, group in groups:\n",
    "#     plt.plot(group.sepal_length, group.petal_length, marker='o', linestyle='', markersize=5, label=name)\n",
    "\n",
    "# plt.legend()"
   ]
  },
  {
   "cell_type": "code",
   "execution_count": null,
   "metadata": {
    "tags": []
   },
   "outputs": [],
   "source": [
    "# Visualize the relationship between all pairs of numerical variables, to look for potential relationships.\n",
    "sns.pairplot(data = data_df[numerical_attribute_names+[class_attribute_name]], hue=class_attribute_name, height=3)\n",
    "plt.show()"
   ]
  },
  {
   "cell_type": "code",
   "execution_count": null,
   "metadata": {
    "tags": []
   },
   "outputs": [],
   "source": [
    "# Compute all of the (Pearson) *linear* correlations between pairs of numerical variables and display a heatmap.\n",
    "# Note: You also could compute Spearman's Rank correlation (which can capture non-linear relationships).\n",
    "#   See: https://www.statology.org/spearman-correlation-python/\n",
    "\n",
    "cor = data_df[numerical_attribute_names].corr(method='pearson').round(2)\n",
    "plt.figure(figsize=(10,10))\n",
    "sns.heatmap(cor,annot=True, center=0.0, cmap='coolwarm')"
   ]
  },
  {
   "cell_type": "code",
   "execution_count": null,
   "metadata": {
    "tags": []
   },
   "outputs": [],
   "source": [
    "# # Note that for our purposes, a strong *negative* relationship may be as valuable as a strong *positive* relationship,\n",
    "# #   so we could do the following to look at absolute values.\n",
    "# cor = abs(data_df[numerical_attribute_names].corr(method='pearson').round(2))\n",
    "# plt.figure(figsize=(10,10))\n",
    "# sns.heatmap(cor,annot=True, center=0.5, cmap='coolwarm')"
   ]
  },
  {
   "cell_type": "markdown",
   "metadata": {},
   "source": [
    "**Discussion:**\n",
    "- Based on the Pearson correlations, there is a (linear) relationship between many pairs of numerical attributes.\n",
    "  - (Note that for our purposes, a strong *negative* relationship may be as valuable as a strong *positive* relationship.)\n",
    "  - This may allow us to trim down the \"redundant\" attributes for use in the classification algorithm. "
   ]
  },
  {
   "cell_type": "code",
   "execution_count": null,
   "metadata": {},
   "outputs": [],
   "source": []
  },
  {
   "cell_type": "markdown",
   "metadata": {},
   "source": [
    "***\n",
    "## Section: 2.6 - Identify and explain any interesting relationships between the class attribute and the other attributes.\n",
    "- You may refer to earlier analyses / visualizations (if you included the class attribute above) or create new ones.\n",
    "***"
   ]
  },
  {
   "cell_type": "code",
   "execution_count": null,
   "metadata": {},
   "outputs": [],
   "source": []
  },
  {
   "cell_type": "markdown",
   "metadata": {},
   "source": [
    "**Discussion:**\n",
    "- The **species** attribute is the Class attribute for this exercise.\n",
    "- As shown in the previous sections, each of the categorical and numerical attributes has a significant relationship with the **species** attribute.\n",
    "  - Therefore, each of these **X** attributes might have value as input to a classification algorithm to predict the **y** class attribute (**species**)."
   ]
  },
  {
   "cell_type": "code",
   "execution_count": null,
   "metadata": {},
   "outputs": [],
   "source": []
  },
  {
   "cell_type": "markdown",
   "metadata": {
    "tags": []
   },
   "source": [
    "***\n",
    "# Section: 3 - Data Preparation\n",
    "In this step, the “final” target dataset is constructed (although nothing is ever final…), based on the insights gleaned in the Data Understanding step.\n",
    "This may include:\n",
    "- Normalizing / standardizing the data.\n",
    "- Handling missing and erroneous data.\n",
    "- Transforming or eliminating attributes.\n",
    "- “Blending” data from multiple sources (with attention to consistency of the various sources).\n",
    "- Deploying the data to storage in suitable formats, data models / structures.\n",
    "***"
   ]
  },
  {
   "cell_type": "markdown",
   "metadata": {
    "tags": []
   },
   "source": [
    "***\n",
    "## Section: 3.1 - Clean the Data\n",
    "- Implement any data cleaning steps previously identified.  Please justify.\n",
    "- Show the effects of that cleaning through the use of appropriate statistics and/or visualizations.\n",
    "***"
   ]
  },
  {
   "cell_type": "code",
   "execution_count": null,
   "metadata": {
    "tags": []
   },
   "outputs": [],
   "source": [
    "# Create a copy of the dataset for cleaning\n",
    "clean_data_df = data_df.copy()"
   ]
  },
  {
   "cell_type": "markdown",
   "metadata": {
    "tags": []
   },
   "source": [
    "**Revise the Data**"
   ]
  },
  {
   "cell_type": "markdown",
   "metadata": {},
   "source": [
    "species:\n",
    "- For the **species** attribute, the \"setos\" value is clearly a typo and could be corrected to \"setosa\".\n",
    "- The missing **species** is problematic.  The resolution depends on the expected use of this data.  If the species is the \"class\" attribute and we want to use this dataset for training a classifier model, then we could / should remove this record."
   ]
  },
  {
   "cell_type": "code",
   "execution_count": null,
   "metadata": {
    "tags": []
   },
   "outputs": [],
   "source": [
    "clean_data_df['species'] = clean_data_df['species'].replace(to_replace='setos', value='setosa')"
   ]
  },
  {
   "cell_type": "code",
   "execution_count": null,
   "metadata": {},
   "outputs": [],
   "source": [
    "clean_data_df = clean_data_df.dropna(subset=['species'])\n",
    "clean_data_df = clean_data_df.reset_index(drop=True)"
   ]
  },
  {
   "cell_type": "markdown",
   "metadata": {},
   "source": [
    "zone:\n",
    "- For the **zone** attribute, there is no such \"99\" zone.  Most likely, this is a typo, and should be \"9\".  But it might also be a special \"flag\" value entered by the creator of the dataset.  Further research is needed, but for now, let's assume we should change \"99\" to \"9\"."
   ]
  },
  {
   "cell_type": "code",
   "execution_count": null,
   "metadata": {},
   "outputs": [],
   "source": [
    "clean_data_df['zone'] = clean_data_df['zone'].replace(to_replace=99, value=9)"
   ]
  },
  {
   "cell_type": "markdown",
   "metadata": {},
   "source": [
    "row_id:\n",
    "- The **row_id** \"111\" records are completely identical.  Suggested action:\n",
    "    - Remove all but one of the \"111\" duplicate rows.\n",
    "- The **row_id** \"149\" records have the same row_id, but differ in the **sepal_length** field.  Suggested actions:\n",
    "    - Remove all but one of the duplicate rows, OR set the row_id of one of them to a new, unused number. (I chose the former.)"
   ]
  },
  {
   "cell_type": "code",
   "execution_count": null,
   "metadata": {},
   "outputs": [],
   "source": [
    "clean_data_df.drop_duplicates(keep='first', inplace=True)  # This removes all but one copy of the records that are completely identical.\n",
    "clean_data_df = clean_data_df.reset_index(drop=True)"
   ]
  },
  {
   "cell_type": "code",
   "execution_count": null,
   "metadata": {},
   "outputs": [],
   "source": [
    "clean_data_df.drop_duplicates(subset=['row_id'], keep='first', inplace=True)  # This removes all but one copy of the records that have identical row_ids.\n",
    "clean_data_df = clean_data_df.reset_index(drop=True)"
   ]
  },
  {
   "cell_type": "markdown",
   "metadata": {
    "tags": []
   },
   "source": [
    "sepal_area:\n",
    "- The **sepal_area** has one clearly wrong value (118.87).  The other outliers are not much out of the normal range.  The clearly wrong value can be filled in by **sepal_width * sepal_length** (see metadata).\n",
    "- The **sepal_area** has one NaN value.  The NaN value can be filled in by **sepal_width * sepal_length** (see metadata)."
   ]
  },
  {
   "cell_type": "code",
   "execution_count": null,
   "metadata": {
    "tags": []
   },
   "outputs": [],
   "source": [
    "clean_data_df.loc[(clean_data_df.sepal_area >= 118.0) & (clean_data_df.sepal_area <= 119.0),'sepal_area'] = \\\n",
    "    clean_data_df.sepal_length * clean_data_df.sepal_width"
   ]
  },
  {
   "cell_type": "code",
   "execution_count": null,
   "metadata": {},
   "outputs": [],
   "source": [
    "clean_data_df['sepal_area'].fillna(clean_data_df['sepal_width'] * clean_data_df['sepal_length'], inplace=True)"
   ]
  },
  {
   "cell_type": "markdown",
   "metadata": {
    "tags": []
   },
   "source": [
    "sepal_shape_val:\n",
    "- The negative **sepal_shape_val** (-1.412) is clearly wrong and can be filled in by the formula in the metadata."
   ]
  },
  {
   "cell_type": "code",
   "execution_count": null,
   "metadata": {
    "tags": []
   },
   "outputs": [],
   "source": [
    "clean_data_df.loc[(clean_data_df.sepal_shape_val >= -1.42) & (clean_data_df.sepal_shape_val <= -1.41),'sepal_shape_val'] = \\\n",
    "    clean_data_df.sepal_length / clean_data_df.sepal_width"
   ]
  },
  {
   "cell_type": "markdown",
   "metadata": {
    "tags": []
   },
   "source": [
    "sepal_shape:\n",
    "- The NaN **sepal_shape** value can be filled in by the formula in the metadata:\n",
    "  - If (sepal_shape_val<2) \"square\"; else \"oblong\""
   ]
  },
  {
   "cell_type": "code",
   "execution_count": null,
   "metadata": {},
   "outputs": [],
   "source": [
    "clean_data_df['sepal_shape'] = np.where((clean_data_df.sepal_shape_val < 2), \"square\", clean_data_df.sepal_shape)\n",
    "clean_data_df['sepal_shape'] = np.where((clean_data_df.sepal_shape_val >= 2), \"oblong\", clean_data_df.sepal_shape)"
   ]
  },
  {
   "cell_type": "markdown",
   "metadata": {},
   "source": [
    "petal_shape:\n",
    "- For the **petal_shape** attribute, the \"olong\" value is clearly a typo and could be corrected to \"oblong\"."
   ]
  },
  {
   "cell_type": "code",
   "execution_count": null,
   "metadata": {
    "tags": []
   },
   "outputs": [],
   "source": [
    "clean_data_df['petal_shape'] = clean_data_df['petal_shape'].replace(to_replace='olong', value='oblong')"
   ]
  },
  {
   "cell_type": "markdown",
   "metadata": {
    "tags": []
   },
   "source": [
    "**Check the Results**"
   ]
  },
  {
   "cell_type": "code",
   "execution_count": null,
   "metadata": {
    "tags": []
   },
   "outputs": [],
   "source": [
    "# Data before cleaning\n",
    "data_df.describe()"
   ]
  },
  {
   "cell_type": "code",
   "execution_count": null,
   "metadata": {
    "tags": []
   },
   "outputs": [],
   "source": [
    "# Data after cleaning\n",
    "clean_data_df.describe()"
   ]
  },
  {
   "cell_type": "code",
   "execution_count": null,
   "metadata": {},
   "outputs": [],
   "source": [
    "clean_data_df.head(999)"
   ]
  },
  {
   "cell_type": "code",
   "execution_count": null,
   "metadata": {},
   "outputs": [],
   "source": [
    "# Get the duplicate records across all attributes.\n",
    "dup_df = clean_data_df[clean_data_df.duplicated()]\n",
    "num_dup_records = dup_df.shape[0]\n",
    "print(\"Number of duplicate records across all attributes:\", num_dup_records)\n",
    "dup_df.head(10)"
   ]
  },
  {
   "cell_type": "code",
   "execution_count": null,
   "metadata": {},
   "outputs": [],
   "source": [
    "# Get the missing values for the entire dataframe.\n",
    "na_df = clean_data_df[clean_data_df.isna().any(axis=1)]\n",
    "num_records_with_na = na_df.shape[0]\n",
    "num_na_values = na_df.isna().sum().sum()\n",
    "print(\"Total Records:\", clean_data_df.shape[0], \"- Number of Records with NA:\", num_records_with_na, \"- Number of NA Values:\", num_na_values)\n",
    "na_df.head(10)"
   ]
  },
  {
   "cell_type": "code",
   "execution_count": null,
   "metadata": {},
   "outputs": [],
   "source": [
    "# Get the unique values for the categorical attributes.\n",
    "print(\"Total Records:\", clean_data_df.shape[0], \"- Value Counts per Categorical Attribute:\\n\")\n",
    "for att in categorical_attribute_names:\n",
    "    print(clean_data_df[att].value_counts(normalize = False, sort = True, ascending = False, bins = None, dropna = False))\n",
    "    print(\"\\n\")"
   ]
  },
  {
   "cell_type": "code",
   "execution_count": null,
   "metadata": {},
   "outputs": [],
   "source": [
    "# Get the outliers for the numerical attributes.\n",
    "outlier_indices = []\n",
    "for att in numerical_attribute_names:\n",
    "    outlier_indices = find_outliers(clean_data_df, att)\n",
    "    outlier_indices.extend(outlier_indices)"
   ]
  },
  {
   "cell_type": "markdown",
   "metadata": {},
   "source": [
    "***\n",
    "## Section: 3.2 - Select Attributes\n",
    "- Optionally, remove attributes that are unneeded, redundant, etc., for the expected uses.\n",
    "- Which attributes did you decide to remove, if any? Please justify.\n",
    "***"
   ]
  },
  {
   "cell_type": "markdown",
   "metadata": {},
   "source": [
    "**Discussion:**\n",
    "- Based on the ChiSquared test, with Alpha chosen to be 0.05, there is a relationship between all pairs of variables, EXCEPT **color** and **zone**.\n",
    "  - So if we were given the task of predicting the species based on the other attributes, we would not want to remove any of the categorical attributes (at this point at least).\n",
    "  - However, this may allow us to trim down the \"redundant\" attributes for use in the classification algorithm.\n",
    "- Based on the Anova test, with Alpha chosen to be 0.05, there is a relationship between **species** and each of the numerical attributes.\n",
    "  - So if we were given the task of predicting the species based on the other attributes, we would not want to remove any of the numerical attributes (at this point at least).\n",
    "- Based on the Pearson correlations, there is a (linear) relationship between many pairs of numerical attributes.\n",
    "  - This may allow us to trim down the \"redundant\" attributes for use in the classification algorithm.\n",
    "- The **species** attribute is the Class attribute for this exercise.\n",
    "  - As shown in the previous sections, each of the categorical and numerical attributes has a significant relationship with the **species** attribute.\n",
    "    - Therefore, each of these **X** attributes might have value as input to a classification algorithm to predict the **y** class attribute (**species**).\n",
    "    \n",
    "If we look at the **sepal area and shape**, vs the **petal area and shape**, it appears that the **petal** attributes are more predictive of the **species**.  So let's remove the sepal shape and area attributes."
   ]
  },
  {
   "cell_type": "code",
   "execution_count": null,
   "metadata": {
    "tags": []
   },
   "outputs": [],
   "source": [
    "plt.figure(figsize=(5,5))\n",
    "sns.boxplot(x=\"species\", y=\"petal_area\", data=clean_data_df)"
   ]
  },
  {
   "cell_type": "code",
   "execution_count": null,
   "metadata": {
    "tags": []
   },
   "outputs": [],
   "source": [
    "plt.figure(figsize=(5,5))\n",
    "sns.boxplot(x=\"species\", y=\"sepal_area\", data=clean_data_df)"
   ]
  },
  {
   "cell_type": "code",
   "execution_count": null,
   "metadata": {
    "tags": []
   },
   "outputs": [],
   "source": [
    "plt.figure(figsize=(5,5))\n",
    "sns.boxplot(x=\"species\", y=\"sepal_shape_val\", data=clean_data_df)"
   ]
  },
  {
   "cell_type": "code",
   "execution_count": null,
   "metadata": {
    "tags": []
   },
   "outputs": [],
   "source": [
    "plt.figure(figsize=(5,5))\n",
    "sns.boxplot(x=\"species\", y=\"petal_shape_val\", data=clean_data_df)"
   ]
  },
  {
   "cell_type": "code",
   "execution_count": null,
   "metadata": {
    "tags": []
   },
   "outputs": [],
   "source": [
    "# Remove the attributes\n",
    "clean_data_df.drop('sepal_area', axis=1, inplace=True)\n",
    "clean_data_df.drop('sepal_shape_val', axis=1, inplace=True)\n",
    "clean_data_df.drop('sepal_shape', axis=1, inplace=True)"
   ]
  },
  {
   "cell_type": "code",
   "execution_count": null,
   "metadata": {},
   "outputs": [],
   "source": [
    "clean_data_df.describe()"
   ]
  },
  {
   "cell_type": "markdown",
   "metadata": {},
   "source": [
    "***\n",
    "## Section: 3.3 - Create Attributes\n",
    "- Optionally, create new attributes based on the values of other attibutes.\n",
    "- Which new attributes did you decide to create, if any? Please justify.\n",
    "***"
   ]
  },
  {
   "cell_type": "markdown",
   "metadata": {},
   "source": [
    "**Discussion:**\n",
    "- We did not see a need to create any attributes.  However, just as an example, suppose we wanted to create a new attribute that is the ratio of sepal_length and petal_length..."
   ]
  },
  {
   "cell_type": "code",
   "execution_count": null,
   "metadata": {
    "tags": []
   },
   "outputs": [],
   "source": [
    "clean_data_df['sepal_petal_length_ratio'] = clean_data_df['sepal_length'] / clean_data_df['petal_length']"
   ]
  },
  {
   "cell_type": "code",
   "execution_count": null,
   "metadata": {
    "tags": []
   },
   "outputs": [],
   "source": [
    "clean_data_df['sepal_petal_length_ratio'].describe()"
   ]
  },
  {
   "cell_type": "markdown",
   "metadata": {},
   "source": [
    "***\n",
    "## Section: 3.4 - Transform Attributes\n",
    "- Optionally, transform existing attributes (e.g., standardize, normalize, change units of measure, encode) to make them more appropriate for the expected uses.\n",
    "- Which attributes did you decide to transform, if any? Please justify.\n",
    "***"
   ]
  },
  {
   "cell_type": "markdown",
   "metadata": {},
   "source": [
    "**Discussion:**\n",
    "- We did not see a need to transform any attributes.  However, just as an example, suppose we wanted to scale (normalize) the **sepal_petal_length_ratio** so it has mean 0 and standard deviation 1."
   ]
  },
  {
   "cell_type": "code",
   "execution_count": null,
   "metadata": {
    "tags": []
   },
   "outputs": [],
   "source": [
    "# Z-Score using pandas (could also use SciKitLearn StandardScaler, stats.zscore, etc.)\n",
    "clean_data_df['sepal_petal_length_ratio'] = \\\n",
    "    (clean_data_df['sepal_petal_length_ratio'] - clean_data_df['sepal_petal_length_ratio'].mean()) \\\n",
    "    / clean_data_df['sepal_petal_length_ratio'].std()"
   ]
  },
  {
   "cell_type": "code",
   "execution_count": null,
   "metadata": {
    "tags": []
   },
   "outputs": [],
   "source": [
    "clean_data_df.describe()"
   ]
  },
  {
   "cell_type": "markdown",
   "metadata": {},
   "source": [
    "***\n",
    "## Section: 3.5 - Select Records\n",
    "- Optionally, select a subset of the records, via sampling, etc., to decrease the size of the dataset. Please justify.\n",
    "***"
   ]
  },
  {
   "cell_type": "markdown",
   "metadata": {
    "tags": []
   },
   "source": [
    "**Discussion:**\n",
    "- We did not see a need to trim the dataset.  However, just as an example, suppose we wanted to create a very small sample dataset..."
   ]
  },
  {
   "cell_type": "code",
   "execution_count": null,
   "metadata": {
    "tags": []
   },
   "outputs": [],
   "source": [
    "clean_data_sample_df = clean_data_df.sample(n=30, replace=True, random_state=45) #There are many ways to sample. See literature."
   ]
  },
  {
   "cell_type": "code",
   "execution_count": null,
   "metadata": {},
   "outputs": [],
   "source": [
    "clean_data_sample_df.describe()"
   ]
  },
  {
   "cell_type": "markdown",
   "metadata": {},
   "source": [
    "***\n",
    "## Section: 3.6 - Other Data Preparation\n",
    "- Optionally, perform other preparation steps (e.g., to optimize storage, retrieval, etc.). Please justify.\n",
    "***"
   ]
  },
  {
   "cell_type": "markdown",
   "metadata": {
    "tags": []
   },
   "source": [
    "**Discussion:**\n",
    "- We did not see a need to perform any other steps."
   ]
  },
  {
   "cell_type": "code",
   "execution_count": null,
   "metadata": {
    "tags": []
   },
   "outputs": [],
   "source": []
  },
  {
   "cell_type": "markdown",
   "metadata": {
    "tags": []
   },
   "source": [
    "***\n",
    "# Section: 4 - Modeling\n",
    "In this step, the dataset is analyzed and used to create models and/or answer questions relevant to the business. This may include:\n",
    "- Developing statistical models for describing or predicting business situations.\n",
    "- Training data mining (e.g., machine learning) algorithms for classification, clustering, association analysis, outlier detection, and other uses.\n",
    "\n",
    "NOTE: This step is tightly coupled and iterative with the Data Preparation and Evaluation steps.\n",
    "***"
   ]
  },
  {
   "cell_type": "code",
   "execution_count": null,
   "metadata": {},
   "outputs": [],
   "source": []
  },
  {
   "cell_type": "markdown",
   "metadata": {},
   "source": [
    "**Discussion:**\n",
    "\n",
    "Fill in..."
   ]
  },
  {
   "cell_type": "markdown",
   "metadata": {
    "tags": []
   },
   "source": [
    "### **Define the Cost Function**"
   ]
  },
  {
   "cell_type": "code",
   "execution_count": null,
   "metadata": {},
   "outputs": [],
   "source": [
    "# Helper function for evaluating the clasification results.  This is based on the Business Understanding step.\n",
    "# This acually is \"benefit\", since a positive value is considered good.\n",
    "from sklearn.metrics import confusion_matrix, accuracy_score, classification_report\n",
    "\n",
    "def calculate_cost(conf_matrix):\n",
    "#                           PREDICTED VALUES\n",
    "#                    setosa  versicolor   virginica\n",
    "    cost_matrix = [[    400,       -200,       -300],    # setosa\n",
    "                   [   -100,        800,       -300],    # versicolor    TRUE VALUES\n",
    "                   [   -100,       -200,       1200]]    # virginica\n",
    "\n",
    "    total = 0\n",
    "    for r in range(0, conf_matrix.shape[0]):\n",
    "        for c in range(0, conf_matrix.shape[1]):\n",
    "            total = total + cost_matrix[r][c] * conf_matrix[r][c]\n",
    "    return total"
   ]
  },
  {
   "cell_type": "markdown",
   "metadata": {
    "tags": []
   },
   "source": [
    "### **Split the Dataset into Useful Pieces**"
   ]
  },
  {
   "cell_type": "code",
   "execution_count": null,
   "metadata": {
    "tags": []
   },
   "outputs": [],
   "source": [
    "from sklearn.model_selection import train_test_split\n",
    "\n",
    "# Specify the X (predictor) attributes and y (class) attribute.\n",
    "X = clean_data_df.drop('species',axis=1)  # all but the class variable\n",
    "y = clean_data_df['species']              # the class variable\n",
    "\n",
    "y_unique_values = clean_data_df['species'].unique().tolist()\n",
    "y_unique_values.sort(reverse=False)\n",
    "print(y_unique_values)\n",
    "print(clean_data_df['species'].value_counts())\n",
    "\n",
    "# Split the dataset into the training and test datasets, for use in training a classification algorithm.\n",
    "# Use a specific random seed, so it is reproducible.\n",
    "# Kep \"_all\" for now, because we might trim them below.\n",
    "X_train_all_att, X_test_all_att, y_train, y_test = train_test_split(X, y, test_size=0.33, random_state=42)\n",
    "print(X_train_all_att.shape[0])\n",
    "print(X_test_all_att.shape[0])"
   ]
  },
  {
   "cell_type": "markdown",
   "metadata": {
    "tags": []
   },
   "source": [
    "***\n",
    "### **Select the Specific Attributes to Use**\n",
    "- Based on the Data Understanding step, we may want to use just a subset of X attributes, based on their predictive value.\n",
    "- Describe what you chose to do (and not do), and why.\n",
    "***"
   ]
  },
  {
   "cell_type": "code",
   "execution_count": null,
   "metadata": {},
   "outputs": [],
   "source": [
    "# From the Data Understanding step, it appears that the **petal_area** attribute is particularly predictive of the **species**.\n",
    "X_attributes_to_use = ['sepal_length','sepal_width','petal_length','petal_width']\n",
    "# We could also try the \"original\" Iris attributes (from the standard dataset that is used commonly for example code.)\n",
    "#X_attributes_to_use = ['sepal_length','sepal_width','petal_length','petal_width']\n",
    "\n",
    "X_train = X_train_all_att[X_attributes_to_use]\n",
    "X_test = X_test_all_att[X_attributes_to_use]"
   ]
  },
  {
   "cell_type": "code",
   "execution_count": null,
   "metadata": {
    "tags": []
   },
   "outputs": [],
   "source": [
    "# Feature Scaling\n",
    "# Before making any actual predictions, it is a good practice to scale the features so that all of them can be uniformly evaluated. Wikipedia explains the reasoning pretty well:\n",
    "# \"Since the range of values of raw data varies widely, in some machine learning algorithms, objective functions will not work properly without normalization.\n",
    "# For example, the majority of classifiers calculate the distance between two points by the Euclidean distance. If one of the features has a broad range of values, \n",
    "# the distance will be governed by this particular feature. Therefore, the range of all features should be normalized so that each feature contributes approximately \n",
    "# proportionately to the final distance. The gradient descent algorithm (which is used in neural network training and other machine learning algorithms) also \n",
    "# converges faster with normalized features.\"\n",
    "\n",
    "from sklearn.preprocessing import StandardScaler\n",
    "scaler = StandardScaler()\n",
    "scaler.fit(X_train)\n",
    "\n",
    "X_train = scaler.transform(X_train)\n",
    "X_test = scaler.transform(X_test)"
   ]
  },
  {
   "cell_type": "code",
   "execution_count": null,
   "metadata": {
    "tags": []
   },
   "outputs": [],
   "source": [
    "# Calculate the best possible cost for the test dataset - when the class labels are perfect.\n",
    "ccc=confusion_matrix(y_test, y_test, labels=['setosa','versicolor','virginica'])\n",
    "best_possible_cost = calculate_cost(ccc)\n",
    "print(\"Best Possible - Test data cost (benefit) is: \", best_possible_cost, \"total, and per instance\", best_possible_cost / len(y_test))"
   ]
  },
  {
   "cell_type": "markdown",
   "metadata": {},
   "source": [
    "***\n",
    "### **Configure the off-the-shelf KNN classifier**\n",
    "- Use the KNeighborsClassifier from the SciKit Learn library\n",
    "- Explain all setup, parameters and execution options you chose to set, and why.\n",
    "***"
   ]
  },
  {
   "cell_type": "code",
   "execution_count": null,
   "metadata": {},
   "outputs": [],
   "source": [
    "#K-Nearest Neighbors Algorithm in Python and Scikit-Learn\n",
    "from sklearn.neighbors import KNeighborsClassifier\n",
    "\n",
    "knn_num_neighbors = 5   # Chosen as an example\n",
    "classifier = KNeighborsClassifier(n_neighbors=knn_num_neighbors)"
   ]
  },
  {
   "cell_type": "markdown",
   "metadata": {
    "tags": []
   },
   "source": [
    "***\n",
    "### **Run and Evaluate the Classifier for a Single (Example) K Parameter Value**\n",
    "- Evaluate the performance of the classifier, using the evaluation method you defined above.\n",
    "***"
   ]
  },
  {
   "cell_type": "code",
   "execution_count": null,
   "metadata": {
    "tags": []
   },
   "outputs": [],
   "source": [
    "classifier.fit(X_train, y_train)"
   ]
  },
  {
   "cell_type": "code",
   "execution_count": null,
   "metadata": {
    "tags": []
   },
   "outputs": [],
   "source": [
    "# Generate the predictions for the Training data, and evaluate the results.\n",
    "y_pred = classifier.predict(X_train)\n",
    "\n",
    "conf_matrix = confusion_matrix(y_train, y_pred, labels=y_unique_values)\n",
    "print(conf_matrix) # true values in rows, predicted in columns\n",
    "print(classification_report(y_train, y_pred))\n",
    "\n",
    "knn_train_cost = calculate_cost(conf_matrix)\n",
    "print(knn_num_neighbors, \"Nearest Neighbor - Training data cost (benefit) is: \", knn_train_cost, \"total, and per instance\", knn_train_cost / len(y_test))"
   ]
  },
  {
   "cell_type": "code",
   "execution_count": null,
   "metadata": {
    "tags": []
   },
   "outputs": [],
   "source": [
    "# Generate the predictions for the Test data, and evaluate the results.\n",
    "y_pred = classifier.predict(X_test)\n",
    "\n",
    "conf_matrix = confusion_matrix(y_test, y_pred, labels=y_unique_values)\n",
    "print(conf_matrix) # true values in rows, predicted in columns\n",
    "print(classification_report(y_test, y_pred))\n",
    "\n",
    "knn_cost = calculate_cost(conf_matrix)\n",
    "print(knn_num_neighbors, \"Nearest Neighbor - Test data cost (benefit) is: \", knn_cost, \"total, and per instance\", knn_cost / len(y_test))"
   ]
  },
  {
   "cell_type": "markdown",
   "metadata": {
    "tags": []
   },
   "source": [
    "***\n",
    "### **Run and Evaluate the Classifier for a Range of K Parameter Values**\n",
    "- Evaluate the performance of the classifier, using the evaluation method you defined above.\n",
    "***"
   ]
  },
  {
   "cell_type": "code",
   "execution_count": null,
   "metadata": {},
   "outputs": [],
   "source": [
    "# Calculate quality measures for various K values.\n",
    "quality_accuracy_meas = []\n",
    "quality_cost_meas = []\n",
    "\n",
    "for i in range(1, 50):\n",
    "    knn = KNeighborsClassifier(n_neighbors=i)\n",
    "    knn.fit(X_train, y_train)\n",
    "    pred_i = knn.predict(X_test)\n",
    "    quality_accuracy_meas.append(accuracy_score(y_test, pred_i))\n",
    "    quality_cost_meas.append(calculate_cost(confusion_matrix(y_test, pred_i, labels=y_unique_values)))   # cost values"
   ]
  },
  {
   "cell_type": "code",
   "execution_count": null,
   "metadata": {},
   "outputs": [],
   "source": [
    "# Plot the accuracy values against K values.\n",
    "plt.figure(figsize=(12, 6))\n",
    "plt.plot(range(1, 50), quality_accuracy_meas, color='red', linestyle='dashed', marker='o', markerfacecolor='blue', markersize=10)\n",
    "plt.title('Quality Results')\n",
    "plt.xlabel('K Value')\n",
    "plt.ylabel('Accuracy')\n",
    "plt.show()"
   ]
  },
  {
   "cell_type": "code",
   "execution_count": null,
   "metadata": {},
   "outputs": [],
   "source": [
    "# Plot the cost values against K values.\n",
    "plt.figure(figsize=(12, 6))\n",
    "plt.plot(range(1, 50), quality_cost_meas, color='red', linestyle='dashed', marker='o', markerfacecolor='blue', markersize=10)\n",
    "plt.title('Quality Results')\n",
    "plt.xlabel('K Value')\n",
    "plt.ylabel('Cost (Benefit)')\n",
    "plt.show()"
   ]
  },
  {
   "cell_type": "code",
   "execution_count": null,
   "metadata": {},
   "outputs": [],
   "source": []
  },
  {
   "cell_type": "code",
   "execution_count": null,
   "metadata": {},
   "outputs": [],
   "source": []
  },
  {
   "cell_type": "markdown",
   "metadata": {
    "tags": []
   },
   "source": [
    "***\n",
    "# Section: 5 - Evaluation\n",
    "In this step, the analyses and/or models are evaluated for quality and relevance / usefulness.\n",
    "\n",
    "NOTE: This step is tightly coupled and iterative with the Modeling step.\n",
    "***"
   ]
  },
  {
   "cell_type": "code",
   "execution_count": null,
   "metadata": {},
   "outputs": [],
   "source": []
  },
  {
   "cell_type": "markdown",
   "metadata": {},
   "source": [
    "**Discussion:**\n",
    "\n",
    "Fill in..."
   ]
  },
  {
   "cell_type": "code",
   "execution_count": null,
   "metadata": {},
   "outputs": [],
   "source": []
  },
  {
   "cell_type": "markdown",
   "metadata": {
    "tags": []
   },
   "source": [
    "***\n",
    "# Section: 6 - Deployment\n",
    "In this step, data and resulting models and/or analyses are put to use. This may include:\n",
    "- Deploying data mining / machine learning algorithms to production.\n",
    "- Communicating the results of the analyses to business stakeholders, so they can take action.\n",
    "***"
   ]
  },
  {
   "cell_type": "code",
   "execution_count": null,
   "metadata": {},
   "outputs": [],
   "source": []
  },
  {
   "cell_type": "markdown",
   "metadata": {
    "tags": []
   },
   "source": [
    "**Discussion:**\n",
    "\n",
    "Fill in..."
   ]
  },
  {
   "cell_type": "code",
   "execution_count": null,
   "metadata": {},
   "outputs": [],
   "source": []
  },
  {
   "cell_type": "markdown",
   "metadata": {
    "tags": []
   },
   "source": [
    "***\n",
    "# Section: Conclusions\n",
    "- What did you learn from this exercise?\n",
    "***"
   ]
  },
  {
   "cell_type": "markdown",
   "metadata": {
    "tags": []
   },
   "source": [
    "Fill in..."
   ]
  },
  {
   "cell_type": "code",
   "execution_count": null,
   "metadata": {},
   "outputs": [],
   "source": []
  }
 ],
 "metadata": {
  "kernelspec": {
   "display_name": "Python 3 (ipykernel)",
   "language": "python",
   "name": "python3"
  },
  "language_info": {
   "codemirror_mode": {
    "name": "ipython",
    "version": 3
   },
   "file_extension": ".py",
   "mimetype": "text/x-python",
   "name": "python",
   "nbconvert_exporter": "python",
   "pygments_lexer": "ipython3",
   "version": "3.7.10"
  },
  "latex_envs": {
   "LaTeX_envs_menu_present": true,
   "autoclose": false,
   "autocomplete": true,
   "bibliofile": "biblio.bib",
   "cite_by": "apalike",
   "current_citInitial": 1,
   "eqLabelWithNumbers": true,
   "eqNumInitial": 1,
   "hotkeys": {
    "equation": "Ctrl-E",
    "itemize": "Ctrl-I"
   },
   "labels_anchors": false,
   "latex_user_defs": false,
   "report_style_numbering": false,
   "user_envs_cfg": false
  }
 },
 "nbformat": 4,
 "nbformat_minor": 4
}
