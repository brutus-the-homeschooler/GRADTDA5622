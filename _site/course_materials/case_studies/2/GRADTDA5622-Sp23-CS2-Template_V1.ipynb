{
 "cells": [
  {
   "cell_type": "markdown",
   "metadata": {
    "tags": []
   },
   "source": [
    "# GRADTDA5622 - Big Data Computing Foundations 2\n",
    "## Case Study 2: CRISP-DM Data Preparation\n",
    "Replace the example information below with your real information:\n",
    "- Semester: Spring/Autumn 20xx (FILL IN)\n",
    "- Instructor: Mr. X (FILL IN)\n",
    "- Section: 12345 (FILL IN) (if applicable)\n",
    "- Student Name(s): Able Baker (FILL IN)\n",
    "- Student Email(s): baker.12345@osu.edu (FILL IN)\n",
    "- Student ID(s): 123456789  (FILL IN)\n",
    "\n",
    "Based on CRISP-DM Template Version V12.\n",
    "***"
   ]
  },
  {
   "cell_type": "markdown",
   "metadata": {
    "tags": []
   },
   "source": [
    "***\n",
    "# Section: Overview\n",
    "- Insert a short description of the scope of this exercise, any supporting information, etc.\n",
    "- **(I will fill this in for each assignment - Tom Bihari)**\n",
    "***"
   ]
  },
  {
   "cell_type": "markdown",
   "metadata": {},
   "source": [
    "**NOTE: This assignment uses the results of Case Study 1, with the same dataset.**"
   ]
  },
  {
   "cell_type": "markdown",
   "metadata": {},
   "source": [
    "### Assignment Overview\n",
    "In this assignment, you will analyze an ALTERED copy of the “Hotel Booking Demand” dataset.\n",
    "- This dataset was pulled on 4/8/22 from: https://www.kaggle.com/datasets/jessemostipak/hotel-booking-demand\n",
    "- The dataset file is named: **hotel_bookings_with_errors_V1.csv**\n",
    "\n",
    "**The data has been altered slightly for use in course assignments,etc.:**\n",
    "- A unique ROW attribute has been added.\n",
    "- Errors have been added, such as: duplicated records, deleted records, deleted attribute values, erroneous attribute values.\n",
    "**DO NOT PUBLISH THIS DATASET - it contains intentionally wrong data!**\n",
    "\n",
    "This assignment covers the **Step 3 - Data Preparation** of the six steps of the **CRISP-DM process model**.\n",
    "\n",
    "**The Objectives of This Assignment are:**\n",
    "1. To perform the CRISP-DM Data Preparation step, based on the work you did in Case Study 1 for the Data Understanding step.\n",
    "2. To get practice using common functions in Python / Pandas.\n",
    "3. To get practice discussing / explaining your results, findings, and insights.\n",
    "4. The results of this step will help set the stage for the remaining CRISP-DM steps, in which you may practice deeper analysis and model-building in the future.\n",
    "\n",
    "### Problem Statement\n",
    "Assume that you are the Director of Data Science for Buckeye Resorts, Inc. (BRI), an international hotel chain.  As is the case for all hotel chains, reservation cancellations cause significant impacts to BRI, in profitability, logistics, and other areas.  The cost to BRI of a cancelled reservation is $500 on average. \n",
    "\n",
    "- BRI wants to improve (decrease) the cancellation rates at its hotels, using more tailored interventions, based on newly available detailed data.  BRI processes 100,000 reservations per year, so an incremental improvement in cancellation rates would have a significant impact.\n",
    "\n",
    "- One intervention being considered is to offer a special financial incentive to customers who have reservations, but who are “at risk” of cancellation.  BRI has performed a small pilot test, and has found that offering a $100 discount to a customer who is planning to cancel is effective 30% of the time in inducing the customer not to cancel (by locking in a no-cancellation clause in exchange for the discount).\n",
    "\n",
    "- BRI leadership asked your team to analyze the new data, and determine if it is suitable for developing analyses and models that would be effective in predicting which future reservations are likely to be at risk of cancellation, so the aforementioned financial incentive could be offered.\n",
    "\n",
    "- The head of BRI would then like you attend the upcoming BRI Board of Directors meeting.  She has asked you to present your findings to her and to the BOD, to help them decide whether to go forward with the planned tailored intervention approach, and/or to adjust or abandon the approach.  Your goal is to support the BOD in making a decision. \n",
    "\n",
    "You **now** need to create (prepare) a clean dataset from the Case Study 1 results.  **This data will be used in future steps to evaluate various classification models to see if they are effective at predicting reservations \"at risk\" of being cancelled.  Assume the Class variable is the \"is_canceled\" attribute, and prepare your dataset so it can be used to predict the is_canceled attribute from other, relevant attributes.**  You do not yet know the specific algorithm, formula or model you will use to predict cancellations.  **That will come in later steps.**\n",
    "\n",
    "### Things To Do\n",
    "- Fill in the following sections:\n",
    "  - **Sections 1 and 2 (Business Understanding and Data Understanding)**: Please **copy your Case Study 1 results** into this notebook.  The template is exactly the same, so you should be able to simply copy/paste the cells from the CS1 notebook to this notebook. (You can highlight them all at once and do a single copy/paste - select and shift-click.)\n",
    "  - **Section 3 (Data Preparation)**: **Fill in** this section, based on what you discovered in Section 2. \n",
    "  - **Conclusions**: **Fill in** this section at the end.\n",
    "  - You may **ignore** the other sections.\n",
    "- You may use the sample code in this module's asynchronous lectures and walkthroughs and/or include other visualizations and analyses from other sources.\n",
    "- Be sure to write useful comments in the **Discussion** cells.\n",
    "\n",
    "It is essential that you **communicate** your goals, thought process, actions, results, and conclusions to the **audience** that will consume this work.  It is **not enough** to show just the code.  It is not appropriate to show long sections of **unexplained printout**, etc.  Be kind to your readers and provide value to them!\n",
    "\n",
    "**ALWAYS follow this pattern** when doing **each portion** of the work.  This allows us to give feedback and assign scores, and to give partial credit.  Make it easy for the reader to understand your work.\n",
    "- Say (briefly) **what** you are trying to do, and **why**.\n",
    "- Do it (code).\n",
    "- Show or describe the **result** clearly (and briefly as needed), and explain the significant **conclusions or insights** derived from the results. \n",
    "\n",
    "**HAVE FUN!**"
   ]
  },
  {
   "cell_type": "markdown",
   "metadata": {},
   "source": [
    "***\n",
    "# Section: Setup\n",
    "- Add any needed imports, helper functions, etc., here.\n",
    "***"
   ]
  },
  {
   "cell_type": "code",
   "execution_count": 1,
   "metadata": {},
   "outputs": [],
   "source": [
    "import numpy as np\n",
    "import pandas as pd\n",
    "\n",
    "#!pip install matplotlib\n",
    "import matplotlib\n",
    "import matplotlib.pyplot as plt\n",
    "%matplotlib inline\n",
    "#matplotlib.use('Qt5Agg')\n",
    "\n",
    "import seaborn as sns\n",
    "\n",
    "pd.set_option('display.max_columns', 50) #include to avoid ... in middle of display"
   ]
  },
  {
   "cell_type": "markdown",
   "metadata": {
    "tags": []
   },
   "source": [
    "***\n",
    "# Section: 1 - Business Understanding\n",
    "- This step is essential (and occasionally ignored…).  It focuses on understanding the business needs and objectives, and defining a data analysis problem that is relevant and useful to the business, so the right solution is built.\n",
    "\n",
    "- Consider the following questions and discuss the possible answers to them in the spaces below.\n",
    "  - It is OK to say that you do not know.  How might you get answers to the questions?\n",
    "  - You may consider some of the questions to be \"not applicable\".  If so, why?\n",
    "  - You may choose to use markdown instead of raw text in the answer cells, to make them \"pretty\" and easy to read.\n",
    "***"
   ]
  },
  {
   "cell_type": "markdown",
   "metadata": {},
   "source": [
    "**Context**\n",
    "- What is the overview, history, big picture?"
   ]
  },
  {
   "cell_type": "code",
   "execution_count": null,
   "metadata": {},
   "outputs": [],
   "source": []
  },
  {
   "cell_type": "markdown",
   "metadata": {},
   "source": [
    "**Business Objectives**\n",
    "- What is the problem or opportunity to be addressed / solved?\n",
    "- What is its business value?"
   ]
  },
  {
   "cell_type": "code",
   "execution_count": null,
   "metadata": {},
   "outputs": [],
   "source": []
  },
  {
   "cell_type": "markdown",
   "metadata": {},
   "source": [
    "**Stakeholders**\n",
    "- Who are they?\n",
    "- What are their needs?"
   ]
  },
  {
   "cell_type": "code",
   "execution_count": null,
   "metadata": {},
   "outputs": [],
   "source": []
  },
  {
   "cell_type": "markdown",
   "metadata": {
    "tags": []
   },
   "source": [
    "**General Goals**\n",
    "- Understand the past/current state (descriptive)?\n",
    "- Predict the future (predictive)?\n",
    "- Mine for unknown patterns / insights?\n",
    "- Answer questions?  What are they?\n",
    "- Support decisions?  What are they?"
   ]
  },
  {
   "cell_type": "code",
   "execution_count": null,
   "metadata": {
    "tags": []
   },
   "outputs": [],
   "source": []
  },
  {
   "cell_type": "markdown",
   "metadata": {
    "tags": []
   },
   "source": [
    "**Scope**\n",
    "- What is the specific scope of the project?\n",
    "- What, specifically, is NOT in scope?  (What are you not doing that someone might think you are doing?)\n",
    "Is the scope flexible?  In what way?"
   ]
  },
  {
   "cell_type": "code",
   "execution_count": null,
   "metadata": {},
   "outputs": [],
   "source": []
  },
  {
   "cell_type": "markdown",
   "metadata": {},
   "source": [
    "**Deliverables**\n",
    "- Report?\n",
    "- Reusable code?\n",
    "- Presentation?"
   ]
  },
  {
   "cell_type": "code",
   "execution_count": null,
   "metadata": {},
   "outputs": [],
   "source": []
  },
  {
   "cell_type": "markdown",
   "metadata": {},
   "source": [
    "**Success Criteria**\n",
    "- What, specifically, must be accomplished for this project to be a success?"
   ]
  },
  {
   "cell_type": "code",
   "execution_count": null,
   "metadata": {},
   "outputs": [],
   "source": []
  },
  {
   "cell_type": "markdown",
   "metadata": {},
   "source": [
    "**Solution Approach**\n",
    "- Is this a “one time” (throw away) solution?\n",
    "- Or will the solution become part of repeated process that is used and enhanced over time?"
   ]
  },
  {
   "cell_type": "code",
   "execution_count": null,
   "metadata": {},
   "outputs": [],
   "source": []
  },
  {
   "cell_type": "markdown",
   "metadata": {},
   "source": [
    "**Quality**\n",
    "- What level of Correctness or Confidence is needed?\n",
    "- Is this life-critical or are we looking for ‘directionally correct’ results?"
   ]
  },
  {
   "cell_type": "code",
   "execution_count": null,
   "metadata": {},
   "outputs": [],
   "source": []
  },
  {
   "cell_type": "markdown",
   "metadata": {},
   "source": [
    "**Constraints**\n",
    "- Are there legal / regulatory implications (privacy, security, liability, HIPAA, FERPA)?\n",
    "- Are there architectural constraints?"
   ]
  },
  {
   "cell_type": "code",
   "execution_count": null,
   "metadata": {},
   "outputs": [],
   "source": []
  },
  {
   "cell_type": "markdown",
   "metadata": {
    "tags": []
   },
   "source": [
    "**Time / Cost**\n",
    "- What is the deadline or budget?"
   ]
  },
  {
   "cell_type": "code",
   "execution_count": null,
   "metadata": {},
   "outputs": [],
   "source": []
  },
  {
   "cell_type": "markdown",
   "metadata": {
    "tags": []
   },
   "source": [
    "**Dependencies**\n",
    "- Is this project dependent on any other project or activity?\n",
    "- Is any other project or activity dependent on this project?"
   ]
  },
  {
   "cell_type": "code",
   "execution_count": null,
   "metadata": {},
   "outputs": [],
   "source": []
  },
  {
   "cell_type": "markdown",
   "metadata": {},
   "source": [
    "**Resources Needed**\n",
    "- Do you potentially need access to specific people, data, etc?"
   ]
  },
  {
   "cell_type": "code",
   "execution_count": null,
   "metadata": {},
   "outputs": [],
   "source": []
  },
  {
   "cell_type": "markdown",
   "metadata": {},
   "source": [
    "**Other Considerations**\n",
    "- What other considerations, not covered above, might be relevant?"
   ]
  },
  {
   "cell_type": "code",
   "execution_count": null,
   "metadata": {
    "tags": []
   },
   "outputs": [],
   "source": []
  },
  {
   "cell_type": "markdown",
   "metadata": {
    "tags": []
   },
   "source": [
    "***\n",
    "# Section: 2 - Data Understanding\n",
    "- Perform exploratory data analysis of the dataset by looking at individual attributes and/or combinations of attributes. You should focus on identifying and describing interesting observations and insights that you might uncover from the data.\n",
    "- You should not simply provide the basic EDA information for all attributes in the data. Instead, you should focus on those that are more interesting or important, and provide some discussion of what you observe. Pay particular attention to potentially interesting bivariate (two-variable) relationships, as well as the relationship between each attribute and the class attribute (if this is a classification problem).\n",
    "- This step includes:\n",
    "  - Understanding what data might be available and relevant.\n",
    "  - Acquiring the data.\n",
    "  - Understanding the characteristics of the data (e.g., quality, completeness, currency, consistency,…).\n",
    "  - Understanding how other datasets might enhance or supplement the data (and acquiring that data as well).\n",
    "  - Possibly performing some initial analysis to build confidence that the overall direction is likely to be helpful to the business problem to be solved.\n",
    "\n",
    "**NOTE:** Frequently, a first pass is made through the data to fix or remove \"obvious\" data quality issues (missing values, duplicate records, outliers (some), etc.).  The deeper Data Understanding analysis then is done on the \"cleaned\" data.  This mitigates the issue of bad data skewing the data analysis results.  **For this example, we will not do this separate first pass.**\n",
    "***"
   ]
  },
  {
   "cell_type": "markdown",
   "metadata": {},
   "source": [
    "***\n",
    "## Section: 2.1 - Describe the meaning and type of data for each attribute.\n",
    "\n",
    "Identify the type of data for each attribute.\n",
    "  - Categorical: Nominal, Ordinal\n",
    "  - Numerical: Interval, Ratio\n",
    "  - Other: Complex or unstructured data (e.g., text strings, images,...)\n",
    "  \n",
    "NOTES:\n",
    "  - This determines what operations are \"meaningful\" for each attribute.  For example, you can't add two Ordinal attributes.\n",
    "  - You can't always tell the attribute types from the data itself.  For example, an Integer attribute could be Ordinal or Interval.\n",
    "\n",
    "Identify interesting characteristics of the data (e.g., quality, completeness, currency, consistency,…).\n",
    "  - Is this dataset relevant and appropriate for the goals of this project?\n",
    "    - If not, what could you do? (find other data to replace or supplement this dataset, etc.)\n",
    "***"
   ]
  },
  {
   "cell_type": "markdown",
   "metadata": {},
   "source": [
    "### **Examine the meta-data (e.g., from data dictionary) available for the dataset.**"
   ]
  },
  {
   "cell_type": "code",
   "execution_count": null,
   "metadata": {},
   "outputs": [],
   "source": []
  },
  {
   "cell_type": "markdown",
   "metadata": {},
   "source": [
    "**Discussion:**\n",
    "- Fill in..."
   ]
  },
  {
   "cell_type": "markdown",
   "metadata": {},
   "source": [
    "### **Load the Dataset.**"
   ]
  },
  {
   "cell_type": "code",
   "execution_count": 2,
   "metadata": {
    "tags": []
   },
   "outputs": [
    {
     "name": "stdout",
     "output_type": "stream",
     "text": [
      "Loading source data\n",
      "Done!\n"
     ]
    }
   ],
   "source": [
    "#OPTIONAL: Load it only once per session, and save it, so we don't waste time.\n",
    "\n",
    "#NOTE: You may need to change the path to the data file, depending on your setup.\n",
    "\n",
    "try:\n",
    "    _ = data_from_source_file_df\n",
    "    print(\"Reusing source data\")\n",
    "except:\n",
    "    print(\"Loading source data\")\n",
    "    data_from_source_file_df = pd.read_csv(\"../shared_Sp23/hotel_bookings_with_errors_V1.csv\")\n",
    "data_df = data_from_source_file_df\n",
    "print(\"Done!\")"
   ]
  },
  {
   "cell_type": "code",
   "execution_count": 3,
   "metadata": {},
   "outputs": [
    {
     "name": "stdout",
     "output_type": "stream",
     "text": [
      "<class 'pandas.core.frame.DataFrame'>\n",
      "RangeIndex: 119391 entries, 0 to 119390\n",
      "Data columns (total 33 columns):\n",
      " #   Column                          Non-Null Count   Dtype  \n",
      "---  ------                          --------------   -----  \n",
      " 0   ROW                             119391 non-null  int64  \n",
      " 1   hotel                           119391 non-null  object \n",
      " 2   is_canceled                     119390 non-null  float64\n",
      " 3   lead_time                       119391 non-null  int64  \n",
      " 4   arrival_date_year               119391 non-null  int64  \n",
      " 5   arrival_date_month              119391 non-null  object \n",
      " 6   arrival_date_week_number        119391 non-null  int64  \n",
      " 7   arrival_date_day_of_month       119391 non-null  int64  \n",
      " 8   stays_in_weekend_nights         119391 non-null  int64  \n",
      " 9   stays_in_week_nights            119391 non-null  int64  \n",
      " 10  adults                          119391 non-null  int64  \n",
      " 11  children                        119387 non-null  float64\n",
      " 12  babies                          119391 non-null  int64  \n",
      " 13  meal                            119391 non-null  object \n",
      " 14  country                         118903 non-null  object \n",
      " 15  market_segment                  119391 non-null  object \n",
      " 16  distribution_channel            119391 non-null  object \n",
      " 17  is_repeated_guest               119391 non-null  int64  \n",
      " 18  previous_cancellations          119391 non-null  int64  \n",
      " 19  previous_bookings_not_canceled  119391 non-null  int64  \n",
      " 20  reserved_room_type              119391 non-null  object \n",
      " 21  assigned_room_type              119391 non-null  object \n",
      " 22  booking_changes                 119391 non-null  int64  \n",
      " 23  deposit_type                    119391 non-null  object \n",
      " 24  agent                           103051 non-null  float64\n",
      " 25  company                         6797 non-null    float64\n",
      " 26  days_in_waiting_list            119391 non-null  int64  \n",
      " 27  customer_type                   119391 non-null  object \n",
      " 28  adr                             119391 non-null  float64\n",
      " 29  required_car_parking_spaces     119391 non-null  int64  \n",
      " 30  total_of_special_requests       119391 non-null  int64  \n",
      " 31  reservation_status              119391 non-null  object \n",
      " 32  reservation_status_date         119391 non-null  object \n",
      "dtypes: float64(5), int64(16), object(12)\n",
      "memory usage: 30.1+ MB\n"
     ]
    }
   ],
   "source": [
    "# Print the schema, based on the data in the file.\n",
    "data_df.info()"
   ]
  },
  {
   "cell_type": "markdown",
   "metadata": {},
   "source": [
    "**Discussion:**\n",
    "- Fill in..."
   ]
  },
  {
   "cell_type": "code",
   "execution_count": 4,
   "metadata": {},
   "outputs": [],
   "source": [
    "# # Create some simple lists for future use\n",
    "# all_attribute_names = list(data_df)\n",
    "# print(all_attribute_names)\n",
    "# class_attribute_name = []\n",
    "# nominal_attribute_names = []\n",
    "# ordinal_attribute_names = []\n",
    "# categorical_attribute_names = nominal_attribute_names + ordinal_attribute_names\n",
    "# interval_attribute_names = []\n",
    "# ratio_attribute_names = []\n",
    "# numerical_attribute_names = interval_attribute_names + ratio_attribute_names"
   ]
  },
  {
   "cell_type": "markdown",
   "metadata": {},
   "source": [
    "**Discussion:**\n",
    "- Fill in..."
   ]
  },
  {
   "cell_type": "code",
   "execution_count": null,
   "metadata": {},
   "outputs": [],
   "source": []
  },
  {
   "cell_type": "markdown",
   "metadata": {
    "tags": []
   },
   "source": [
    "***\n",
    "## Section: 2.2 - Provide basic statistics for the attributes.\n",
    "- For example: counts, percentiles, mean, median, standard deviation. The statistics should be relevant for the type of attribute.\n",
    "***"
   ]
  },
  {
   "cell_type": "code",
   "execution_count": 5,
   "metadata": {},
   "outputs": [],
   "source": [
    "# # This is an optional step.  Pandas Profiling is a library that provides a sophisticated profiling report\n",
    "# #  that can be saved in the form of an interactive HTML file.  See: https://pypi.org/project/pandas-profiling/\n",
    "# #  It may run very slowly on large datasets.  It is best to limit the number of records to profile, based on\n",
    "# #  experimentation with your computer.  You can do so by profiling small samples from large datasets.\n",
    "# #  You also can specify the \"minimal=True\" argument in newer versions of the library.\n",
    "# # To install, uncomment and run the following line (one time).\n",
    "# #!pip install pandas_profiling\n",
    "\n",
    "# import pandas_profiling\n",
    "# if data_df.shape[0] > 500:\n",
    "#     profile = pandas_profiling.ProfileReport(data_df.sample(n=500))  # Limit to a small set of records.\n",
    "#     #profile = pandas_profiling.ProfileReport(data_df, minimal=True)  # Limit to the simpler profiling.\n",
    "# else:\n",
    "#     profile = pandas_profiling.ProfileReport(data_df)       \n",
    "# profile.to_file(\"./profilereport.html\")\n",
    "\n",
    "# # Set plotting back to interactive mode (pandas_profiling sets it to non-interactive)\n",
    "# %matplotlib inline"
   ]
  },
  {
   "cell_type": "markdown",
   "metadata": {
    "tags": []
   },
   "source": [
    "**Discussion:**\n",
    "- Fill in..."
   ]
  },
  {
   "cell_type": "code",
   "execution_count": 6,
   "metadata": {
    "tags": []
   },
   "outputs": [
    {
     "data": {
      "text/html": [
       "<div>\n",
       "<style scoped>\n",
       "    .dataframe tbody tr th:only-of-type {\n",
       "        vertical-align: middle;\n",
       "    }\n",
       "\n",
       "    .dataframe tbody tr th {\n",
       "        vertical-align: top;\n",
       "    }\n",
       "\n",
       "    .dataframe thead th {\n",
       "        text-align: right;\n",
       "    }\n",
       "</style>\n",
       "<table border=\"1\" class=\"dataframe\">\n",
       "  <thead>\n",
       "    <tr style=\"text-align: right;\">\n",
       "      <th></th>\n",
       "      <th>ROW</th>\n",
       "      <th>is_canceled</th>\n",
       "      <th>lead_time</th>\n",
       "      <th>arrival_date_year</th>\n",
       "      <th>arrival_date_week_number</th>\n",
       "      <th>arrival_date_day_of_month</th>\n",
       "      <th>stays_in_weekend_nights</th>\n",
       "      <th>stays_in_week_nights</th>\n",
       "      <th>adults</th>\n",
       "      <th>children</th>\n",
       "      <th>babies</th>\n",
       "      <th>is_repeated_guest</th>\n",
       "      <th>previous_cancellations</th>\n",
       "      <th>previous_bookings_not_canceled</th>\n",
       "      <th>booking_changes</th>\n",
       "      <th>agent</th>\n",
       "      <th>company</th>\n",
       "      <th>days_in_waiting_list</th>\n",
       "      <th>adr</th>\n",
       "      <th>required_car_parking_spaces</th>\n",
       "      <th>total_of_special_requests</th>\n",
       "    </tr>\n",
       "  </thead>\n",
       "  <tbody>\n",
       "    <tr>\n",
       "      <th>count</th>\n",
       "      <td>119391.000000</td>\n",
       "      <td>119390.000000</td>\n",
       "      <td>119391.000000</td>\n",
       "      <td>119391.000000</td>\n",
       "      <td>119391.000000</td>\n",
       "      <td>119391.000000</td>\n",
       "      <td>119391.000000</td>\n",
       "      <td>119391.000000</td>\n",
       "      <td>119391.000000</td>\n",
       "      <td>119387.000000</td>\n",
       "      <td>119391.000000</td>\n",
       "      <td>119391.000000</td>\n",
       "      <td>119391.000000</td>\n",
       "      <td>119391.000000</td>\n",
       "      <td>119391.000000</td>\n",
       "      <td>103051.00000</td>\n",
       "      <td>6797.000000</td>\n",
       "      <td>119391.000000</td>\n",
       "      <td>119391.000000</td>\n",
       "      <td>119391.000000</td>\n",
       "      <td>119391.000000</td>\n",
       "    </tr>\n",
       "    <tr>\n",
       "      <th>mean</th>\n",
       "      <td>59694.000050</td>\n",
       "      <td>0.370408</td>\n",
       "      <td>104.010662</td>\n",
       "      <td>2016.156544</td>\n",
       "      <td>27.165172</td>\n",
       "      <td>15.798117</td>\n",
       "      <td>0.927591</td>\n",
       "      <td>2.500297</td>\n",
       "      <td>1.856572</td>\n",
       "      <td>0.103889</td>\n",
       "      <td>0.007949</td>\n",
       "      <td>0.031912</td>\n",
       "      <td>0.087117</td>\n",
       "      <td>0.137096</td>\n",
       "      <td>0.221122</td>\n",
       "      <td>86.69487</td>\n",
       "      <td>189.266735</td>\n",
       "      <td>2.321130</td>\n",
       "      <td>101.831089</td>\n",
       "      <td>0.062517</td>\n",
       "      <td>0.571366</td>\n",
       "    </tr>\n",
       "    <tr>\n",
       "      <th>std</th>\n",
       "      <td>34465.357245</td>\n",
       "      <td>0.482916</td>\n",
       "      <td>106.862967</td>\n",
       "      <td>0.707481</td>\n",
       "      <td>13.605081</td>\n",
       "      <td>8.780897</td>\n",
       "      <td>0.998613</td>\n",
       "      <td>1.908278</td>\n",
       "      <td>0.582185</td>\n",
       "      <td>0.398560</td>\n",
       "      <td>0.097436</td>\n",
       "      <td>0.175766</td>\n",
       "      <td>0.844333</td>\n",
       "      <td>1.497431</td>\n",
       "      <td>0.652303</td>\n",
       "      <td>110.77504</td>\n",
       "      <td>131.655015</td>\n",
       "      <td>17.594648</td>\n",
       "      <td>50.535580</td>\n",
       "      <td>0.245290</td>\n",
       "      <td>0.792796</td>\n",
       "    </tr>\n",
       "    <tr>\n",
       "      <th>min</th>\n",
       "      <td>0.000000</td>\n",
       "      <td>0.000000</td>\n",
       "      <td>0.000000</td>\n",
       "      <td>2015.000000</td>\n",
       "      <td>1.000000</td>\n",
       "      <td>1.000000</td>\n",
       "      <td>0.000000</td>\n",
       "      <td>0.000000</td>\n",
       "      <td>0.000000</td>\n",
       "      <td>0.000000</td>\n",
       "      <td>0.000000</td>\n",
       "      <td>0.000000</td>\n",
       "      <td>0.000000</td>\n",
       "      <td>0.000000</td>\n",
       "      <td>0.000000</td>\n",
       "      <td>1.00000</td>\n",
       "      <td>6.000000</td>\n",
       "      <td>0.000000</td>\n",
       "      <td>-6.380000</td>\n",
       "      <td>0.000000</td>\n",
       "      <td>0.000000</td>\n",
       "    </tr>\n",
       "    <tr>\n",
       "      <th>25%</th>\n",
       "      <td>29846.500000</td>\n",
       "      <td>0.000000</td>\n",
       "      <td>18.000000</td>\n",
       "      <td>2016.000000</td>\n",
       "      <td>16.000000</td>\n",
       "      <td>8.000000</td>\n",
       "      <td>0.000000</td>\n",
       "      <td>1.000000</td>\n",
       "      <td>2.000000</td>\n",
       "      <td>0.000000</td>\n",
       "      <td>0.000000</td>\n",
       "      <td>0.000000</td>\n",
       "      <td>0.000000</td>\n",
       "      <td>0.000000</td>\n",
       "      <td>0.000000</td>\n",
       "      <td>9.00000</td>\n",
       "      <td>62.000000</td>\n",
       "      <td>0.000000</td>\n",
       "      <td>69.290000</td>\n",
       "      <td>0.000000</td>\n",
       "      <td>0.000000</td>\n",
       "    </tr>\n",
       "    <tr>\n",
       "      <th>50%</th>\n",
       "      <td>59694.000000</td>\n",
       "      <td>0.000000</td>\n",
       "      <td>69.000000</td>\n",
       "      <td>2016.000000</td>\n",
       "      <td>28.000000</td>\n",
       "      <td>16.000000</td>\n",
       "      <td>1.000000</td>\n",
       "      <td>2.000000</td>\n",
       "      <td>2.000000</td>\n",
       "      <td>0.000000</td>\n",
       "      <td>0.000000</td>\n",
       "      <td>0.000000</td>\n",
       "      <td>0.000000</td>\n",
       "      <td>0.000000</td>\n",
       "      <td>0.000000</td>\n",
       "      <td>14.00000</td>\n",
       "      <td>179.000000</td>\n",
       "      <td>0.000000</td>\n",
       "      <td>94.590000</td>\n",
       "      <td>0.000000</td>\n",
       "      <td>0.000000</td>\n",
       "    </tr>\n",
       "    <tr>\n",
       "      <th>75%</th>\n",
       "      <td>89541.500000</td>\n",
       "      <td>1.000000</td>\n",
       "      <td>160.000000</td>\n",
       "      <td>2017.000000</td>\n",
       "      <td>38.000000</td>\n",
       "      <td>23.000000</td>\n",
       "      <td>2.000000</td>\n",
       "      <td>3.000000</td>\n",
       "      <td>2.000000</td>\n",
       "      <td>0.000000</td>\n",
       "      <td>0.000000</td>\n",
       "      <td>0.000000</td>\n",
       "      <td>0.000000</td>\n",
       "      <td>0.000000</td>\n",
       "      <td>0.000000</td>\n",
       "      <td>229.00000</td>\n",
       "      <td>270.000000</td>\n",
       "      <td>0.000000</td>\n",
       "      <td>126.000000</td>\n",
       "      <td>0.000000</td>\n",
       "      <td>1.000000</td>\n",
       "    </tr>\n",
       "    <tr>\n",
       "      <th>max</th>\n",
       "      <td>119389.000000</td>\n",
       "      <td>1.000000</td>\n",
       "      <td>737.000000</td>\n",
       "      <td>2017.000000</td>\n",
       "      <td>53.000000</td>\n",
       "      <td>31.000000</td>\n",
       "      <td>19.000000</td>\n",
       "      <td>50.000000</td>\n",
       "      <td>55.000000</td>\n",
       "      <td>10.000000</td>\n",
       "      <td>10.000000</td>\n",
       "      <td>1.000000</td>\n",
       "      <td>26.000000</td>\n",
       "      <td>72.000000</td>\n",
       "      <td>21.000000</td>\n",
       "      <td>535.00000</td>\n",
       "      <td>543.000000</td>\n",
       "      <td>391.000000</td>\n",
       "      <td>5400.000000</td>\n",
       "      <td>8.000000</td>\n",
       "      <td>5.000000</td>\n",
       "    </tr>\n",
       "  </tbody>\n",
       "</table>\n",
       "</div>"
      ],
      "text/plain": [
       "                 ROW    is_canceled      lead_time  arrival_date_year  \\\n",
       "count  119391.000000  119390.000000  119391.000000      119391.000000   \n",
       "mean    59694.000050       0.370408     104.010662        2016.156544   \n",
       "std     34465.357245       0.482916     106.862967           0.707481   \n",
       "min         0.000000       0.000000       0.000000        2015.000000   \n",
       "25%     29846.500000       0.000000      18.000000        2016.000000   \n",
       "50%     59694.000000       0.000000      69.000000        2016.000000   \n",
       "75%     89541.500000       1.000000     160.000000        2017.000000   \n",
       "max    119389.000000       1.000000     737.000000        2017.000000   \n",
       "\n",
       "       arrival_date_week_number  arrival_date_day_of_month  \\\n",
       "count             119391.000000              119391.000000   \n",
       "mean                  27.165172                  15.798117   \n",
       "std                   13.605081                   8.780897   \n",
       "min                    1.000000                   1.000000   \n",
       "25%                   16.000000                   8.000000   \n",
       "50%                   28.000000                  16.000000   \n",
       "75%                   38.000000                  23.000000   \n",
       "max                   53.000000                  31.000000   \n",
       "\n",
       "       stays_in_weekend_nights  stays_in_week_nights         adults  \\\n",
       "count            119391.000000         119391.000000  119391.000000   \n",
       "mean                  0.927591              2.500297       1.856572   \n",
       "std                   0.998613              1.908278       0.582185   \n",
       "min                   0.000000              0.000000       0.000000   \n",
       "25%                   0.000000              1.000000       2.000000   \n",
       "50%                   1.000000              2.000000       2.000000   \n",
       "75%                   2.000000              3.000000       2.000000   \n",
       "max                  19.000000             50.000000      55.000000   \n",
       "\n",
       "            children         babies  is_repeated_guest  \\\n",
       "count  119387.000000  119391.000000      119391.000000   \n",
       "mean        0.103889       0.007949           0.031912   \n",
       "std         0.398560       0.097436           0.175766   \n",
       "min         0.000000       0.000000           0.000000   \n",
       "25%         0.000000       0.000000           0.000000   \n",
       "50%         0.000000       0.000000           0.000000   \n",
       "75%         0.000000       0.000000           0.000000   \n",
       "max        10.000000      10.000000           1.000000   \n",
       "\n",
       "       previous_cancellations  previous_bookings_not_canceled  \\\n",
       "count           119391.000000                   119391.000000   \n",
       "mean                 0.087117                        0.137096   \n",
       "std                  0.844333                        1.497431   \n",
       "min                  0.000000                        0.000000   \n",
       "25%                  0.000000                        0.000000   \n",
       "50%                  0.000000                        0.000000   \n",
       "75%                  0.000000                        0.000000   \n",
       "max                 26.000000                       72.000000   \n",
       "\n",
       "       booking_changes         agent      company  days_in_waiting_list  \\\n",
       "count    119391.000000  103051.00000  6797.000000         119391.000000   \n",
       "mean          0.221122      86.69487   189.266735              2.321130   \n",
       "std           0.652303     110.77504   131.655015             17.594648   \n",
       "min           0.000000       1.00000     6.000000              0.000000   \n",
       "25%           0.000000       9.00000    62.000000              0.000000   \n",
       "50%           0.000000      14.00000   179.000000              0.000000   \n",
       "75%           0.000000     229.00000   270.000000              0.000000   \n",
       "max          21.000000     535.00000   543.000000            391.000000   \n",
       "\n",
       "                 adr  required_car_parking_spaces  total_of_special_requests  \n",
       "count  119391.000000                119391.000000              119391.000000  \n",
       "mean      101.831089                     0.062517                   0.571366  \n",
       "std        50.535580                     0.245290                   0.792796  \n",
       "min        -6.380000                     0.000000                   0.000000  \n",
       "25%        69.290000                     0.000000                   0.000000  \n",
       "50%        94.590000                     0.000000                   0.000000  \n",
       "75%       126.000000                     0.000000                   1.000000  \n",
       "max      5400.000000                     8.000000                   5.000000  "
      ]
     },
     "execution_count": 6,
     "metadata": {},
     "output_type": "execute_result"
    }
   ],
   "source": [
    "data_df.describe() #calculates statistics for all numerical columns"
   ]
  },
  {
   "cell_type": "markdown",
   "metadata": {
    "tags": []
   },
   "source": [
    "**Discussion:**\n",
    "Note that there are some suspicious values above.  These may be data quality issues.  Suggestions:\n",
    "- Fill in..."
   ]
  },
  {
   "cell_type": "markdown",
   "metadata": {},
   "source": [
    "***\n",
    "## Section: 2.3 - Visualize / analyze the most important or interesting attributes using appropriate techniques.\n",
    "- For each visualization, provide an interpretation explaining why it is appropriate or interesting. What does each visualization tell us?\n",
    "***"
   ]
  },
  {
   "cell_type": "code",
   "execution_count": null,
   "metadata": {
    "tags": []
   },
   "outputs": [],
   "source": []
  },
  {
   "cell_type": "markdown",
   "metadata": {
    "tags": []
   },
   "source": [
    "**Discussion:**\n",
    "Note that there are some suspicious values above.  These may be data quality issues.  Suggestions:\n",
    "- Fill in..."
   ]
  },
  {
   "cell_type": "code",
   "execution_count": null,
   "metadata": {},
   "outputs": [],
   "source": []
  },
  {
   "cell_type": "markdown",
   "metadata": {},
   "source": [
    "***\n",
    "## Section: 2.4 - Verify data quality: explain any missing values, duplicate data, or outliers.\n",
    "- What, if anything, do you need to do about these? Be specific.\n",
    "***"
   ]
  },
  {
   "cell_type": "markdown",
   "metadata": {
    "tags": []
   },
   "source": [
    "### **Missing Attribute Values**"
   ]
  },
  {
   "cell_type": "code",
   "execution_count": null,
   "metadata": {
    "tags": []
   },
   "outputs": [],
   "source": []
  },
  {
   "cell_type": "markdown",
   "metadata": {},
   "source": [
    "**Discussion:**\n",
    "Suggested actions:\n",
    "- Fill in..."
   ]
  },
  {
   "cell_type": "code",
   "execution_count": null,
   "metadata": {},
   "outputs": [],
   "source": []
  },
  {
   "cell_type": "markdown",
   "metadata": {
    "tags": []
   },
   "source": [
    "### **Duplicate Records**"
   ]
  },
  {
   "cell_type": "code",
   "execution_count": null,
   "metadata": {
    "tags": []
   },
   "outputs": [],
   "source": []
  },
  {
   "cell_type": "markdown",
   "metadata": {},
   "source": [
    "**Discussion:**\n",
    "Suggested actions:\n",
    "- Fill in..."
   ]
  },
  {
   "cell_type": "code",
   "execution_count": null,
   "metadata": {},
   "outputs": [],
   "source": []
  },
  {
   "cell_type": "markdown",
   "metadata": {
    "tags": []
   },
   "source": [
    "### **Outliers**\n",
    "- There are many ways to discover and handle outliers, and many resources online.  Here is a nice discussion:\n",
    "- https://stackoverflow.com/questions/23199796/detect-and-exclude-outliers-in-a-pandas-dataframe"
   ]
  },
  {
   "cell_type": "code",
   "execution_count": null,
   "metadata": {},
   "outputs": [],
   "source": []
  },
  {
   "cell_type": "markdown",
   "metadata": {},
   "source": [
    "**Discussion:**\n",
    "Suggested actions:\n",
    "- Fill in..."
   ]
  },
  {
   "cell_type": "code",
   "execution_count": null,
   "metadata": {},
   "outputs": [],
   "source": []
  },
  {
   "cell_type": "markdown",
   "metadata": {},
   "source": [
    "***\n",
    "## Section: 2.5 - Explore the relationships among the attributes.\n",
    "- You may include or exclude the class attribute as appropriate.\n",
    "- Use scatter plots, correlation matrices, cross-tabulations, group-wise averages, or other appropriate techniques. Explain and interpret any interesting relationships.\n",
    "- There are three general cases for 2-attribute relationships:\n",
    "  - Categorical vs Categorical\n",
    "  - Categorical vs Numerical\n",
    "  - Numerical vs Numerical\n",
    "***"
   ]
  },
  {
   "cell_type": "markdown",
   "metadata": {},
   "source": [
    "### **Categorical Attribute vs Categorical Attribute**"
   ]
  },
  {
   "cell_type": "code",
   "execution_count": null,
   "metadata": {
    "tags": []
   },
   "outputs": [],
   "source": []
  },
  {
   "cell_type": "markdown",
   "metadata": {
    "tags": []
   },
   "source": [
    "**Discussion:**\n",
    "- Fill in..."
   ]
  },
  {
   "cell_type": "code",
   "execution_count": null,
   "metadata": {},
   "outputs": [],
   "source": []
  },
  {
   "cell_type": "markdown",
   "metadata": {},
   "source": [
    "### **Categorical Attribute vs Numerical Attribute**"
   ]
  },
  {
   "cell_type": "code",
   "execution_count": null,
   "metadata": {
    "tags": []
   },
   "outputs": [],
   "source": []
  },
  {
   "cell_type": "markdown",
   "metadata": {},
   "source": [
    "**Discussion:**\n",
    "- Fill in..."
   ]
  },
  {
   "cell_type": "code",
   "execution_count": null,
   "metadata": {},
   "outputs": [],
   "source": []
  },
  {
   "cell_type": "markdown",
   "metadata": {},
   "source": [
    "### **Numerical Attribute vs Numerical Attribute**"
   ]
  },
  {
   "cell_type": "code",
   "execution_count": null,
   "metadata": {
    "tags": []
   },
   "outputs": [],
   "source": []
  },
  {
   "cell_type": "markdown",
   "metadata": {},
   "source": [
    "**Discussion:**\n",
    "- Fill in..."
   ]
  },
  {
   "cell_type": "code",
   "execution_count": null,
   "metadata": {},
   "outputs": [],
   "source": []
  },
  {
   "cell_type": "markdown",
   "metadata": {},
   "source": [
    "***\n",
    "## Section: 2.6 - Identify and explain any interesting relationships between the class attribute and the other attributes.\n",
    "- You may refer to earlier analyses / visualizations (if you included the class attribute above) or create new ones.\n",
    "***"
   ]
  },
  {
   "cell_type": "code",
   "execution_count": null,
   "metadata": {},
   "outputs": [],
   "source": []
  },
  {
   "cell_type": "markdown",
   "metadata": {},
   "source": [
    "**Discussion:**\n",
    "- Fill in..."
   ]
  },
  {
   "cell_type": "code",
   "execution_count": null,
   "metadata": {},
   "outputs": [],
   "source": []
  },
  {
   "cell_type": "markdown",
   "metadata": {
    "tags": []
   },
   "source": [
    "***\n",
    "# Section: 3 - Data Preparation\n",
    "In this step, the “final” target dataset is constructed (although nothing is ever final…), based on the insights gleaned in the Data Understanding step.\n",
    "This may include:\n",
    "- Normalizing / standardizing the data.\n",
    "- Handling missing and erroneous data.\n",
    "- Transforming or eliminating attributes.\n",
    "- “Blending” data from multiple sources (with attention to consistency of the various sources).\n",
    "- Deploying the data to storage in suitable formats, data models / structures.\n",
    "***"
   ]
  },
  {
   "cell_type": "markdown",
   "metadata": {
    "tags": []
   },
   "source": [
    "***\n",
    "## Section: 3.1 - Clean the Data\n",
    "- Implement any data cleaning steps previously identified.  Please justify.\n",
    "- Show the effects of that cleaning through the use of appropriate statistics and/or visualizations.\n",
    "***"
   ]
  },
  {
   "cell_type": "code",
   "execution_count": null,
   "metadata": {
    "tags": []
   },
   "outputs": [],
   "source": []
  },
  {
   "cell_type": "markdown",
   "metadata": {},
   "source": [
    "**Discussion:**\n",
    "- Fill in..."
   ]
  },
  {
   "cell_type": "code",
   "execution_count": null,
   "metadata": {
    "tags": []
   },
   "outputs": [],
   "source": []
  },
  {
   "cell_type": "markdown",
   "metadata": {
    "tags": []
   },
   "source": [
    "***\n",
    "## Section: 3.2 - Select Attributes\n",
    "- Optionally, remove attributes that are unneeded, redundant, etc., for the expected uses.\n",
    "- Which attributes did you decide to remove, if any? Please justify.\n",
    "***"
   ]
  },
  {
   "cell_type": "code",
   "execution_count": null,
   "metadata": {},
   "outputs": [],
   "source": []
  },
  {
   "cell_type": "markdown",
   "metadata": {},
   "source": [
    "**Discussion:**\n",
    "- Fill in..."
   ]
  },
  {
   "cell_type": "code",
   "execution_count": null,
   "metadata": {},
   "outputs": [],
   "source": []
  },
  {
   "cell_type": "markdown",
   "metadata": {
    "tags": []
   },
   "source": [
    "***\n",
    "## Section: 3.3 - Create Attributes\n",
    "- Optionally, create new attributes based on the values of other attibutes.\n",
    "- Which new attributes did you decide to create, if any? Please justify.\n",
    "***"
   ]
  },
  {
   "cell_type": "code",
   "execution_count": null,
   "metadata": {},
   "outputs": [],
   "source": []
  },
  {
   "cell_type": "markdown",
   "metadata": {},
   "source": [
    "**Discussion:**\n",
    "- Fill in..."
   ]
  },
  {
   "cell_type": "code",
   "execution_count": null,
   "metadata": {
    "tags": []
   },
   "outputs": [],
   "source": []
  },
  {
   "cell_type": "markdown",
   "metadata": {},
   "source": [
    "***\n",
    "## Section: 3.4 - Transform Attributes\n",
    "- Optionally, transform existing attributes (e.g., standardize, normalize, change units of measure, encode) to make them more appropriate for the expected uses.\n",
    "- Which attributes did you decide to transform, if any? Please justify.\n",
    "***"
   ]
  },
  {
   "cell_type": "code",
   "execution_count": null,
   "metadata": {},
   "outputs": [],
   "source": []
  },
  {
   "cell_type": "markdown",
   "metadata": {},
   "source": [
    "**Discussion:**\n",
    "- Fill in..."
   ]
  },
  {
   "cell_type": "code",
   "execution_count": null,
   "metadata": {
    "tags": []
   },
   "outputs": [],
   "source": []
  },
  {
   "cell_type": "markdown",
   "metadata": {},
   "source": [
    "***\n",
    "## Section: 3.5 - Select Records\n",
    "- Optionally, select a subset of the records, via sampling, etc., to decrease the size of the dataset. Please justify.\n",
    "***"
   ]
  },
  {
   "cell_type": "code",
   "execution_count": null,
   "metadata": {},
   "outputs": [],
   "source": []
  },
  {
   "cell_type": "markdown",
   "metadata": {
    "tags": []
   },
   "source": [
    "**Discussion:**\n",
    "- Fill in..."
   ]
  },
  {
   "cell_type": "code",
   "execution_count": null,
   "metadata": {
    "tags": []
   },
   "outputs": [],
   "source": []
  },
  {
   "cell_type": "markdown",
   "metadata": {},
   "source": [
    "***\n",
    "## Section: 3.6 - Other Data Preparation\n",
    "- Optionally, perform other preparation steps (e.g., to optimize storage, retrieval, etc.). Please justify.\n",
    "***"
   ]
  },
  {
   "cell_type": "code",
   "execution_count": null,
   "metadata": {},
   "outputs": [],
   "source": []
  },
  {
   "cell_type": "markdown",
   "metadata": {
    "tags": []
   },
   "source": [
    "**Discussion:**\n",
    "- Fill in..."
   ]
  },
  {
   "cell_type": "code",
   "execution_count": null,
   "metadata": {
    "tags": []
   },
   "outputs": [],
   "source": []
  },
  {
   "cell_type": "markdown",
   "metadata": {
    "tags": []
   },
   "source": [
    "***\n",
    "# Section: 4 - Modeling\n",
    "In this step, the dataset is analyzed and used to create models and/or answer questions relevant to the business. This may include:\n",
    "- Developing statistical models for describing or predicting business situations.\n",
    "- Training data mining (e.g., machine learning) algorithms for classification, clustering, association analysis, outlier detection, and other uses.\n",
    "\n",
    "NOTE: This step is tightly coupled and iterative with the Data Preparation and Evaluation steps.\n",
    "***"
   ]
  },
  {
   "cell_type": "code",
   "execution_count": null,
   "metadata": {},
   "outputs": [],
   "source": []
  },
  {
   "cell_type": "markdown",
   "metadata": {},
   "source": [
    "**Discussion:**\n",
    "- Fill in..."
   ]
  },
  {
   "cell_type": "code",
   "execution_count": null,
   "metadata": {},
   "outputs": [],
   "source": []
  },
  {
   "cell_type": "markdown",
   "metadata": {
    "tags": []
   },
   "source": [
    "***\n",
    "# Section: 5 - Evaluation\n",
    "In this step, the analyses and/or models are evaluated for quality and relevance / usefulness.\n",
    "\n",
    "NOTE: This step is tightly coupled and iterative with the Modeling step.\n",
    "***"
   ]
  },
  {
   "cell_type": "code",
   "execution_count": null,
   "metadata": {},
   "outputs": [],
   "source": []
  },
  {
   "cell_type": "markdown",
   "metadata": {},
   "source": [
    "**Discussion:**\n",
    "- Fill in..."
   ]
  },
  {
   "cell_type": "code",
   "execution_count": null,
   "metadata": {},
   "outputs": [],
   "source": []
  },
  {
   "cell_type": "markdown",
   "metadata": {
    "tags": []
   },
   "source": [
    "***\n",
    "# Section: 6 - Deployment\n",
    "In this step, data and resulting models and/or analyses are put to use. This may include:\n",
    "- Deploying data mining / machine learning algorithms to production.\n",
    "- Communicating the results of the analyses to business stakeholders, so they can take action.\n",
    "***"
   ]
  },
  {
   "cell_type": "code",
   "execution_count": null,
   "metadata": {},
   "outputs": [],
   "source": []
  },
  {
   "cell_type": "markdown",
   "metadata": {
    "tags": []
   },
   "source": [
    "**Discussion:**\n",
    "- Fill in..."
   ]
  },
  {
   "cell_type": "code",
   "execution_count": null,
   "metadata": {},
   "outputs": [],
   "source": []
  },
  {
   "cell_type": "markdown",
   "metadata": {
    "tags": []
   },
   "source": [
    "***\n",
    "# Section: Conclusions\n",
    "- What did you learn from this exercise?\n",
    "***"
   ]
  },
  {
   "cell_type": "markdown",
   "metadata": {
    "tags": []
   },
   "source": [
    "Fill in..."
   ]
  },
  {
   "cell_type": "code",
   "execution_count": null,
   "metadata": {},
   "outputs": [],
   "source": []
  }
 ],
 "metadata": {
  "kernelspec": {
   "display_name": "Python 3 (ipykernel)",
   "language": "python",
   "name": "python3"
  },
  "language_info": {
   "codemirror_mode": {
    "name": "ipython",
    "version": 3
   },
   "file_extension": ".py",
   "mimetype": "text/x-python",
   "name": "python",
   "nbconvert_exporter": "python",
   "pygments_lexer": "ipython3",
   "version": "3.7.10"
  },
  "latex_envs": {
   "LaTeX_envs_menu_present": true,
   "autoclose": false,
   "autocomplete": true,
   "bibliofile": "biblio.bib",
   "cite_by": "apalike",
   "current_citInitial": 1,
   "eqLabelWithNumbers": true,
   "eqNumInitial": 1,
   "hotkeys": {
    "equation": "Ctrl-E",
    "itemize": "Ctrl-I"
   },
   "labels_anchors": false,
   "latex_user_defs": false,
   "report_style_numbering": false,
   "user_envs_cfg": false
  }
 },
 "nbformat": 4,
 "nbformat_minor": 4
}
